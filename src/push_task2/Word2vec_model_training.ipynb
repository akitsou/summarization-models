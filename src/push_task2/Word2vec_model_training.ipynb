{
  "nbformat": 4,
  "nbformat_minor": 0,
  "metadata": {
    "colab": {
      "provenance": [],
      "gpuType": "V100"
    },
    "kernelspec": {
      "name": "python3",
      "display_name": "Python 3"
    },
    "language_info": {
      "name": "python"
    },
    "accelerator": "GPU"
  },
  "cells": [
    {
      "cell_type": "markdown",
      "source": [
        "Train a w2v model on the vocabulary of the train dataset.\n",
        "For the cases of unknown words in the test set the average w2v sould initate a vector of 0s.\n"
      ],
      "metadata": {
        "id": "718aX95UK0EB"
      }
    },
    {
      "cell_type": "code",
      "execution_count": null,
      "metadata": {
        "colab": {
          "base_uri": "https://localhost:8080/"
        },
        "id": "zPrqF-gdI8QF",
        "outputId": "884743c7-7da1-4b8d-cc9b-b9968d5644eb"
      },
      "outputs": [
        {
          "output_type": "stream",
          "name": "stdout",
          "text": [
            "Drive already mounted at /content/drive; to attempt to forcibly remount, call drive.mount(\"/content/drive\", force_remount=True).\n"
          ]
        }
      ],
      "source": [
        "from google.colab import drive\n",
        "drive.mount('/content/drive')"
      ]
    },
    {
      "cell_type": "code",
      "source": [
        "!pip install datasets contractions"
      ],
      "metadata": {
        "id": "IAhjDoSrgii2"
      },
      "execution_count": null,
      "outputs": []
    },
    {
      "cell_type": "code",
      "source": [
        "import pandas as pd\n",
        "import nltk\n",
        "nltk.download('stopwords')\n",
        "nltk.download('punkt')\n",
        "import re\n",
        "import datasets\n",
        "import contractions\n",
        "from nltk.corpus import stopwords\n",
        "from nltk.tokenize import word_tokenize, sent_tokenize\n",
        "import string\n",
        "from nltk.stem import PorterStemmer\n",
        "from nltk.stem import WordNetLemmatizer\n",
        "nltk.download('wordnet')\n",
        "from gensim.models import Word2Vec\n",
        "from sklearn.metrics.pairwise import cosine_similarity\n",
        "import numpy as np"
      ],
      "metadata": {
        "id": "6wDTt9rWYBbL",
        "colab": {
          "base_uri": "https://localhost:8080/"
        },
        "outputId": "b46fddf4-df70-4ebb-c5bc-fcbc1f60b2ad"
      },
      "execution_count": null,
      "outputs": [
        {
          "output_type": "stream",
          "name": "stderr",
          "text": [
            "[nltk_data] Downloading package stopwords to /root/nltk_data...\n",
            "[nltk_data]   Package stopwords is already up-to-date!\n",
            "[nltk_data] Downloading package punkt to /root/nltk_data...\n",
            "[nltk_data]   Package punkt is already up-to-date!\n",
            "[nltk_data] Downloading package wordnet to /root/nltk_data...\n",
            "[nltk_data]   Package wordnet is already up-to-date!\n"
          ]
        }
      ]
    },
    {
      "cell_type": "markdown",
      "source": [
        "#Load the dataset from HugginFace and save the train and test parts in .csv files"
      ],
      "metadata": {
        "id": "3hLv7r7Z65ky"
      }
    },
    {
      "cell_type": "code",
      "source": [
        "# Specify the dataset name and version\n",
        "dataset_name = \"cnn_dailymail\"\n",
        "dataset_version = \"3.0.0\"\n",
        "\n",
        "# Load a specific version of the dataset from Hugging Face\n",
        "dataset = datasets.load_dataset(dataset_name, dataset_version)\n",
        "\n",
        "# Convert the dataset to a Pandas DataFrame\n",
        "df_train = pd.DataFrame(dataset['train'])  # You can use 'train', 'test', or 'validation'\n",
        "df_train.to_csv('train.csv')\n",
        "df_val = pd.DataFrame(dataset['validation'])  # You can use 'train', 'test', or 'validation'\n",
        "df_val.to_csv('validation.csv')\n",
        "#df =pd.read_csv('/content/output_file.csv')"
      ],
      "metadata": {
        "id": "V2lq9gS9raAG"
      },
      "execution_count": null,
      "outputs": []
    },
    {
      "cell_type": "code",
      "source": [
        "df_train =pd.read_csv('/content/train.csv')\n"
      ],
      "metadata": {
        "id": "YLUPuPsXBvCR"
      },
      "execution_count": null,
      "outputs": []
    },
    {
      "cell_type": "markdown",
      "source": [
        "#Preprocessing\n",
        "Remove:\n",
        "- start and end patterns\n",
        "- parenthesis (and everything insinde them)\n",
        "- expand contractions (won't =will not)\n",
        "- stopwords\n",
        "- 's (sister's =sister)\n",
        "- sentence tokenization\n",
        "- lowercasing\n",
        "- word tokenisation\n",
        "- remove punctuation\n",
        "- non- ascii characters (e.g $ 20 million= 20 million)\n",
        "- lemmatization  \n",
        "\n",
        "**What was not removed and maybe it should be removed is the numbers!!**"
      ],
      "metadata": {
        "id": "7e3bj5_42sli"
      }
    },
    {
      "cell_type": "code",
      "source": [
        "lemmatizer = WordNetLemmatizer()\n",
        "def apply_lemmatization(tokens):\n",
        "    return [lemmatizer.lemmatize(word) for word in tokens]\n",
        "\n",
        "def apply_stemming(tokens):\n",
        "  porter = PorterStemmer()\n",
        "  return [porter.stem(word) for word in tokens]\n",
        "\n",
        "def clean_text(x):\n",
        "  puncts = [',', '.', '\"', ':', ')', '(', '-', '!', '?', '|', ';', \"'\", '$', '&', '/', '[', ']', '>', '%', '=', '#',\n",
        "              '*', '+', '\\\\', '•', '~', '@', '£',\n",
        "              '·', '_', '{', '}', '©', '^', '®', '`','--', '<', '→', '°', '€', '™', '›', '♥', '←', '×', '§', '″', '′', 'Â',\n",
        "              '█', '½', 'à', '…',\n",
        "              '“', '★', '”', '–', '●', 'â', '►', '−', '¢', '²', '¬', '░', '¶', '↑', '±', '¿', '▾', '═', '¦', '║', '―',\n",
        "              '¥', '▓', '—', '‹', '─',\n",
        "              '▒', '：', '¼', '⊕', '▼', '▪', '†', '■', '’', '▀', '¨', '▄', '♫', '☆', 'é', '¯', '♦', '¤', '▲', 'è', '¸',\n",
        "              '¾', 'Ã', '⋅', '‘', '∞',\n",
        "              '∙', '）', '↓', '、', '│', '（', '»','«', '，', '♪', '╩', '╚', '³', '・', '╦', '╣', '╔', '╗', '▬', '❤', 'ï', 'Ø',\n",
        "              '¹', '≤', '‡', '√', ]\n",
        "\n",
        "  x = str(x)\n",
        "  for punct in puncts:\n",
        "    x = x.replace(punct, f' {punct} ')\n",
        "  return x\n",
        "\n",
        "def remove_non_ascii(tokens):\n",
        "    return [word for word in tokens if re.match(r'^[^\\x00-\\x7F]+$', word) is None]\n",
        "\n",
        "def clean_and_tokenize(article):\n",
        "    # Remove text within parentheses and everything in it\n",
        "    cleaned_article = re.sub(r'\\([^)]*\\)', '', article)\n",
        "\n",
        "    # Split the text using '-- ' as the delimiter\n",
        "    parts = re.split(r'-- ', cleaned_article, maxsplit=1)\n",
        "\n",
        "    # Check if there was a match and reconstruct the text\n",
        "    cleaned_article = parts[1] if len(parts) > 1 else cleaned_article\n",
        "\n",
        "    # Remove 'E-mail to a friend' and anything that follows it\n",
        "    cleaned_article = re.sub(r'E-mail to a friend.*', '', cleaned_article)\n",
        "\n",
        "    # Expand word contractions\n",
        "    expanded_article = contractions.fix(cleaned_article)\n",
        "    # Add a period after the closing quotation mark if there is a space and a capital letter\n",
        "    text_with_period = re.sub(r'(\")([ ])([A-Z])', r'\\1.\\2\\3', expanded_article)\n",
        "    # Remove stopwords\n",
        "    stop_words = set(stopwords.words('english'))\n",
        "    word_tokens = word_tokenize(text_with_period)\n",
        "    filtered_article = [word for word in word_tokens if word.lower() not in stop_words and word.lower() != \"'s\"]\n",
        "    filtered_article = ' '.join(filtered_article)\n",
        "\n",
        "    sentences = sent_tokenize(filtered_article)\n",
        "    # Lowercase the text\n",
        "    sentences = [sentence.lower() for sentence in sentences]\n",
        "    # Tokenize sentences\n",
        "    tokenized_sentences = [word_tokenize(sentence) for sentence in sentences]\n",
        "    # Remove punctuation using custom clean_text function\n",
        "    tokenized_sentences_no_punct = [\n",
        "        [word for word in word_tokenize(clean_text(sentence)) if word not in string.punctuation]\n",
        "        for sentence in sentences]\n",
        "    tokenized_sentences_no_ascii = [\n",
        "    remove_non_ascii(sentence)\n",
        "    for sentence in tokenized_sentences_no_punct]\n",
        "    # Apply lemmatization\n",
        "    tokenized_sentences_lemmatized = [\n",
        "        apply_lemmatization(sentence)\n",
        "        for sentence in tokenized_sentences_no_ascii\n",
        "        ]\n",
        "\n",
        "    # Remove empty lists\n",
        "    tokenized_sentences_lemmatized = [sentence for sentence in tokenized_sentences_lemmatized if sentence]\n",
        "\n",
        "    return tokenized_sentences_lemmatized\n",
        "\n",
        "\n"
      ],
      "metadata": {
        "id": "P2V2E28Y2sFi"
      },
      "execution_count": null,
      "outputs": []
    },
    {
      "cell_type": "code",
      "source": [
        "df_train=df_train.head(30000)"
      ],
      "metadata": {
        "id": "nMQcsGnb2ryN"
      },
      "execution_count": null,
      "outputs": []
    },
    {
      "cell_type": "code",
      "source": [
        "df_train['cleaned_article'] = df_train['article'].apply(clean_and_tokenize)\n",
        "df_train.head()"
      ],
      "metadata": {
        "colab": {
          "base_uri": "https://localhost:8080/",
          "height": 206
        },
        "id": "2D3k0KtIs_9-",
        "outputId": "8f752eee-ee2b-43d2-cd8d-d3cacb708d58"
      },
      "execution_count": null,
      "outputs": [
        {
          "output_type": "execute_result",
          "data": {
            "text/plain": [
              "   Unnamed: 0                                            article  \\\n",
              "0           0  LONDON, England (Reuters) -- Harry Potter star...   \n",
              "1           1  Editor's note: In our Behind the Scenes series...   \n",
              "2           2  MINNEAPOLIS, Minnesota (CNN) -- Drivers who we...   \n",
              "3           3  WASHINGTON (CNN) -- Doctors removed five small...   \n",
              "4           4  (CNN)  -- The National Football League has ind...   \n",
              "\n",
              "                                          highlights  \\\n",
              "0  Harry Potter star Daniel Radcliffe gets £20M f...   \n",
              "1  Mentally ill inmates in Miami are housed on th...   \n",
              "2  NEW: \"I thought I was going to die,\" driver sa...   \n",
              "3  Five small polyps found during procedure; \"non...   \n",
              "4  NEW: NFL chief, Atlanta Falcons owner critical...   \n",
              "\n",
              "                                         id  \\\n",
              "0  42c027e4ff9730fbb3de84c1af0d2c506e41c3e4   \n",
              "1  ee8871b15c50d0db17b0179a6d2beab35065f1e9   \n",
              "2  06352019a19ae31e527f37f7571c6dd7f0c5da37   \n",
              "3  24521a2abb2e1f5e34e6824e0f9e56904a2b0e88   \n",
              "4  7fe70cc8b12fab2d0a258fababf7d9c6b5e1262a   \n",
              "\n",
              "                                     cleaned_article  \n",
              "0  [[harry, potter, star, daniel, radcliffe, gain...  \n",
              "1  [[ninth, floor, miami, dade, pretrial, detenti...  \n",
              "2  [[driver, minneapolis, bridge, collapsed, told...  \n",
              "3  [[doctor, removed, five, small, polyp, preside...  \n",
              "4  [[national, football, league, indefinitely, su...  "
            ],
            "text/html": [
              "\n",
              "  <div id=\"df-47e1c56e-b9df-44d6-b05a-7598e3e5fd51\" class=\"colab-df-container\">\n",
              "    <div>\n",
              "<style scoped>\n",
              "    .dataframe tbody tr th:only-of-type {\n",
              "        vertical-align: middle;\n",
              "    }\n",
              "\n",
              "    .dataframe tbody tr th {\n",
              "        vertical-align: top;\n",
              "    }\n",
              "\n",
              "    .dataframe thead th {\n",
              "        text-align: right;\n",
              "    }\n",
              "</style>\n",
              "<table border=\"1\" class=\"dataframe\">\n",
              "  <thead>\n",
              "    <tr style=\"text-align: right;\">\n",
              "      <th></th>\n",
              "      <th>Unnamed: 0</th>\n",
              "      <th>article</th>\n",
              "      <th>highlights</th>\n",
              "      <th>id</th>\n",
              "      <th>cleaned_article</th>\n",
              "    </tr>\n",
              "  </thead>\n",
              "  <tbody>\n",
              "    <tr>\n",
              "      <th>0</th>\n",
              "      <td>0</td>\n",
              "      <td>LONDON, England (Reuters) -- Harry Potter star...</td>\n",
              "      <td>Harry Potter star Daniel Radcliffe gets £20M f...</td>\n",
              "      <td>42c027e4ff9730fbb3de84c1af0d2c506e41c3e4</td>\n",
              "      <td>[[harry, potter, star, daniel, radcliffe, gain...</td>\n",
              "    </tr>\n",
              "    <tr>\n",
              "      <th>1</th>\n",
              "      <td>1</td>\n",
              "      <td>Editor's note: In our Behind the Scenes series...</td>\n",
              "      <td>Mentally ill inmates in Miami are housed on th...</td>\n",
              "      <td>ee8871b15c50d0db17b0179a6d2beab35065f1e9</td>\n",
              "      <td>[[ninth, floor, miami, dade, pretrial, detenti...</td>\n",
              "    </tr>\n",
              "    <tr>\n",
              "      <th>2</th>\n",
              "      <td>2</td>\n",
              "      <td>MINNEAPOLIS, Minnesota (CNN) -- Drivers who we...</td>\n",
              "      <td>NEW: \"I thought I was going to die,\" driver sa...</td>\n",
              "      <td>06352019a19ae31e527f37f7571c6dd7f0c5da37</td>\n",
              "      <td>[[driver, minneapolis, bridge, collapsed, told...</td>\n",
              "    </tr>\n",
              "    <tr>\n",
              "      <th>3</th>\n",
              "      <td>3</td>\n",
              "      <td>WASHINGTON (CNN) -- Doctors removed five small...</td>\n",
              "      <td>Five small polyps found during procedure; \"non...</td>\n",
              "      <td>24521a2abb2e1f5e34e6824e0f9e56904a2b0e88</td>\n",
              "      <td>[[doctor, removed, five, small, polyp, preside...</td>\n",
              "    </tr>\n",
              "    <tr>\n",
              "      <th>4</th>\n",
              "      <td>4</td>\n",
              "      <td>(CNN)  -- The National Football League has ind...</td>\n",
              "      <td>NEW: NFL chief, Atlanta Falcons owner critical...</td>\n",
              "      <td>7fe70cc8b12fab2d0a258fababf7d9c6b5e1262a</td>\n",
              "      <td>[[national, football, league, indefinitely, su...</td>\n",
              "    </tr>\n",
              "  </tbody>\n",
              "</table>\n",
              "</div>\n",
              "    <div class=\"colab-df-buttons\">\n",
              "\n",
              "  <div class=\"colab-df-container\">\n",
              "    <button class=\"colab-df-convert\" onclick=\"convertToInteractive('df-47e1c56e-b9df-44d6-b05a-7598e3e5fd51')\"\n",
              "            title=\"Convert this dataframe to an interactive table.\"\n",
              "            style=\"display:none;\">\n",
              "\n",
              "  <svg xmlns=\"http://www.w3.org/2000/svg\" height=\"24px\" viewBox=\"0 -960 960 960\">\n",
              "    <path d=\"M120-120v-720h720v720H120Zm60-500h600v-160H180v160Zm220 220h160v-160H400v160Zm0 220h160v-160H400v160ZM180-400h160v-160H180v160Zm440 0h160v-160H620v160ZM180-180h160v-160H180v160Zm440 0h160v-160H620v160Z\"/>\n",
              "  </svg>\n",
              "    </button>\n",
              "\n",
              "  <style>\n",
              "    .colab-df-container {\n",
              "      display:flex;\n",
              "      gap: 12px;\n",
              "    }\n",
              "\n",
              "    .colab-df-convert {\n",
              "      background-color: #E8F0FE;\n",
              "      border: none;\n",
              "      border-radius: 50%;\n",
              "      cursor: pointer;\n",
              "      display: none;\n",
              "      fill: #1967D2;\n",
              "      height: 32px;\n",
              "      padding: 0 0 0 0;\n",
              "      width: 32px;\n",
              "    }\n",
              "\n",
              "    .colab-df-convert:hover {\n",
              "      background-color: #E2EBFA;\n",
              "      box-shadow: 0px 1px 2px rgba(60, 64, 67, 0.3), 0px 1px 3px 1px rgba(60, 64, 67, 0.15);\n",
              "      fill: #174EA6;\n",
              "    }\n",
              "\n",
              "    .colab-df-buttons div {\n",
              "      margin-bottom: 4px;\n",
              "    }\n",
              "\n",
              "    [theme=dark] .colab-df-convert {\n",
              "      background-color: #3B4455;\n",
              "      fill: #D2E3FC;\n",
              "    }\n",
              "\n",
              "    [theme=dark] .colab-df-convert:hover {\n",
              "      background-color: #434B5C;\n",
              "      box-shadow: 0px 1px 3px 1px rgba(0, 0, 0, 0.15);\n",
              "      filter: drop-shadow(0px 1px 2px rgba(0, 0, 0, 0.3));\n",
              "      fill: #FFFFFF;\n",
              "    }\n",
              "  </style>\n",
              "\n",
              "    <script>\n",
              "      const buttonEl =\n",
              "        document.querySelector('#df-47e1c56e-b9df-44d6-b05a-7598e3e5fd51 button.colab-df-convert');\n",
              "      buttonEl.style.display =\n",
              "        google.colab.kernel.accessAllowed ? 'block' : 'none';\n",
              "\n",
              "      async function convertToInteractive(key) {\n",
              "        const element = document.querySelector('#df-47e1c56e-b9df-44d6-b05a-7598e3e5fd51');\n",
              "        const dataTable =\n",
              "          await google.colab.kernel.invokeFunction('convertToInteractive',\n",
              "                                                    [key], {});\n",
              "        if (!dataTable) return;\n",
              "\n",
              "        const docLinkHtml = 'Like what you see? Visit the ' +\n",
              "          '<a target=\"_blank\" href=https://colab.research.google.com/notebooks/data_table.ipynb>data table notebook</a>'\n",
              "          + ' to learn more about interactive tables.';\n",
              "        element.innerHTML = '';\n",
              "        dataTable['output_type'] = 'display_data';\n",
              "        await google.colab.output.renderOutput(dataTable, element);\n",
              "        const docLink = document.createElement('div');\n",
              "        docLink.innerHTML = docLinkHtml;\n",
              "        element.appendChild(docLink);\n",
              "      }\n",
              "    </script>\n",
              "  </div>\n",
              "\n",
              "\n",
              "<div id=\"df-2c88c5c8-d187-4a1a-8483-afdf9c996a6b\">\n",
              "  <button class=\"colab-df-quickchart\" onclick=\"quickchart('df-2c88c5c8-d187-4a1a-8483-afdf9c996a6b')\"\n",
              "            title=\"Suggest charts\"\n",
              "            style=\"display:none;\">\n",
              "\n",
              "<svg xmlns=\"http://www.w3.org/2000/svg\" height=\"24px\"viewBox=\"0 0 24 24\"\n",
              "     width=\"24px\">\n",
              "    <g>\n",
              "        <path d=\"M19 3H5c-1.1 0-2 .9-2 2v14c0 1.1.9 2 2 2h14c1.1 0 2-.9 2-2V5c0-1.1-.9-2-2-2zM9 17H7v-7h2v7zm4 0h-2V7h2v10zm4 0h-2v-4h2v4z\"/>\n",
              "    </g>\n",
              "</svg>\n",
              "  </button>\n",
              "\n",
              "<style>\n",
              "  .colab-df-quickchart {\n",
              "      --bg-color: #E8F0FE;\n",
              "      --fill-color: #1967D2;\n",
              "      --hover-bg-color: #E2EBFA;\n",
              "      --hover-fill-color: #174EA6;\n",
              "      --disabled-fill-color: #AAA;\n",
              "      --disabled-bg-color: #DDD;\n",
              "  }\n",
              "\n",
              "  [theme=dark] .colab-df-quickchart {\n",
              "      --bg-color: #3B4455;\n",
              "      --fill-color: #D2E3FC;\n",
              "      --hover-bg-color: #434B5C;\n",
              "      --hover-fill-color: #FFFFFF;\n",
              "      --disabled-bg-color: #3B4455;\n",
              "      --disabled-fill-color: #666;\n",
              "  }\n",
              "\n",
              "  .colab-df-quickchart {\n",
              "    background-color: var(--bg-color);\n",
              "    border: none;\n",
              "    border-radius: 50%;\n",
              "    cursor: pointer;\n",
              "    display: none;\n",
              "    fill: var(--fill-color);\n",
              "    height: 32px;\n",
              "    padding: 0;\n",
              "    width: 32px;\n",
              "  }\n",
              "\n",
              "  .colab-df-quickchart:hover {\n",
              "    background-color: var(--hover-bg-color);\n",
              "    box-shadow: 0 1px 2px rgba(60, 64, 67, 0.3), 0 1px 3px 1px rgba(60, 64, 67, 0.15);\n",
              "    fill: var(--button-hover-fill-color);\n",
              "  }\n",
              "\n",
              "  .colab-df-quickchart-complete:disabled,\n",
              "  .colab-df-quickchart-complete:disabled:hover {\n",
              "    background-color: var(--disabled-bg-color);\n",
              "    fill: var(--disabled-fill-color);\n",
              "    box-shadow: none;\n",
              "  }\n",
              "\n",
              "  .colab-df-spinner {\n",
              "    border: 2px solid var(--fill-color);\n",
              "    border-color: transparent;\n",
              "    border-bottom-color: var(--fill-color);\n",
              "    animation:\n",
              "      spin 1s steps(1) infinite;\n",
              "  }\n",
              "\n",
              "  @keyframes spin {\n",
              "    0% {\n",
              "      border-color: transparent;\n",
              "      border-bottom-color: var(--fill-color);\n",
              "      border-left-color: var(--fill-color);\n",
              "    }\n",
              "    20% {\n",
              "      border-color: transparent;\n",
              "      border-left-color: var(--fill-color);\n",
              "      border-top-color: var(--fill-color);\n",
              "    }\n",
              "    30% {\n",
              "      border-color: transparent;\n",
              "      border-left-color: var(--fill-color);\n",
              "      border-top-color: var(--fill-color);\n",
              "      border-right-color: var(--fill-color);\n",
              "    }\n",
              "    40% {\n",
              "      border-color: transparent;\n",
              "      border-right-color: var(--fill-color);\n",
              "      border-top-color: var(--fill-color);\n",
              "    }\n",
              "    60% {\n",
              "      border-color: transparent;\n",
              "      border-right-color: var(--fill-color);\n",
              "    }\n",
              "    80% {\n",
              "      border-color: transparent;\n",
              "      border-right-color: var(--fill-color);\n",
              "      border-bottom-color: var(--fill-color);\n",
              "    }\n",
              "    90% {\n",
              "      border-color: transparent;\n",
              "      border-bottom-color: var(--fill-color);\n",
              "    }\n",
              "  }\n",
              "</style>\n",
              "\n",
              "  <script>\n",
              "    async function quickchart(key) {\n",
              "      const quickchartButtonEl =\n",
              "        document.querySelector('#' + key + ' button');\n",
              "      quickchartButtonEl.disabled = true;  // To prevent multiple clicks.\n",
              "      quickchartButtonEl.classList.add('colab-df-spinner');\n",
              "      try {\n",
              "        const charts = await google.colab.kernel.invokeFunction(\n",
              "            'suggestCharts', [key], {});\n",
              "      } catch (error) {\n",
              "        console.error('Error during call to suggestCharts:', error);\n",
              "      }\n",
              "      quickchartButtonEl.classList.remove('colab-df-spinner');\n",
              "      quickchartButtonEl.classList.add('colab-df-quickchart-complete');\n",
              "    }\n",
              "    (() => {\n",
              "      let quickchartButtonEl =\n",
              "        document.querySelector('#df-2c88c5c8-d187-4a1a-8483-afdf9c996a6b button');\n",
              "      quickchartButtonEl.style.display =\n",
              "        google.colab.kernel.accessAllowed ? 'block' : 'none';\n",
              "    })();\n",
              "  </script>\n",
              "</div>\n",
              "    </div>\n",
              "  </div>\n"
            ]
          },
          "metadata": {},
          "execution_count": 11
        }
      ]
    },
    {
      "cell_type": "code",
      "source": [
        "rows_to_display = [0,1,2]  # Replace with the row indices you want to check\n",
        "\n",
        "for row_index in rows_to_display:\n",
        "    print(f\"Row {row_index}:\")\n",
        "    print(df_train['cleaned_article'].iloc[row_index])\n",
        "    print(\"\\n---\\n\")"
      ],
      "metadata": {
        "colab": {
          "base_uri": "https://localhost:8080/"
        },
        "id": "Lb03nfatleWK",
        "outputId": "d75349ce-ae9d-42f5-f343-80b4fc0e137a"
      },
      "execution_count": null,
      "outputs": [
        {
          "output_type": "stream",
          "name": "stdout",
          "text": [
            "Row 0:\n",
            "[['harry', 'potter', 'star', 'daniel', 'radcliffe', 'gain', 'access', 'reported', '20', 'million', 'fortune', 'turn', '18', 'monday', 'insists', 'money', 'cast', 'spell'], ['daniel', 'radcliffe', 'harry', 'potter', 'harry', 'potter', 'order', 'phoenix'], ['disappointment', 'gossip', 'columnist', 'around', 'world', 'young', 'actor', 'say', 'plan', 'fritter', 'cash', 'away', 'fast', 'car', 'drink', 'celebrity', 'party'], ['plan', 'one', 'people', 'soon', 'turn', '18', 'suddenly', 'buy', 'massive', 'sport', 'car', 'collection', 'something', 'similar', 'told', 'australian', 'interviewer', 'earlier', 'month'], ['think', 'particularly', 'extravagant'], ['thing', 'like', 'buying', 'thing', 'cost', '10', 'pound', 'book', 'cd', 'dvd'], ['18', 'radcliffe', 'able', 'gamble', 'casino', 'buy', 'drink', 'pub', 'see', 'horror', 'film', 'hostel', 'part', 'ii', 'currently', 'six', 'place', 'number', 'one', 'movie', 'uk', 'box', 'office', 'chart'], ['detail', 'mark', 'landmark', 'birthday', 'wrap'], ['agent', 'publicist', 'comment', 'plan'], ['definitely', 'sort', 'party', 'said', 'interview'], ['hopefully', 'none', 'reading', 'it'], ['radcliffe', 'earnings', 'first', 'five', 'potter', 'film', 'held', 'trust', 'fund', 'able', 'touch'], ['despite', 'growing', 'fame', 'rich', 'actor', 'say', 'keeping', 'foot', 'firmly', 'ground'], ['people', 'always', 'looking', 'say', 'kid', 'star', 'go', 'rail', 'told', 'reporter', 'last', 'month'], ['try', 'hard', 'go', 'way', 'would', 'easy', 'them'], ['latest', 'outing', 'boy', 'wizard', 'harry', 'potter', 'order', 'phoenix', 'breaking', 'record', 'side', 'atlantic', 'reprise', 'role', 'last', 'two', 'film'], ['watch', 'i', 'reporter', 'give', 'review', 'potter', 'latest'], ['life', 'beyond', 'potter', 'however'], ['londoner', 'filmed', 'tv', 'movie', 'called', 'boy', 'jack', 'author', 'rudyard', 'kipling', 'son', 'due', 'release', 'later', 'year'], ['also', 'appear', 'december', 'boy', 'australian', 'film', 'four', 'boy', 'escape', 'orphanage'], ['earlier', 'year', 'made', 'stage', 'debut', 'playing', 'tortured', 'teenager', 'peter', 'shaffer', 'equus'], ['meanwhile', 'braced', 'even', 'closer', 'medium', 'scrutiny', 'legally', 'adult', 'think', 'going', 'sort', 'fair', 'game', 'told', 'reuters']]\n",
            "\n",
            "---\n",
            "\n",
            "Row 1:\n",
            "[['ninth', 'floor', 'miami', 'dade', 'pretrial', 'detention', 'facility', 'dubbed', 'forgotten', 'floor'], ['inmate', 'severe', 'mental', 'illness', 'incarcerated', 'ready', 'appear', 'court'], ['often', 'face', 'drug', 'charge', 'charge', 'assaulting', 'officer', 'charge', 'judge', 'steven', 'leifman', 'say', 'usually', 'avoidable', 'felony'], ['say', 'arrest', 'often', 'result', 'confrontation', 'police'], ['mentally', 'ill', 'people', 'often', 'told', 'police', 'arrive', 'scene', 'confrontation', 'seems', 'exacerbate', 'illness', 'become', 'paranoid', 'delusional', 'le', 'likely', 'follow', 'direction', 'according', 'leifman'], ['end', 'ninth', 'floor', 'severely', 'mentally', 'disturbed', 'getting', 'real', 'help', 'jail'], ['toured', 'jail', 'leifman'], ['well', 'known', 'miami', 'advocate', 'justice', 'mentally', 'ill'], ['even', 'though', 'exactly', 'welcomed', 'open', 'arm', 'guard', 'given', 'permission', 'shoot', 'videotape', 'tour', 'floor'], ['go', 'inside', 'forgotten', 'floor'], ['first', 'hard', 'determine', 'people'], ['prisoner', 'wearing', 'sleeveless', 'robe'], ['imagine', 'cutting', 'hole', 'arm', 'foot', 'heavy', 'wool', 'sleeping', 'bag', 'kind', 'look', 'like'], ['designed', 'keep', 'mentally', 'ill', 'patient', 'injuring'], ['also', 'shoe', 'lace', 'mattress'], ['leifman', 'say', 'one', 'third', 'people', 'miami', 'dade', 'county', 'jail', 'mentally', 'ill'], ['say', 'sheer', 'volume', 'overwhelming', 'system', 'result', 'see', 'ninth', 'floor'], ['course', 'jail', 'supposed', 'warm', 'comforting', 'light', 'glare', 'cell', 'tiny', 'loud'], ['see', 'two', 'sometimes', 'three', 'men', 'sometimes', 'robe', 'sometimes', 'naked', 'lying', 'sitting', 'cell'], ['son', 'president'], ['need', 'get'], ['one', 'man', 'shout'], ['absolutely', 'serious', 'convinced', 'help', 'way', 'could', 'reach', 'white', 'house'], ['leifman', 'tell', 'prisoner', 'patient', 'often', 'circulate', 'system', 'occasionally', 'stabilizing', 'mental', 'hospital', 'return', 'jail', 'face', 'charge'], ['brutally', 'unjust', 'mind', 'become', 'strong', 'advocate', 'changing', 'thing', 'miami'], ['meal', 'later', 'talk', 'thing', 'got', 'way', 'mental', 'patient'], ['leifman', 'say', '200', 'year', 'ago', 'people', 'considered', 'lunatic', 'locked', 'jail', 'even', 'charge'], ['considered', 'unfit', 'society'], ['year', 'say', 'public', 'outcry', 'mentally', 'ill', 'moved', 'jail', 'hospital'], ['leifman', 'say', 'many', 'mental', 'hospital', 'horrible', 'shut'], ['patient', 'go'], ['nowhere'], ['street'], ['became', 'many', 'case', 'homeless', 'say'], ['never', 'got', 'treatment'], ['leifman', 'say', '1955', 'half', 'million', 'people', 'state', 'mental', 'hospital', 'today', 'number', 'reduced', '90', 'percent', '40', '000', '50', '000', 'people', 'mental', 'hospital'], ['judge', 'say', 'working', 'change'], ['starting', '2008', 'many', 'inmate', 'would', 'otherwise', 'brought', 'forgotten', 'floor', 'instead', 'sent', 'new', 'mental', 'health', 'facility', 'first', 'step', 'journey', 'toward', 'long', 'term', 'treatment', 'punishment'], ['leifman', 'say', 'complete', 'answer', 'start'], ['leifman', 'say', 'best', 'part', 'win', 'win', 'solution'], ['patient', 'win', 'family', 'relieved', 'state', 'save', 'money', 'simply', 'cycling', 'prisoner'], ['leifman', 'justice', 'served']]\n",
            "\n",
            "---\n",
            "\n",
            "Row 2:\n",
            "[['driver', 'minneapolis', 'bridge', 'collapsed', 'told', 'harrowing', 'tale', 'survival'], ['whole', 'bridge', 'one', 'side', 'mississippi', 'completely', 'gave', 'way', 'fell', 'way', 'survivor', 'gary', 'babineau', 'told', 'cnn'], ['probably', '30', '35', 'foot', 'free', 'fall'], ['car', 'water', 'car', 'fire'], ['whole', 'bridge', 'down'], ['said', 'back', 'injured', 'determined', 'could', 'move', 'around'], ['realized', 'school', 'bus', 'right', 'next', 'couple', 'guy', 'went', 'started', 'lifting', 'kid', 'bridge'], ['yelling', 'screaming', 'bleeding'], ['think', 'broken', 'bone'], ['watch', 'driver', 'describe', 'narrow', 'escape'], ['home', 'heard', 'disaster', 'dr', 'john', 'hink', 'emergency', 'room', 'physician', 'jumped', 'car', 'rushed', 'scene', '15', 'minute'], ['arrived', 'south', 'side', 'bridge', 'stood', 'riverbank', 'saw', 'dozen', 'people', 'lying', 'dazed', 'expansive', 'deck'], ['middle', 'mississippi', 'river', 'churning', 'fast', 'way', 'getting'], ['went', 'north', 'side', 'easier', 'access', 'people'], ['ambulance', 'also', 'hard', 'time', 'driving', 'river', 'get', 'closer', 'scene'], ['working', 'feverishly', 'volunteer', 'emts', 'official', 'managed', 'get', '55', 'people', 'ambulance', 'le', 'two', 'hour'], ['occasionally', 'pickup', 'truck', 'medic', 'inside', 'would', 'drive', 'get', 'injured', 'person', 'bring', 'back', 'even', 'ground', 'hink', 'told', 'cnn'], ['rescue', 'effort', 'controlled', 'organized', 'said', 'opposite', 'lightning', 'quick', 'collapse'], ['could', 'see', 'whole', 'bridge', 'going', 'falling'], ['babineau', 'said'], ['gave', 'rumble', 'real', 'quick', 'gave', 'way', 'fell', 'completely', 'way', 'ground'], ['dust', 'everywhere', 'like', 'everyone', 'saying', 'like', 'movie'], ['babineau', 'said', 'rear', 'pickup', 'truck', 'dangling', 'edge', 'broken', 'off', 'section', 'bridge'], ['said', 'several', 'vehicle', 'slid', 'past', 'water'], ['stayed', 'car', 'one', 'two', 'second'], ['saw', 'couple', 'car', 'fall', 'said'], ['stayed', 'car', 'car', 'quit', 'falling', 'second', 'got', 'real', 'quick', 'ran', 'front', 'truck', 'behind', 'truck', 'hole', 'helped', 'woman', 'bridge'], ['wanted', 'bridge', 'ran', 'school', 'bus'], ['started', 'grabbing', 'kid', 'handing'], ['complete', 'chaos'], ['said', 'child', 'cry', 'screaming'], ['rescuer', 'set', 'ground', 'told', 'run', 'river', 'bank', 'needed', 'carried', 'injury'], ['see', 'rescuer', 'clamber', 'rubble'], ['babineau', 'said', 'rescue', 'training'], ['knew', 'moment'], ['melissa', 'hughes', '32', 'minneapolis', 'told', 'associated', 'press', 'driving', 'home', 'western', 'edge', 'bridge', 'collapsed'], ['know', 'free', 'fall', 'feeling'], ['felt', 'twice'], ['hughes', 'said'], ['pickup', 'landed', 'top', 'car', 'hurt'], ['idea', 'vehicle', 'car', 'told', 'ap'], ['really', 'surreal'], ['babineau', 'told', 'minneapolis', 'star', 'tribune', 'way', 'thought', 'dead'], ['literally', 'thought', 'dead'], ['truck', 'completely', 'face', 'pointed', 'toward', 'ground', 'truck', 'got', 'ripped', 'half'], ['folded', 'half', 'believe', 'alive'], ['see', 'hear', 'eyewitness', 'account'], ['bernie', 'toivonen', 'told', 'cnn', 'american', 'morning', 'vehicle', 'part', 'bridge', 'ended', 'tilted', '45', 'degree', 'angle'], ['knew', 'deck', 'going', 'question', 'thought', 'going', 'die', 'said'], ['bridge', 'settled', 'car', 'remained', 'upright', 'put', 'park', 'turned', 'key', 'said', 'oh', 'alive', 'said']]\n",
            "\n",
            "---\n",
            "\n"
          ]
        }
      ]
    },
    {
      "cell_type": "markdown",
      "source": [
        "#Word2vec embeddings\n",
        "\n",
        "**For 30.000 rows it took ~30 min, so for 287.000 it will probably take around 4h.**"
      ],
      "metadata": {
        "id": "Msx2_xh8AOqL"
      }
    },
    {
      "cell_type": "code",
      "source": [
        "df=df_train['cleaned_article']\n"
      ],
      "metadata": {
        "id": "mZixMsPKDX4E"
      },
      "execution_count": null,
      "outputs": []
    },
    {
      "cell_type": "code",
      "source": [
        "all_tokenized_sentences = [sentence for sublist in df for sentence in sublist]\n",
        "len(all_tokenized_sentences)\n"
      ],
      "metadata": {
        "id": "OlQSNSmjEM9c",
        "colab": {
          "base_uri": "https://localhost:8080/"
        },
        "outputId": "2868bddf-f96d-47a4-94f2-2146f4a386e1"
      },
      "execution_count": null,
      "outputs": [
        {
          "output_type": "execute_result",
          "data": {
            "text/plain": [
              "985174"
            ]
          },
          "metadata": {},
          "execution_count": 14
        }
      ]
    },
    {
      "cell_type": "code",
      "source": [
        "import matplotlib.pyplot as plt\n",
        "\n",
        "# Calculate sentence lengths\n",
        "sentence_lengths = [len(sentence) for sentence in all_tokenized_sentences]\n",
        "\n",
        "fig, axs = plt.subplots(1, 2, figsize=(12, 5))\n",
        "# Plot the histogram\n",
        "axs[0].hist(sentence_lengths, bins=30, color='blue', edgecolor='black', alpha=0.7)\n",
        "axs[0].set_title('Distribution of Sentence Lengths')\n",
        "axs[0].set_xlabel('Sentence Length')\n",
        "axs[0].set_ylabel('Frequency')\n",
        "# Plot the boxplot with adjusted y-axis limits for zooming in\n",
        "axs[1].boxplot(sentence_lengths)\n",
        "axs[1].set_title('Boxplot of Sentence Lengths')\n",
        "axs[1].set_ylabel('Sentence Length')\n",
        "\n",
        "# Adjust y-axis limits for the boxplot\n",
        "axs[1].set_ylim(0, max(sentence_lengths) + 10)\n",
        "\n",
        "# Adjust layout to prevent overlapping\n",
        "plt.tight_layout()\n",
        "\n",
        "# Show the plots\n",
        "plt.show()"
      ],
      "metadata": {
        "colab": {
          "base_uri": "https://localhost:8080/",
          "height": 507
        },
        "id": "yxdcq6JXETIk",
        "outputId": "525a2823-a453-45d9-a146-b7e10c5f2701"
      },
      "execution_count": null,
      "outputs": [
        {
          "output_type": "display_data",
          "data": {
            "text/plain": [
              "<Figure size 1200x500 with 2 Axes>"
            ],
            "image/png": "[encoded data removed]"
          },
          "metadata": {}
        }
      ]
    },
    {
      "cell_type": "code",
      "source": [
        "from scipy.stats import skew\n",
        "skewness = skew(sentence_lengths)\n",
        "print(\"Skewness:\", skewness)"
      ],
      "metadata": {
        "id": "USmrhLDREX81",
        "colab": {
          "base_uri": "https://localhost:8080/"
        },
        "outputId": "6895f869-1fb4-4aa2-a0b9-7ba56d43de4b"
      },
      "execution_count": null,
      "outputs": [
        {
          "output_type": "stream",
          "name": "stdout",
          "text": [
            "Skewness: 1.118154026088167\n"
          ]
        }
      ]
    },
    {
      "cell_type": "code",
      "source": [
        "mean_sentence_length = sum(sentence_lengths) / len(sentence_lengths)\n",
        "\n",
        "print(\"Mean Sentence Length:\", mean_sentence_length)"
      ],
      "metadata": {
        "colab": {
          "base_uri": "https://localhost:8080/"
        },
        "id": "zSeGx_UdGxZk",
        "outputId": "80147c20-f342-4b41-c297-9da11d102cfd"
      },
      "execution_count": null,
      "outputs": [
        {
          "output_type": "stream",
          "name": "stdout",
          "text": [
            "Mean Sentence Length: 10.54761595413602\n"
          ]
        }
      ]
    },
    {
      "cell_type": "code",
      "source": [
        "model_w2v=Word2Vec(sg = 1,min_count=1,window=4,vector_size=200, alpha=0.01, hs=0,negative=10,workers=3,sample=0.001, shrink_windows=True)\n",
        "model_w2v.build_vocab(all_tokenized_sentences)\n",
        "\n",
        "model_w2v.train(all_tokenized_sentences, total_examples= len(all_tokenized_sentences), epochs=20)"
      ],
      "metadata": {
        "colab": {
          "base_uri": "https://localhost:8080/"
        },
        "id": "0ZZrjwq4EuwT",
        "outputId": "b946d053-d23a-4328-fcc3-678741869175"
      },
      "execution_count": null,
      "outputs": [
        {
          "output_type": "execute_result",
          "data": {
            "text/plain": [
              "(203809417, 207824740)"
            ]
          },
          "metadata": {},
          "execution_count": 18
        }
      ]
    },
    {
      "cell_type": "code",
      "source": [
        "# Get the list of words in the vocabulary\n",
        "words = model_w2v.wv.key_to_index\n",
        "print('Total number of unique words loaded in Model: ', len(model_w2v.wv.key_to_index))\n",
        "\n",
        "# Create a corresponding list of the count for each word\n",
        "word_ranks = []\n",
        "for word in words:\n",
        "    word_ranks.append(model_w2v.wv.get_vecattr(word, 'count'))\n",
        "\n",
        "# Sort both lists by the word counts, descending (most frequent first)\n",
        "word_ranks, words = map(list, zip(*sorted(zip(word_ranks, words), reverse=True)))\n",
        "\n",
        "print('\\nThe 30 most frequent words:\\n')\n",
        "print('    ---Rank---  ---Word---')\n",
        "\n",
        "# For the 30 most frequent words\n",
        "for i in range(30):\n",
        "    # Print the rank with commas and pad it to 12 characters.\n",
        "    print('{:>12,}     {:}'.format(word_ranks[i], words[i]))\n",
        "\n",
        "print('\\nThe 30 least frequent words:\\n')\n",
        "print('    ---Rank---   ---Word---')\n",
        "\n",
        "# Go backward through the last 30 indices\n",
        "for i in range(-1, -31, -1):\n",
        "    # Print the count with commas and pad it to 12 characters.\n",
        "    print('{:>12,}     {:}'.format(word_ranks[i], words[i]))\n",
        "\n"
      ],
      "metadata": {
        "colab": {
          "base_uri": "https://localhost:8080/"
        },
        "id": "J0aIKZsT7rFB",
        "outputId": "2cf8f170-ea18-44ac-fafc-47d9316a6970"
      },
      "execution_count": null,
      "outputs": [
        {
          "output_type": "stream",
          "name": "stdout",
          "text": [
            "Total number of unique words loaded in Model:  119268\n",
            "\n",
            "The 30 most frequent words:\n",
            "\n",
            "    ---Rank---  ---Word---\n",
            "     171,458     said\n",
            "      55,627     year\n",
            "      46,363     one\n",
            "      43,167     people\n",
            "      39,197     would\n",
            "      35,856     time\n",
            "      33,354     say\n",
            "      32,900     state\n",
            "      31,625     two\n",
            "      31,406     also\n",
            "      31,016     new\n",
            "      30,188     cnn\n",
            "      28,793     you\n",
            "      25,807     day\n",
            "      25,391     first\n",
            "      25,262     s\n",
            "      25,247     told\n",
            "      23,908     like\n",
            "      23,249     last\n",
            "      22,588     government\n",
            "      22,530     president\n",
            "      22,421     could\n",
            "      22,340     world\n",
            "      21,464     police\n",
            "      21,099     country\n",
            "      20,215     according\n",
            "      19,703     official\n",
            "      19,228     get\n",
            "      18,638     report\n",
            "      17,770     home\n",
            "\n",
            "The 30 least frequent words:\n",
            "\n",
            "    ---Rank---   ---Word---\n",
            "           1     00004\n",
            "           1     0001\n",
            "           1     00012\n",
            "           1     0007\n",
            "           1     0008\n",
            "           1     000rpk\n",
            "           1     000ths\n",
            "           1     0010\n",
            "           1     0011\n",
            "           1     001st\n",
            "           1     0029\n",
            "           1     0044\n",
            "           1     0056\n",
            "           1     0058\n",
            "           1     0063\n",
            "           1     0075\n",
            "           1     0083\n",
            "           1     0098\n",
            "           1     00s\n",
            "           1     0104\n",
            "           1     0109\n",
            "           1     0111\n",
            "           1     0119\n",
            "           1     0135\n",
            "           1     0141\n",
            "           1     014487\n",
            "           1     0147\n",
            "           1     0171\n",
            "           1     0187\n",
            "           1     0188\n"
          ]
        }
      ]
    },
    {
      "cell_type": "code",
      "source": [
        "word_vectors = model_w2v.wv\n",
        "print('The vocabulary includes {} unique words.'.format(len(word_vectors.key_to_index)))\n",
        "vector = model_w2v.wv['nice']\n",
        "print('The length of a word vector according to the parameter \"size\": ',len(vector))\n",
        "print('Numpy vector of the word \"nice\":\\n',vector)"
      ],
      "metadata": {
        "id": "71wzLAy076Ym"
      },
      "execution_count": null,
      "outputs": []
    },
    {
      "cell_type": "code",
      "source": [
        "model_w2v.save('/content/w2v_summ.model')\n"
      ],
      "metadata": {
        "id": "HSy1amcxHswk"
      },
      "execution_count": null,
      "outputs": []
    },
    {
      "cell_type": "code",
      "source": [
        "model = Word2Vec.load(\"w2v_summ.model\")\n"
      ],
      "metadata": {
        "id": "KmOmXoawH6dl"
      },
      "execution_count": null,
      "outputs": []
    }
  ]
}