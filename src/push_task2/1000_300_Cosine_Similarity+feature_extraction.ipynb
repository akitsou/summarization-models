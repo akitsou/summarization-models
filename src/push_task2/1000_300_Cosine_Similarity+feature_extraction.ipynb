{
  "nbformat": 4,
  "nbformat_minor": 0,
  "metadata": {
    "colab": {
      "provenance": []
    },
    "kernelspec": {
      "name": "python3",
      "display_name": "Python 3"
    },
    "language_info": {
      "name": "python"
    }
  },
  "cells": [
    {
      "cell_type": "markdown",
      "source": [
        "Extractive Summarizer: An extractive summarizer based on a non-deep learning supervised model.\n",
        "1. In particular, you have to train a non-deep learning classification (e.g. logistic regression, SVM) or regression model (e.g. ElasticNet, SVR) that will be used for scoring the sentences of the input document. (0 or 1)\n",
        "2. Then based on the scores you will create a summarizer that attempts to create a summary with the most informative, non-redundant **sentences**. It is up to you which machine learning model and features you will use.\n"
      ],
      "metadata": {
        "id": "718aX95UK0EB"
      }
    },
    {
      "cell_type": "markdown",
      "source": [
        "#Steps\n",
        "\n",
        "1.Preprocessing , which will be applied also on the highlights: so the 2 new columns cleaned_articles, cleaned highlights will be use for similarity calculation and feature extraction.\n",
        "2. Feature Extraction (sentence length, sentence position): here also we can try : NER the count of **Named entities** in a sentence , and POS tagging for the count of **VERBS ** (since Verbs can denote events, it can also good practice for event extraction)\n",
        "3. Sentence similarity calculation: similarity of each sentence of the article with each sentence in the highlights based on their Average word2vec embedding.\n",
        "High scores between pairs denote that the sentence is a good candidate for being added in the summary, so high-scoring sentences will be assigned label 1. Low scoring pairs based on a specific threshold will be assigned label 0.\n",
        "4. Sentence extraction: extract the n first sentences in the document that have been given a value of 1 in the previous step. (i chose the 3 first)\n",
        "5. Summary production: these 3 first sentences should be written in a .txt file , where on the left side, we will have the article id: eg\n",
        "(f001ec5c4704938247d27a44948eebb37ae98d01) and then the 3 extracted sentences as raw text,separated with a fullstop (no lists).\n",
        "6. the content of 'highlights' column should be compared to the content of the 'ml-summary' column and Compute Rouge 2 metrics in a new column which will contain all 3 requested metrics in a dictionary."
      ],
      "metadata": {
        "id": "0lFtfA4cRI1q"
      }
    },
    {
      "cell_type": "code",
      "execution_count": null,
      "metadata": {
        "id": "zPrqF-gdI8QF",
        "colab": {
          "base_uri": "https://localhost:8080/"
        },
        "outputId": "3194c5ad-acc0-4f5a-eb58-03213aeee788"
      },
      "outputs": [
        {
          "output_type": "stream",
          "name": "stdout",
          "text": [
            "Drive already mounted at /content/drive; to attempt to forcibly remount, call drive.mount(\"/content/drive\", force_remount=True).\n"
          ]
        }
      ],
      "source": [
        "from google.colab import drive\n",
        "drive.mount('/content/drive')"
      ]
    },
    {
      "cell_type": "code",
      "source": [
        "!pip install datasets contractions"
      ],
      "metadata": {
        "id": "IAhjDoSrgii2",
        "colab": {
          "base_uri": "https://localhost:8080/"
        },
        "outputId": "89771ef4-f32d-4d5a-efef-b7705c62584b"
      },
      "execution_count": null,
      "outputs": [
        {
          "output_type": "stream",
          "name": "stdout",
          "text": [
            "Requirement already satisfied: datasets in /usr/local/lib/python3.10/dist-packages (2.16.0)\n",
            "Requirement already satisfied: contractions in /usr/local/lib/python3.10/dist-packages (0.1.73)\n",
            "Requirement already satisfied: filelock in /usr/local/lib/python3.10/dist-packages (from datasets) (3.13.1)\n",
            "Requirement already satisfied: numpy>=1.17 in /usr/local/lib/python3.10/dist-packages (from datasets) (1.23.5)\n",
            "Requirement already satisfied: pyarrow>=8.0.0 in /usr/local/lib/python3.10/dist-packages (from datasets) (10.0.1)\n",
            "Requirement already satisfied: pyarrow-hotfix in /usr/local/lib/python3.10/dist-packages (from datasets) (0.6)\n",
            "Requirement already satisfied: dill<0.3.8,>=0.3.0 in /usr/local/lib/python3.10/dist-packages (from datasets) (0.3.7)\n",
            "Requirement already satisfied: pandas in /usr/local/lib/python3.10/dist-packages (from datasets) (1.5.3)\n",
            "Requirement already satisfied: requests>=2.19.0 in /usr/local/lib/python3.10/dist-packages (from datasets) (2.31.0)\n",
            "Requirement already satisfied: tqdm>=4.62.1 in /usr/local/lib/python3.10/dist-packages (from datasets) (4.66.1)\n",
            "Requirement already satisfied: xxhash in /usr/local/lib/python3.10/dist-packages (from datasets) (3.4.1)\n",
            "Requirement already satisfied: multiprocess in /usr/local/lib/python3.10/dist-packages (from datasets) (0.70.15)\n",
            "Requirement already satisfied: fsspec[http]<=2023.10.0,>=2023.1.0 in /usr/local/lib/python3.10/dist-packages (from datasets) (2023.6.0)\n",
            "Requirement already satisfied: aiohttp in /usr/local/lib/python3.10/dist-packages (from datasets) (3.9.1)\n",
            "Requirement already satisfied: huggingface-hub>=0.19.4 in /usr/local/lib/python3.10/dist-packages (from datasets) (0.19.4)\n",
            "Requirement already satisfied: packaging in /usr/local/lib/python3.10/dist-packages (from datasets) (23.2)\n",
            "Requirement already satisfied: pyyaml>=5.1 in /usr/local/lib/python3.10/dist-packages (from datasets) (6.0.1)\n",
            "Requirement already satisfied: textsearch>=0.0.21 in /usr/local/lib/python3.10/dist-packages (from contractions) (0.0.24)\n",
            "Requirement already satisfied: attrs>=17.3.0 in /usr/local/lib/python3.10/dist-packages (from aiohttp->datasets) (23.1.0)\n",
            "Requirement already satisfied: multidict<7.0,>=4.5 in /usr/local/lib/python3.10/dist-packages (from aiohttp->datasets) (6.0.4)\n",
            "Requirement already satisfied: yarl<2.0,>=1.0 in /usr/local/lib/python3.10/dist-packages (from aiohttp->datasets) (1.9.4)\n",
            "Requirement already satisfied: frozenlist>=1.1.1 in /usr/local/lib/python3.10/dist-packages (from aiohttp->datasets) (1.4.1)\n",
            "Requirement already satisfied: aiosignal>=1.1.2 in /usr/local/lib/python3.10/dist-packages (from aiohttp->datasets) (1.3.1)\n",
            "Requirement already satisfied: async-timeout<5.0,>=4.0 in /usr/local/lib/python3.10/dist-packages (from aiohttp->datasets) (4.0.3)\n",
            "Requirement already satisfied: typing-extensions>=3.7.4.3 in /usr/local/lib/python3.10/dist-packages (from huggingface-hub>=0.19.4->datasets) (4.5.0)\n",
            "Requirement already satisfied: charset-normalizer<4,>=2 in /usr/local/lib/python3.10/dist-packages (from requests>=2.19.0->datasets) (3.3.2)\n",
            "Requirement already satisfied: idna<4,>=2.5 in /usr/local/lib/python3.10/dist-packages (from requests>=2.19.0->datasets) (3.6)\n",
            "Requirement already satisfied: urllib3<3,>=1.21.1 in /usr/local/lib/python3.10/dist-packages (from requests>=2.19.0->datasets) (2.0.7)\n",
            "Requirement already satisfied: certifi>=2017.4.17 in /usr/local/lib/python3.10/dist-packages (from requests>=2.19.0->datasets) (2023.11.17)\n",
            "Requirement already satisfied: anyascii in /usr/local/lib/python3.10/dist-packages (from textsearch>=0.0.21->contractions) (0.3.2)\n",
            "Requirement already satisfied: pyahocorasick in /usr/local/lib/python3.10/dist-packages (from textsearch>=0.0.21->contractions) (2.0.0)\n",
            "Requirement already satisfied: python-dateutil>=2.8.1 in /usr/local/lib/python3.10/dist-packages (from pandas->datasets) (2.8.2)\n",
            "Requirement already satisfied: pytz>=2020.1 in /usr/local/lib/python3.10/dist-packages (from pandas->datasets) (2023.3.post1)\n",
            "Requirement already satisfied: six>=1.5 in /usr/local/lib/python3.10/dist-packages (from python-dateutil>=2.8.1->pandas->datasets) (1.16.0)\n"
          ]
        }
      ]
    },
    {
      "cell_type": "code",
      "source": [
        "import pandas as pd\n",
        "import nltk\n",
        "nltk.download('stopwords')\n",
        "nltk.download('punkt')\n",
        "import numpy as np\n",
        "import re\n",
        "import datasets\n",
        "import contractions\n",
        "from nltk.corpus import stopwords\n",
        "from nltk.tokenize import word_tokenize, sent_tokenize\n",
        "import string\n",
        "from nltk.stem import PorterStemmer\n",
        "nltk.download('wordnet')\n",
        "from gensim.models import Word2Vec\n",
        "from sklearn.feature_extraction.text import CountVectorizer\n",
        "from sklearn.metrics.pairwise import cosine_similarity\n",
        "from nltk.stem import WordNetLemmatizer\n",
        "from tqdm import tqdm\n",
        "from bs4 import BeautifulSoup\n",
        "from gensim.models import KeyedVectors\n"
      ],
      "metadata": {
        "id": "6wDTt9rWYBbL",
        "colab": {
          "base_uri": "https://localhost:8080/"
        },
        "outputId": "e215b1b0-717c-4eb6-8131-4a0f061b7fe3"
      },
      "execution_count": null,
      "outputs": [
        {
          "output_type": "stream",
          "name": "stderr",
          "text": [
            "[nltk_data] Downloading package stopwords to /root/nltk_data...\n",
            "[nltk_data]   Package stopwords is already up-to-date!\n",
            "[nltk_data] Downloading package punkt to /root/nltk_data...\n",
            "[nltk_data]   Package punkt is already up-to-date!\n",
            "[nltk_data] Downloading package wordnet to /root/nltk_data...\n",
            "[nltk_data]   Package wordnet is already up-to-date!\n"
          ]
        }
      ]
    },
    {
      "cell_type": "code",
      "source": [
        "# Specify the dataset name and version\n",
        "dataset_name = \"cnn_dailymail\"\n",
        "dataset_version = \"3.0.0\"\n",
        "\n",
        "# Load a specific version of the dataset from Hugging Face\n",
        "dataset = datasets.load_dataset(dataset_name, dataset_version)\n",
        "\n",
        "# Convert the dataset to a Pandas DataFrame\n",
        "train = pd.DataFrame(dataset['train'])  # You can use 'train', 'test', or 'validation'\n",
        "train.to_csv('train.csv')\n",
        "test = pd.DataFrame(dataset['test'])\n",
        "test.to_csv('test.csv')"
      ],
      "metadata": {
        "id": "V2lq9gS9raAG"
      },
      "execution_count": null,
      "outputs": []
    },
    {
      "cell_type": "code",
      "source": [
        "df_train =pd.read_csv('/content/train.csv')\n",
        "df_test=pd.read_csv('/content/test.csv')"
      ],
      "metadata": {
        "id": "YLUPuPsXBvCR"
      },
      "execution_count": null,
      "outputs": []
    },
    {
      "cell_type": "code",
      "source": [
        "df_train=df_train.head(1000)\n",
        "df_test=df_test.head(300)\n"
      ],
      "metadata": {
        "id": "Kb1CwAoA1bPJ"
      },
      "execution_count": null,
      "outputs": []
    },
    {
      "cell_type": "markdown",
      "source": [
        "#Preprocessing steps:\n",
        "Remove:\n",
        "- start and end patterns\n",
        "- parenthesis (and everything insinde them)\n",
        "\n",
        "##Also another pattern spotted in the highlights column: NEW: blablaaa , so remove the \"NEW:\" at the beginning of the highlights\n",
        "- expand contractions (won't =will not)\n",
        "- stopwords\n",
        "- 's (sister's =sister)\n",
        "- sentence tokenization\n",
        "- lowercasing\n",
        "- word tokenisation\n",
        "- remove punctuation\n",
        "- non- ascii characters (e.g $ 20 million= 20 million)\n",
        "- lemmatization  \n",
        "\n",
        "**What was not removed and maybe it should be removed is the numbers!!**\n",
        "\n",
        "**Also after stopword removel: Removal of sentences with sentence length <=5 tokens!**\n",
        "We can discuss this\n",
        "The other approach would be to keep the articles which have sentence length 200 (in tokens and highlight length of around 50 tokens, this will leave us with around 30.000 train data!)\n",
        "#Also more cleaning to DO!!!:\n",
        "1. Drop the duplicate rows\n",
        "2. Check & Remove Null data\n",
        "3. Remove https, links, urls,\n",
        "4. remove href:.."
      ],
      "metadata": {
        "id": "7e3bj5_42sli"
      }
    },
    {
      "cell_type": "code",
      "source": [
        "def apply_lemmatization(tokens):\n",
        "  lemmatizer = WordNetLemmatizer()\n",
        "  return [lemmatizer.lemmatize(word) for word in tokens]\n",
        "\n",
        "def apply_stemming(tokens):\n",
        "  porter = PorterStemmer()\n",
        "  return [porter.stem(word) for word in tokens]\n",
        "\n",
        "def clean_text(x):\n",
        "  puncts = [',', '.', '\"', ':', ')', '(', '-', '!', '?', '|', ';', \"'\", '$', '&', '/', '[', ']', '>', '%', '=', '#',\n",
        "              '*', '+', '\\\\', '•', '~', '@', '£',\n",
        "              '·', '_', '{', '}', '©', '^', '®', '`','--', '<', '→', '°', '€', '™', '›', '♥', '←', '×', '§', '″', '′', 'Â',\n",
        "              '█', '½', 'à', '…',\n",
        "              '“', '★', '”', '–', '●', 'â', '►', '−', '¢', '²', '¬', '░', '¶', '↑', '±', '¿', '▾', '═', '¦', '║', '―',\n",
        "              '¥', '▓', '—', '‹', '─',\n",
        "              '▒', '：', '¼', '⊕', '▼', '▪', '†', '■', '’', '▀', '¨', '▄', '♫', '☆', 'é', '¯', '♦', '¤', '▲', 'è', '¸',\n",
        "              '¾', 'Ã', '⋅', '‘', '∞',\n",
        "              '∙', '）', '↓', '、', '│', '（', '»','«', '，', '♪', '╩', '╚', '³', '・', '╦', '╣', '╔', '╗', '▬', '❤', 'ï', 'Ø',\n",
        "              '¹', '≤', '‡', '√', ]\n",
        "\n",
        "  x = str(x)\n",
        "  for punct in puncts:\n",
        "    x = x.replace(punct, f' {punct} ')\n",
        "  return x\n",
        "\n",
        "def remove_non_ascii(tokens):\n",
        "    return [word for word in tokens if re.match(r'^[^\\x00-\\x7F]+$', word) is None]\n",
        "\n",
        "def remove_urls(text):\n",
        "    # Remove URLs starting with http:// or https://\n",
        "    text = re.sub(r'https?://\\S+', '', text, flags=re.MULTILINE)\n",
        "    return text\n",
        "\n",
        "def remove_html_tags(text):\n",
        "    # Remove HTML tags using BeautifulSoup\n",
        "    soup = BeautifulSoup(text, 'html.parser')\n",
        "    return soup.get_text()\n",
        "\n",
        "def remove_usernames(text):\n",
        "    # Remove @usernames\n",
        "    text = re.sub(r'@\\w+', '', text)\n",
        "    return text\n",
        "\n",
        "def clean_and_tokenize(article):\n",
        "    # Remove text within parentheses and everything in it\n",
        "    cleaned_article = re.sub(r'\\([^)]*\\)', '', article)\n",
        "\n",
        "    # Split the text using '-- ' as the delimiter\n",
        "    parts = re.split(r'-- ', cleaned_article, maxsplit=1)\n",
        "\n",
        "    # Check if there was a match and reconstruct the text\n",
        "    cleaned_article = parts[1] if len(parts) > 1 else cleaned_article\n",
        "\n",
        "    # Remove 'E-mail to a friend' and anything that follows it\n",
        "    cleaned_article = re.sub(r'E-mail to a friend.*', '', cleaned_article)\n",
        "    #####HERE: add the extra cleaning functions: hmtl, urls, usernames removal)\n",
        "    #cleaned_article=re.sub(r'<a href','',text)\n",
        "    #cleaned_article=re.sub(r'&amp;','',text)\n",
        "    # Remove URLs\n",
        "    #cleaned_article = remove_urls(article)\n",
        "    # Remove HTML tags\n",
        "    #cleaned_article = remove_html_tags(cleaned_article)\n",
        "    # Remove @usernames\n",
        "    #cleaned_article = remove_usernames(cleaned_article)\n",
        "    # Expand word contractions\n",
        "    expanded_article = contractions.fix(cleaned_article)\n",
        "    # Add a period after the closing quotation mark if there is a space and a capital letter\n",
        "    text_with_period = re.sub(r'(\")([ ])([A-Z])', r'\\1.\\2\\3', expanded_article)\n",
        "    # Remove stopwords\n",
        "    stop_words = set(stopwords.words('english'))\n",
        "    word_tokens = word_tokenize(text_with_period)\n",
        "    filtered_article = [word for word in word_tokens if word.lower() not in stop_words and word.lower() != \"'s\"]\n",
        "    filtered_article = ' '.join(filtered_article)\n",
        "    #Sentence tokenization\n",
        "    sentences = sent_tokenize(filtered_article)\n",
        "    # Lowercase the text\n",
        "    sentences = [sentence.lower() for sentence in sentences]\n",
        "    # Tokenize sentences\n",
        "    tokenized_sentences = [word_tokenize(sentence) for sentence in sentences]\n",
        "    # Remove punctuation using custom clean_text function\n",
        "    tokenized_sentences_no_punct = [\n",
        "        [word for word in word_tokenize(clean_text(sentence)) if word not in string.punctuation]\n",
        "        for sentence in sentences]\n",
        "    tokenized_sentences_no_ascii = [\n",
        "    remove_non_ascii(sentence)\n",
        "    for sentence in tokenized_sentences_no_punct]\n",
        "    # Apply lemmatization\n",
        "    tokenized_sentences_lemmatized = [\n",
        "        apply_lemmatization(sentence)\n",
        "        for sentence in tokenized_sentences_no_ascii\n",
        "        if len(sentence) > 5\n",
        "        ]\n",
        "\n",
        "    # Remove empty lists\n",
        "    tokenized_sentences_lemmatized = [sentence for sentence in tokenized_sentences_lemmatized if sentence]\n",
        "\n",
        "    return tokenized_sentences_lemmatized\n",
        "\n",
        "###################THESE 2 FUNCTIONS HAVE NOT BEEN YET USED IN IMPLEMETATION THEY AREJUST AN IDEA APPROACH###################\n",
        "def get_columns(dataframe, article, highlights):\n",
        "\n",
        "  # Get only the columns we are interested in\n",
        "  dataset = dataframe[[article]]\n",
        "\n",
        "  # Apply the pre-processing function to the dataframe containing the text (feature column)\n",
        "  dataset[article] = dataset[article].apply(clean_and_tokenize)\n",
        "  dataset[highlights] = dataset[highlights].apply(clean_and_tokenize)\n",
        "\n",
        "  print('\\nText done pre-processing!')\n",
        "\n",
        "  X = dataset[article]\n",
        "  Y = dataset[highlights]\n",
        "\n",
        "  return X, Y\n",
        "\n",
        "def data_prepare(df_train, df_test,w2v_model, article, highlights):\n",
        "\n",
        "  # Prepare the training dataset\n",
        "  print('------ Preparing the training dataset... ------')\n",
        "  X,y = get_columns(df_train, article, highlights)\n",
        "\n",
        "  # Prepare the validation/testing dataset\n",
        "  print('\\n------ Preparing the validation/testing dataset... ------')\n",
        "  x1,y1 = get_columns(df_test, article, highlights)\n",
        "\n",
        "\n",
        "  w2vX_train, words_found, matrix_len = find_words_in_w2v(X,w2v_model)\n",
        "  print('Percentage of words found in W2V: ', words_found/matrix_len)\n",
        "\n",
        "  w2vX_test, words_found, matrix_len = find_words_in_w2v(x1,w2v_model)\n",
        "  print('Percentage of words found in W2V: ', words_found/matrix_len)\n",
        "# data_prepare(df_train, df_test,w2v_model='/content/drive/MyDrive/NLU/Task_2/w2v_model/w2v_summ.model','article','highlights')"
      ],
      "metadata": {
        "id": "P2V2E28Y2sFi"
      },
      "execution_count": null,
      "outputs": []
    },
    {
      "cell_type": "markdown",
      "source": [
        "#Apply cleaning in the articles and highlights of both test and train datasets"
      ],
      "metadata": {
        "id": "T6Wx0VdjVQCA"
      }
    },
    {
      "cell_type": "code",
      "source": [
        "# Apply the function to each row in the 'article' column\n",
        "df_train['cleaned_article'] = df_train['article'].apply(clean_and_tokenize)\n",
        "df_test['cleaned_article'] = df_test['article'].apply(clean_and_tokenize)"
      ],
      "metadata": {
        "id": "Go5s46L9fgmN"
      },
      "execution_count": null,
      "outputs": []
    },
    {
      "cell_type": "code",
      "source": [
        "df_train['clean_highlights']=df_train['highlights'].apply(clean_and_tokenize)\n",
        "df_test['clean_highlights']=df_test['highlights'].apply(clean_and_tokenize)"
      ],
      "metadata": {
        "id": "hL5QVq8Mi-zf"
      },
      "execution_count": null,
      "outputs": []
    },
    {
      "cell_type": "markdown",
      "source": [
        "Keep first 50% of tokenized sentences. in the cleaned articles"
      ],
      "metadata": {
        "id": "LzpJK2JrVYM5"
      }
    },
    {
      "cell_type": "code",
      "source": [
        "df_train['first_half_sentences'] = df_train['cleaned_article'].apply(lambda sentences: sentences[:len(sentences)//2])"
      ],
      "metadata": {
        "id": "rMoJuT9fd39g"
      },
      "execution_count": null,
      "outputs": []
    },
    {
      "cell_type": "code",
      "source": [
        "df_test['first_half_sentences'] = df_test['cleaned_article'].apply(lambda sentences: sentences[:len(sentences)//2])"
      ],
      "metadata": {
        "id": "QUl63K-JZbxz"
      },
      "execution_count": null,
      "outputs": []
    },
    {
      "cell_type": "code",
      "source": [
        "rows_to_display = [0,1,2]  # Replace with the row indices you want to check\n",
        "\n",
        "for row_index in rows_to_display:\n",
        "    print(f\"Row {row_index}:\")\n",
        "    print(df_train['cleaned_article'].iloc[row_index])\n",
        "    print(\"\\n---\\n\")"
      ],
      "metadata": {
        "id": "Lb03nfatleWK"
      },
      "execution_count": null,
      "outputs": []
    },
    {
      "cell_type": "code",
      "source": [
        "# Set display options to show all rows and columns\n",
        "#pd.set_option('display.max_rows', None)\n",
        "#pd.set_option('display.max_columns', None)\n",
        "\n",
        "#def compute_max_cosine_similarity(row, threshold=0.3):\n",
        "#    articles = row['cleaned_article']\n",
        "#    highlights = row['clean_highlights']\n",
        "\n",
        "    # Flatten the lists of tokenized sentences into strings\n",
        "#    articles_str = [' '.join(sent) for sent in articles]\n",
        "#    highlights_str = [' '.join(sent) for sent in highlights]\n",
        "\n",
        "    # Combine articles and highlights for fitting CountVectorizer\n",
        "#    all_sentences = articles_str + highlights_str\n",
        "\n",
        "    # Use CountVectorizer to convert sentences to document-term matrices\n",
        "#    vectorizer = CountVectorizer()\n",
        "#    all_matrix = vectorizer.fit_transform(all_sentences).toarray()\n",
        "\n",
        "    # Split the matrices back into articles and highlights parts\n",
        "#    articles_matrix = all_matrix[:len(articles)]\n",
        "#    highlights_matrix = all_matrix[len(articles):]\n",
        "\n",
        "    # Compute cosine similarity for each pair of sentences\n",
        "#    similarity_matrix = cosine_similarity(articles_matrix, highlights_matrix)\n",
        "\n",
        "    # Find the maximum similarity score for each sentence\n",
        "#    max_similarity_scores = similarity_matrix.max(axis=1)\n",
        "#    max_similarity_scores = [round(score, 3) for score in max_similarity_scores]\n",
        "    # Assign labels based on the threshold\n",
        "#    labels = [1 if score >= threshold else 0 for score in max_similarity_scores]\n",
        "#    return labels\n",
        "\n",
        "# Apply the compute_max_cosine_similarity function to each row\n",
        "#df6['max_cosine_similarity'] = df6.apply(compute_max_cosine_similarity, axis=1)\n",
        "\n",
        "#df6['labels'] = df6.apply(compute_max_cosine_similarity, axis=1)"
      ],
      "metadata": {
        "id": "VLZNMPt0ldu-"
      },
      "execution_count": null,
      "outputs": []
    },
    {
      "cell_type": "markdown",
      "source": [
        "Explode dataframe so that each sentence of each article is represented by a row"
      ],
      "metadata": {
        "id": "4tbjQa4ce01K"
      }
    },
    {
      "cell_type": "code",
      "source": [
        "# Explode the DataFrame and reset the index\n",
        "df_train_exploded = df_train.explode('first_half_sentences').reset_index(drop=True)\n",
        "df_test_exploded = df_test.explode('first_half_sentences').reset_index(drop=True)\n",
        "\n",
        "# Rename the 'articles' column to 'sentences'\n",
        "df_train_exploded = df_train_exploded.rename(columns={'first_half_sentences': 'sentences'})\n",
        "df_test_exploded = df_test_exploded.rename(columns={'first_half_sentences': 'sentences'})\n",
        "\n",
        "# Display the resulting DataFrame\n",
        "print(df_train_exploded)\n",
        "print(df_test_exploded)"
      ],
      "metadata": {
        "id": "VNk2qWXlM9Av"
      },
      "execution_count": null,
      "outputs": []
    },
    {
      "cell_type": "code",
      "source": [
        "current_article_id = None\n",
        "article_index = 0\n",
        "\n",
        "def create_article_test_sentence(row):\n",
        "    global current_article_id, article_index\n",
        "\n",
        "    # Check if the current article ID is different from the one in the row\n",
        "    if row['id'] != current_article_id:\n",
        "        current_article_id = row['id']\n",
        "        article_index += 1  # Increment the article index for a new article\n",
        "\n",
        "    return f\"{article_index}-{row.name}\"\n",
        "\n",
        "# Assuming 'id' is the column containing the article IDs\n",
        "df_test_exploded['article-sentence'] = df_test_exploded.apply(create_article_test_sentence, axis=1)"
      ],
      "metadata": {
        "id": "lq4GqvP4m8uo"
      },
      "execution_count": null,
      "outputs": []
    },
    {
      "cell_type": "markdown",
      "source": [
        "Fix the article_sentence  indexing"
      ],
      "metadata": {
        "id": "3enijRjadvuI"
      }
    },
    {
      "cell_type": "code",
      "source": [
        "# Extract article and sentence indices\n",
        "df_test_exploded[['article', 'sentence']] = df_test_exploded['article-sentence'].str.split('-', expand=True)\n",
        "\n",
        "# Convert columns to numeric\n",
        "df_test_exploded['article'] = pd.to_numeric(df_test_exploded['article'])\n",
        "df_test_exploded['sentence'] = pd.to_numeric(df_test_exploded['sentence'])\n",
        "\n",
        "# Calculate the correct sentence index for each article\n",
        "df_test_exploded['new_sentence_index'] = df_test_exploded.groupby('article').cumcount()\n",
        "\n",
        "# Create the new article-sentence column\n",
        "df_test_exploded['new_article_sentence'] = df_test_exploded['article'].astype(str) + '-' + df_test_exploded['new_sentence_index'].astype(str)\n",
        "\n",
        "# Drop unnecessary columns\n",
        "df_test_exploded = df_test_exploded.drop(['article','article-sentence', 'sentence', 'new_sentence_index'], axis=1)"
      ],
      "metadata": {
        "id": "Lh0fNFFGdyAs"
      },
      "execution_count": null,
      "outputs": []
    },
    {
      "cell_type": "code",
      "source": [
        "df_test_exploded"
      ],
      "metadata": {
        "id": "dJZKtrfwegEv"
      },
      "execution_count": null,
      "outputs": []
    },
    {
      "cell_type": "markdown",
      "source": [
        "Encode sentence position"
      ],
      "metadata": {
        "id": "XHx6OKW9fNc-"
      }
    },
    {
      "cell_type": "code",
      "source": [
        "# Add a new column 'position' based on the sentences' order within each article\n",
        "df_train_exploded['position'] = df_train_exploded.groupby('id').cumcount()\n",
        "df_test_exploded['position'] = df_test_exploded.groupby('id').cumcount()\n",
        "\n",
        "# Calculate the total number of sentences for each article\n",
        "train_article_lengths = df_train_exploded.groupby('id').size()\n",
        "test_article_lengths = df_test_exploded.groupby('id').size()\n",
        "\n",
        "# Gradually reduce the position value for each article\n",
        "df_train_exploded['position'] = 1 - (df_train_exploded['position'] / train_article_lengths[df_train_exploded['id']].values)\n",
        "df_test_exploded['position'] = 1 - (df_test_exploded['position'] / test_article_lengths[df_test_exploded['id']].values)\n"
      ],
      "metadata": {
        "id": "ZnevJiGZRCcK"
      },
      "execution_count": null,
      "outputs": []
    },
    {
      "cell_type": "code",
      "source": [
        "# If you want to round the values to a certain decimal place, you can use round()\n",
        "df_train_exploded['position'] = round(df_train_exploded['position'], 2)\n",
        "df_test_exploded['position'] = round(df_test_exploded['position'], 2)\n"
      ],
      "metadata": {
        "id": "knkAxmrNRkY2"
      },
      "execution_count": null,
      "outputs": []
    },
    {
      "cell_type": "code",
      "source": [
        "df_test_exploded.position"
      ],
      "metadata": {
        "id": "Z3H5vp3cU-ur"
      },
      "execution_count": null,
      "outputs": []
    },
    {
      "cell_type": "markdown",
      "source": [
        "W2Vec model! Load the trained model and use it to create average w2v embeddings for each sentence."
      ],
      "metadata": {
        "id": "y_3fkOJJfSPo"
      }
    },
    {
      "cell_type": "code",
      "source": [
        "w2v_model=Word2Vec.load('/content/drive/MyDrive/NLU/Task_2/w2v_model/w2v_summ.model')"
      ],
      "metadata": {
        "id": "7K13RI9kmBpt"
      },
      "execution_count": null,
      "outputs": []
    },
    {
      "cell_type": "code",
      "source": [
        "def find_words_in_w2v(train_dataset, w2vmodel):\n",
        "    # Load the Word2Vec model\n",
        "    if isinstance(w2vmodel, str):\n",
        "        w2v_model = KeyedVectors.load_word2vec_format(w2vmodel, binary=True)\n",
        "    elif isinstance(w2vmodel, Word2Vec):\n",
        "        w2v_model = w2vmodel\n",
        "    else:\n",
        "        raise ValueError(\"Invalid Word2Vec model format\")\n",
        "\n",
        "    # Get the size of the Word2Vec model\n",
        "    embedding_size = w2v_model.vector_size\n",
        "\n",
        "    # Initialize an empty array to store mean embeddings\n",
        "    mean_embeddings = []\n",
        "        # Iterate over each row in the train_dataset\n",
        "    for sentence in train_dataset['sentences']:\n",
        "        # Check if the 'sentences' column is a list\n",
        "        if isinstance(sentence, list):\n",
        "            # Initialize a list to store word embeddings in the current sentence\n",
        "            word_embeddings = []\n",
        "\n",
        "            # Iterate over each word in the sentence\n",
        "            for word in sentence:\n",
        "                # Check if the word is in the Word2Vec model's vocabulary\n",
        "                if word in w2v_model.wv.key_to_index:\n",
        "                    # If the word is found, add its Word2Vec embedding to the list\n",
        "                    word_embeddings.append(w2v_model.wv[word])\n",
        "                else:\n",
        "                    # If the word is not found, initialize it with zero vectors\n",
        "                    word_embeddings.append(np.zeros(embedding_size))\n",
        "\n",
        "            # Calculate the mean of the Word2Vec embeddings for the words in the row\n",
        "            if word_embeddings:\n",
        "                mean_embedding = np.mean(word_embeddings, axis=0)\n",
        "            else:\n",
        "                # If no word embeddings found, use zero vectors\n",
        "                mean_embedding = np.zeros(embedding_size)\n",
        "\n",
        "            # Append the mean embedding to the list\n",
        "            mean_embeddings.append(mean_embedding)\n",
        "        else:\n",
        "            # If 'sentences' is not a list, append a zero vector\n",
        "            mean_embeddings.append(np.zeros(embedding_size))\n",
        "\n",
        "    # Convert the list of mean embeddings into a NumPy array\n",
        "    mean_embeddings_array = np.array(mean_embeddings)\n",
        "\n",
        "    # Create a new column in the dataframe with the mean embeddings\n",
        "    train_dataset['mean_embeddings'] = mean_embeddings_array.tolist()\n",
        "\n",
        "    return train_dataset"
      ],
      "metadata": {
        "id": "Fl2BJzg184-5"
      },
      "execution_count": null,
      "outputs": []
    },
    {
      "cell_type": "code",
      "source": [
        "df_train_exploded= find_words_in_w2v(df_train_exploded, w2v_model)\n",
        "df_test_exploded = find_words_in_w2v(df_test_exploded, w2v_model)"
      ],
      "metadata": {
        "id": "EbpQMRSahkTa"
      },
      "execution_count": null,
      "outputs": []
    },
    {
      "cell_type": "markdown",
      "source": [
        "#SOS!! The resutls in mean_embeddings are differnt  from those in the 'Cosine_Similarity.ipynb : we have to check and compare the 2 files carefully to find out what is going wrong here!!Because in the 'cosine similarity. ipynb the results are reasonable!"
      ],
      "metadata": {
        "id": "ba3uWu4kjhxu"
      }
    },
    {
      "cell_type": "markdown",
      "source": [
        "Average w2v for each sentence in the list of highlights!"
      ],
      "metadata": {
        "id": "CM80lw5EkXr9"
      }
    },
    {
      "cell_type": "code",
      "source": [
        "def calculate_avg_word2vec_list(sentence_list, model):\n",
        "    avg_word2vec_list = []\n",
        "    for sentence in sentence_list:\n",
        "        # Filter out words that are not in the model's vocabulary\n",
        "        valid_words = [word for word in sentence if word in model.wv.key_to_index]\n",
        "        # Check if there are valid words before calculating the average\n",
        "        if valid_words:\n",
        "            # Use numpy's vstack to vertically stack the word vectors\n",
        "            word_vectors = np.vstack([model.wv[word] for word in valid_words])\n",
        "\n",
        "            # Calculate the mean along the first axis (axis=0)\n",
        "            avg_word2vec = np.mean(word_vectors, axis=0)\n",
        "\n",
        "            avg_word2vec_list.append(avg_word2vec)\n",
        "        else:\n",
        "            # If no valid words, append a zero vector\n",
        "            avg_word2vec_list.append(np.zeros(model.vector_size))\n",
        "\n",
        "    return avg_word2vec_list"
      ],
      "metadata": {
        "id": "1LYUhdE2n8Qd"
      },
      "execution_count": null,
      "outputs": []
    },
    {
      "cell_type": "code",
      "source": [
        "df_train_exploded['avg_word2vec_highlights'] = df_train_exploded['clean_highlights'].apply(lambda x: calculate_avg_word2vec_list(x, model=w2v_model))\n",
        "df_test_exploded['avg_word2vec_highlights'] = df_test_exploded['clean_highlights'].apply(lambda x: calculate_avg_word2vec_list(x, model=w2v_model))\n"
      ],
      "metadata": {
        "id": "89kZM21WoDRF"
      },
      "execution_count": null,
      "outputs": []
    },
    {
      "cell_type": "code",
      "source": [
        "def calculate_cosine_similarity(sentence, highlights_avg_word2vec_list):\n",
        "    return [cosine_similarity([sentence], [highlight_sentence])[0][0] for highlight_sentence in highlights_avg_word2vec_list]\n"
      ],
      "metadata": {
        "id": "YSEnKpafozM7"
      },
      "execution_count": null,
      "outputs": []
    },
    {
      "cell_type": "code",
      "source": [
        "df_train_exploded['cosine_similarity'] = df_train_exploded.apply(lambda row: calculate_cosine_similarity(row['mean_embeddings'], row['avg_word2vec_highlights']), axis=1)\n",
        "df_test_exploded['cosine_similarity'] = df_test_exploded.apply(lambda row: calculate_cosine_similarity(row['mean_embeddings'], row['avg_word2vec_highlights']), axis=1)\n"
      ],
      "metadata": {
        "id": "pwEBt-aMpxGA"
      },
      "execution_count": null,
      "outputs": []
    },
    {
      "cell_type": "code",
      "source": [
        "def get_max_cosine_similarity(cosine_similarity_list):\n",
        "    if cosine_similarity_list:\n",
        "        return max(cosine_similarity_list)\n",
        "    else:\n",
        "        return 0"
      ],
      "metadata": {
        "id": "naiLRohiqi8h"
      },
      "execution_count": null,
      "outputs": []
    },
    {
      "cell_type": "code",
      "source": [
        "df_train_exploded['max_cosine_similarity'] = df_train_exploded['cosine_similarity'].apply(get_max_cosine_similarity)\n",
        "df_test_exploded['max_cosine_similarity'] = df_test_exploded['cosine_similarity'].apply(get_max_cosine_similarity)\n"
      ],
      "metadata": {
        "id": "PXYx4D-OqkZo"
      },
      "execution_count": null,
      "outputs": []
    },
    {
      "cell_type": "code",
      "source": [
        "df_train_exploded[['sentences', 'clean_highlights', 'max_cosine_similarity']]"
      ],
      "metadata": {
        "id": "vXflo9qsqpfv"
      },
      "execution_count": null,
      "outputs": []
    },
    {
      "cell_type": "code",
      "source": [
        "def assign_value(cosine_similarity):\n",
        "    return 1 if cosine_similarity >= 0.85 else 0"
      ],
      "metadata": {
        "id": "brxmnmzjrD6H"
      },
      "execution_count": null,
      "outputs": []
    },
    {
      "cell_type": "code",
      "source": [
        "df_train_exploded['label'] = df_train_exploded['max_cosine_similarity'].apply(assign_value)\n",
        "df_test_exploded['label'] = df_test_exploded['max_cosine_similarity'].apply(assign_value)\n"
      ],
      "metadata": {
        "id": "fZKFUahJrFQ5"
      },
      "execution_count": null,
      "outputs": []
    },
    {
      "cell_type": "code",
      "source": [
        "df_train_exploded[['sentences', 'clean_highlights', 'max_cosine_similarity', 'label']]"
      ],
      "metadata": {
        "id": "B07_YaRBrLOQ"
      },
      "execution_count": null,
      "outputs": []
    },
    {
      "cell_type": "code",
      "source": [
        "def calculate_sentence_length(sentence):\n",
        "    # Convert to string if not already\n",
        "    sentence_str = str(sentence)\n",
        "\n",
        "    # Assuming 'sentence' is a list of tokens\n",
        "    if isinstance(sentence, list):\n",
        "        return len(sentence)\n",
        "\n",
        "    # If 'sentence' is a string, split it into tokens and return the length\n",
        "    elif isinstance(sentence_str, str):\n",
        "        tokens = sentence_str.split()\n",
        "        return len(tokens)\n",
        "\n",
        "    # Handle other cases or return 0 if it's not a recognized format\n",
        "    else:\n",
        "        return 0\n",
        "# Apply the function to the DataFrame\n",
        "df_train_exploded['sentence_length'] = df_train_exploded['sentences'].apply(calculate_sentence_length)\n",
        "df_test_exploded['sentence_length'] = df_test_exploded['sentences'].apply(calculate_sentence_length)\n",
        "\n",
        "# Display the resulting DataFrame with the new 'sentence_length' column\n",
        "print(df_train_exploded[['sentences', 'clean_highlights', 'max_cosine_similarity', 'label', 'sentence_length']])\n",
        "print(df_test_exploded[['sentences', 'clean_highlights', 'max_cosine_similarity', 'label', 'sentence_length']])\n"
      ],
      "metadata": {
        "id": "xpNkIZXys_Y9",
        "colab": {
          "base_uri": "https://localhost:8080/"
        },
        "outputId": "8f0dc8c3-f3ed-4048-ed1a-15468960705e"
      },
      "execution_count": null,
      "outputs": [
        {
          "output_type": "stream",
          "name": "stdout",
          "text": [
            "                                               sentences  \\\n",
            "0      [harry, potter, star, daniel, radcliffe, gain,...   \n",
            "1      [daniel, radcliffe, harry, potter, harry, pott...   \n",
            "2      [disappointment, gossip, columnist, around, wo...   \n",
            "3      [plan, one, people, soon, turn, 18, suddenly, ...   \n",
            "4      [thing, like, buying, thing, cost, 10, pound, ...   \n",
            "...                                                  ...   \n",
            "12042  [1915, made, singing, debut, chicago, symphony...   \n",
            "12043  [world, war, gave, recital, benefited, red, cr...   \n",
            "12044  [1918, began, nearly, year, stay, france, sing...   \n",
            "12045  [experience, led, breakdown, loss, singing, vo...   \n",
            "12046  [mental, floss, sing, national, anthem, sporti...   \n",
            "\n",
            "                                        clean_highlights  \\\n",
            "0      [[harry, potter, star, daniel, radcliffe, get,...   \n",
            "1      [[harry, potter, star, daniel, radcliffe, get,...   \n",
            "2      [[harry, potter, star, daniel, radcliffe, get,...   \n",
            "3      [[harry, potter, star, daniel, radcliffe, get,...   \n",
            "4      [[harry, potter, star, daniel, radcliffe, get,...   \n",
            "...                                                  ...   \n",
            "12042  [[president, harding, illegitimate, daughter, ...   \n",
            "12043  [[president, harding, illegitimate, daughter, ...   \n",
            "12044  [[president, harding, illegitimate, daughter, ...   \n",
            "12045  [[president, harding, illegitimate, daughter, ...   \n",
            "12046  [[president, harding, illegitimate, daughter, ...   \n",
            "\n",
            "       max_cosine_similarity  label  sentence_length  \n",
            "0                   0.936883      1               18  \n",
            "1                   0.844604      0                8  \n",
            "2                   0.900218      1               17  \n",
            "3                   0.850446      1               19  \n",
            "4                   0.770758      0               10  \n",
            "...                      ...    ...              ...  \n",
            "12042               0.673646      0               10  \n",
            "12043               0.687963      0               10  \n",
            "12044               0.733622      0                9  \n",
            "12045               0.691515      0                9  \n",
            "12046               0.634928      0                7  \n",
            "\n",
            "[12047 rows x 5 columns]\n",
            "                                              sentences  \\\n",
            "0     [palestinian, authority, officially, became, 1...   \n",
            "1     [formal, accession, marked, ceremony, hague, n...   \n",
            "2     [palestinian, signed, icc, founding, rome, sta...   \n",
            "3     [later, month, icc, opened, preliminary, exami...   \n",
            "4     [member, court, palestinian, may, subject, cou...   \n",
            "...                                                 ...   \n",
            "2618  [come, home, homework, eat, meal, together, ev...   \n",
            "2619  [doyne, first, priority, organization, keep, c...   \n",
            "2620  [order, come, home, need, lost, parent, rare, ...   \n",
            "2621  [usually, involves, going, child, village, mak...   \n",
            "2622  [dig, birth, certificate, death, certificate, ...   \n",
            "\n",
            "                                       clean_highlights  \\\n",
            "0     [[membership, give, icc, jurisdiction, alleged...   \n",
            "1     [[membership, give, icc, jurisdiction, alleged...   \n",
            "2     [[membership, give, icc, jurisdiction, alleged...   \n",
            "3     [[membership, give, icc, jurisdiction, alleged...   \n",
            "4     [[membership, give, icc, jurisdiction, alleged...   \n",
            "...                                                 ...   \n",
            "2618  [[nepal, civil, war, aftermath, inspired, magg...   \n",
            "2619  [[nepal, civil, war, aftermath, inspired, magg...   \n",
            "2620  [[nepal, civil, war, aftermath, inspired, magg...   \n",
            "2621  [[nepal, civil, war, aftermath, inspired, magg...   \n",
            "2622  [[nepal, civil, war, aftermath, inspired, magg...   \n",
            "\n",
            "      max_cosine_similarity  label  sentence_length  \n",
            "0                  0.937048      1               18  \n",
            "1                  0.792088      0                8  \n",
            "2                  0.959672      1               23  \n",
            "3                  0.926584      1               16  \n",
            "4                  0.857863      1                8  \n",
            "...                     ...    ...              ...  \n",
            "2618               0.748436      0               10  \n",
            "2619               0.834599      0                8  \n",
            "2620               0.814787      0               14  \n",
            "2621               0.801795      0               12  \n",
            "2622               0.755319      0               11  \n",
            "\n",
            "[2623 rows x 5 columns]\n"
          ]
        }
      ]
    },
    {
      "cell_type": "code",
      "source": [
        "\n",
        "df_test_exploded\n"
      ],
      "metadata": {
        "id": "o-dGbqpyuB9Q"
      },
      "execution_count": null,
      "outputs": []
    },
    {
      "cell_type": "code",
      "source": [
        "train_columns_to_keep = ['mean_embeddings', 'position','max_cosine_similarity', 'label', 'sentence_length']\n",
        "\n",
        "test_columns_to_keep = ['mean_embeddings', 'position','max_cosine_similarity', 'label', 'sentence_length','new_article_sentence']\n",
        "\n",
        "# Drop columns not in the list\n",
        "df_filtered_train = df_train_exploded.drop(columns=df_train_exploded.columns.difference(train_columns_to_keep), axis=1)\n",
        "df_filtered_test = df_test_exploded.drop(columns=df_test_exploded.columns.difference(test_columns_to_keep), axis=1)\n",
        "\n",
        "# Display the resulting DataFrame with only the desired columns\n",
        "print(df_filtered_train)\n",
        "print(df_filtered_test)"
      ],
      "metadata": {
        "id": "IAJzIxdnuo8U",
        "colab": {
          "base_uri": "https://localhost:8080/"
        },
        "outputId": "2035c883-508a-45f8-a500-7957145fb677"
      },
      "execution_count": null,
      "outputs": [
        {
          "output_type": "stream",
          "name": "stdout",
          "text": [
            "       position                                    mean_embeddings  \\\n",
            "0          1.00  [0.07560794055461884, 0.09687140583992004, 0.0...   \n",
            "1          0.88  [0.33138221502304077, 0.43603840470314026, 0.2...   \n",
            "2          0.75  [0.03037995472550392, 0.05898478999733925, -0....   \n",
            "3          0.62  [0.0943671315908432, 0.020216917619109154, 0.0...   \n",
            "4          0.50  [-0.034966520965099335, 0.18290971219539642, 0...   \n",
            "...         ...                                                ...   \n",
            "12042      0.14  [0.25769147276878357, 0.03035671077668667, 0.0...   \n",
            "12043      0.11  [0.0879194438457489, -0.016580261290073395, 0....   \n",
            "12044      0.08  [0.2691250443458557, -0.052242983132600784, 0....   \n",
            "12045      0.05  [0.25937116146087646, 0.0009072307148016989, 0...   \n",
            "12046      0.03  [0.24269549548625946, 0.4173557460308075, -0.1...   \n",
            "\n",
            "       max_cosine_similarity  label  sentence_length  \n",
            "0                   0.936883      1               18  \n",
            "1                   0.844604      0                8  \n",
            "2                   0.900218      1               17  \n",
            "3                   0.850446      1               19  \n",
            "4                   0.770758      0               10  \n",
            "...                      ...    ...              ...  \n",
            "12042               0.673646      0               10  \n",
            "12043               0.687963      0               10  \n",
            "12044               0.733622      0                9  \n",
            "12045               0.691515      0                9  \n",
            "12046               0.634928      0                7  \n",
            "\n",
            "[12047 rows x 5 columns]\n",
            "     new_article_sentence  position  \\\n",
            "0                     1-0      1.00   \n",
            "1                     1-1      0.92   \n",
            "2                     1-2      0.85   \n",
            "3                     1-3      0.77   \n",
            "4                     1-4      0.69   \n",
            "...                   ...       ...   \n",
            "2618                300-8      0.38   \n",
            "2619                300-9      0.31   \n",
            "2620               300-10      0.23   \n",
            "2621               300-11      0.15   \n",
            "2622               300-12      0.08   \n",
            "\n",
            "                                        mean_embeddings  \\\n",
            "0     [0.13960391283035278, 0.03212155029177666, 0.0...   \n",
            "1     [-0.029112108051776886, 0.19454684853553772, 0...   \n",
            "2     [0.22083032131195068, 0.15697425603866577, 0.2...   \n",
            "3     [0.12400460243225098, 0.16309775412082672, 0.2...   \n",
            "4     [0.26655715703964233, 0.0014545386657118797, 0...   \n",
            "...                                                 ...   \n",
            "2618  [0.17795193195343018, -0.026634614914655685, -...   \n",
            "2619  [0.22666037501767278, 0.020065916469320655, 0....   \n",
            "2620  [0.1462763398885727, 0.03958917781710625, -0.0...   \n",
            "2621  [0.14037583768367767, -0.08733206242322922, -0...   \n",
            "2622  [0.1258070170879364, 0.030715811997652054, 0.0...   \n",
            "\n",
            "      max_cosine_similarity  label  sentence_length  \n",
            "0                  0.937048      1               18  \n",
            "1                  0.792088      0                8  \n",
            "2                  0.959672      1               23  \n",
            "3                  0.926584      1               16  \n",
            "4                  0.857863      1                8  \n",
            "...                     ...    ...              ...  \n",
            "2618               0.748436      0               10  \n",
            "2619               0.834599      0                8  \n",
            "2620               0.814787      0               14  \n",
            "2621               0.801795      0               12  \n",
            "2622               0.755319      0               11  \n",
            "\n",
            "[2623 rows x 6 columns]\n"
          ]
        }
      ]
    },
    {
      "cell_type": "markdown",
      "source": [
        "#Here : to be able to continue with the summary generations from here, we can also keep the columns 'id', sentences and 'higlhights'."
      ],
      "metadata": {
        "id": "400i3h77K552"
      }
    },
    {
      "cell_type": "code",
      "source": [
        "df_filtered_train.to_csv('sample_trainset1000.csv')\n",
        "df_filtered_test.to_csv('sample_trainset300.csv')\n"
      ],
      "metadata": {
        "id": "96mh_32rvNjV"
      },
      "execution_count": null,
      "outputs": []
    },
    {
      "cell_type": "markdown",
      "source": [
        "See the examples from the dataset of Github:"
      ],
      "metadata": {
        "id": "nz1vdx0_hh9g"
      }
    },
    {
      "cell_type": "code",
      "source": [
        "#tr=pd.read_csv('/content/drive/MyDrive/NLU/Task_2/Training_Data_Extension_3.csv')\n",
        "#tst=pd.read_csv('/content/drive/MyDrive/NLU/Task_2/Test_Data_Extension_3.csv')\n",
        "#tr\n",
        "#tst"
      ],
      "metadata": {
        "id": "QpZhu88khf_I"
      },
      "execution_count": null,
      "outputs": []
    }
  ]
}