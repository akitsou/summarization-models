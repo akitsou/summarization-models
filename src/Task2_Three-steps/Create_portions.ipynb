{
 "cells": [
  {
   "cell_type": "code",
   "execution_count": 2,
   "metadata": {
    "id": "Ji40DfN6eZp_"
   },
   "outputs": [],
   "source": [
    "import pandas as pd"
   ]
  },
  {
   "cell_type": "code",
   "execution_count": 3,
   "metadata": {
    "id": "VJd7BXtce9ys"
   },
   "outputs": [],
   "source": [
    "# For readability.\n",
    "pd.set_option('max_colwidth', None)\n",
    "pd.set_option('display.max_columns', None)"
   ]
  },
  {
   "cell_type": "code",
   "execution_count": 4,
   "metadata": {
    "id": "-eBVPtoKej1-"
   },
   "outputs": [],
   "source": [
    "train_df = pd.read_csv('C:/Users/ankar/Desktop/summarization-models/train.csv')\n",
    "val_df = pd.read_csv('C:/Users/ankar/Desktop/summarization-models/val.csv')\n",
    "test_df = pd.read_csv('C:/Users/ankar/Desktop/summarization-models/test.csv')"
   ]
  },
  {
   "cell_type": "code",
   "execution_count": 5,
   "metadata": {
    "id": "mh09zwxce0RQ"
   },
   "outputs": [],
   "source": [
    "datasets = {'train': train_df, 'validation': val_df, 'test': test_df}\n",
    "random_state_val = 32\n",
    "\n",
    "for name, df in datasets.items():\n",
    "    if name in ['train', 'validation']:\n",
    "        # Sample 10% of the train and validation data.\n",
    "        df_sampled = df.sample(frac=0.1, random_state=random_state_val)\n",
    "        df_sampled.to_csv(f\"C:/Users/ankar/Desktop/summarization-models/ten_percent_{name}.csv\", index=False)\n",
    "    else:\n",
    "        # Save the full test data\n",
    "        df.to_csv(f\"C:/Users/ankar/Desktop/summarization-models/full_{name}.csv\", index=False)"
   ]
  },
  {
   "cell_type": "code",
   "execution_count": 7,
   "metadata": {
    "executionInfo": {
     "elapsed": 362,
     "status": "ok",
     "timestamp": 1704288898592,
     "user": {
      "displayName": "Αναστασία Καρακίτσου",
      "userId": "05978320568736761068"
     },
     "user_tz": -120
    },
    "id": "ph5IQvA-h0kL"
   },
   "outputs": [],
   "source": [
    "train_ten_percent = pd.read_csv(\"C:/Users/ankar/Desktop/summarization-models/ten_percent_train.csv\")\n",
    "val_ten_percent = pd.read_csv(\"C:/Users/ankar/Desktop/summarization-models/ten_percent_validation.csv\")\n",
    "test_full = pd.read_csv(\"C:/Users/ankar/Desktop/summarization-models/full_test.csv\")"
   ]
  },
  {
   "cell_type": "code",
   "execution_count": 9,
   "metadata": {
    "colab": {
     "base_uri": "https://localhost:8080/"
    },
    "executionInfo": {
     "elapsed": 9,
     "status": "ok",
     "timestamp": 1704288900656,
     "user": {
      "displayName": "Αναστασία Καρακίτσου",
      "userId": "05978320568736761068"
     },
     "user_tz": -120
    },
    "id": "RnpuHOLqh8wt",
    "outputId": "1cfd8074-314a-4880-a737-cdbdbac7333f"
   },
   "outputs": [
    {
     "name": "stdout",
     "output_type": "stream",
     "text": [
      "<class 'pandas.core.frame.DataFrame'>\n",
      "RangeIndex: 28711 entries, 0 to 28710\n",
      "Data columns (total 4 columns):\n",
      " #   Column      Non-Null Count  Dtype \n",
      "---  ------      --------------  ----- \n",
      " 0   Unnamed: 0  28711 non-null  int64 \n",
      " 1   article     28711 non-null  object\n",
      " 2   highlights  28711 non-null  object\n",
      " 3   id          28711 non-null  object\n",
      "dtypes: int64(1), object(3)\n",
      "memory usage: 897.3+ KB\n"
     ]
    }
   ],
   "source": [
    "train_ten_percent.info()"
   ]
  },
  {
   "cell_type": "code",
   "execution_count": 10,
   "metadata": {
    "colab": {
     "base_uri": "https://localhost:8080/"
    },
    "executionInfo": {
     "elapsed": 9,
     "status": "ok",
     "timestamp": 1704288923892,
     "user": {
      "displayName": "Αναστασία Καρακίτσου",
      "userId": "05978320568736761068"
     },
     "user_tz": -120
    },
    "id": "YFCxR7DgiATA",
    "outputId": "9665b4e9-0164-4ae9-ce01-d909f7c2c5b8"
   },
   "outputs": [
    {
     "name": "stdout",
     "output_type": "stream",
     "text": [
      "<class 'pandas.core.frame.DataFrame'>\n",
      "RangeIndex: 1337 entries, 0 to 1336\n",
      "Data columns (total 4 columns):\n",
      " #   Column      Non-Null Count  Dtype \n",
      "---  ------      --------------  ----- \n",
      " 0   Unnamed: 0  1337 non-null   int64 \n",
      " 1   article     1337 non-null   object\n",
      " 2   highlights  1337 non-null   object\n",
      " 3   id          1337 non-null   object\n",
      "dtypes: int64(1), object(3)\n",
      "memory usage: 41.9+ KB\n"
     ]
    }
   ],
   "source": [
    "val_ten_percent.info()"
   ]
  },
  {
   "cell_type": "code",
   "execution_count": 11,
   "metadata": {
    "colab": {
     "base_uri": "https://localhost:8080/"
    },
    "executionInfo": {
     "elapsed": 6,
     "status": "ok",
     "timestamp": 1704288939225,
     "user": {
      "displayName": "Αναστασία Καρακίτσου",
      "userId": "05978320568736761068"
     },
     "user_tz": -120
    },
    "id": "qNF_K41niS4Z",
    "outputId": "9d2d4aea-82c7-4374-eec3-6011385e6d8b"
   },
   "outputs": [
    {
     "name": "stdout",
     "output_type": "stream",
     "text": [
      "<class 'pandas.core.frame.DataFrame'>\n",
      "RangeIndex: 11490 entries, 0 to 11489\n",
      "Data columns (total 4 columns):\n",
      " #   Column      Non-Null Count  Dtype \n",
      "---  ------      --------------  ----- \n",
      " 0   Unnamed: 0  11490 non-null  int64 \n",
      " 1   article     11490 non-null  object\n",
      " 2   highlights  11490 non-null  object\n",
      " 3   id          11490 non-null  object\n",
      "dtypes: int64(1), object(3)\n",
      "memory usage: 359.2+ KB\n"
     ]
    }
   ],
   "source": [
    "test_full.info()"
   ]
  },
  {
   "cell_type": "code",
   "execution_count": null,
   "metadata": {
    "id": "lkkbtwhcindC"
   },
   "outputs": [],
   "source": []
  }
 ],
 "metadata": {
  "colab": {
   "authorship_tag": "ABX9TyPNEGd4iAhZBCxIgl/m1ttc",
   "provenance": []
  },
  "kernelspec": {
   "display_name": "Python 3 (ipykernel)",
   "language": "python",
   "name": "python3"
  },
  "language_info": {
   "codemirror_mode": {
    "name": "ipython",
    "version": 3
   },
   "file_extension": ".py",
   "mimetype": "text/x-python",
   "name": "python",
   "nbconvert_exporter": "python",
   "pygments_lexer": "ipython3",
   "version": "3.11.5"
  }
 },
 "nbformat": 4,
 "nbformat_minor": 1
}
