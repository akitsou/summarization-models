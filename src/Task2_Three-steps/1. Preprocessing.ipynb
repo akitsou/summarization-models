{
 "cells": [
  {
   "cell_type": "markdown",
   "metadata": {
    "id": "fws7Wz4ez4FC"
   },
   "source": [
    "# Preprocessing\n",
    "**What was not removed is the numbers!**"
   ]
  },
  {
   "cell_type": "code",
   "execution_count": 1,
   "metadata": {
    "id": "o1trUEQ-QoKW"
   },
   "outputs": [
    {
     "name": "stdout",
     "output_type": "stream",
     "text": [
      "Requirement already satisfied: contractions in c:\\users\\ankar\\anaconda3\\envs\\ai-2\\lib\\site-packages (0.1.73)\n",
      "Requirement already satisfied: textsearch>=0.0.21 in c:\\users\\ankar\\anaconda3\\envs\\ai-2\\lib\\site-packages (from contractions) (0.0.24)\n",
      "Requirement already satisfied: anyascii in c:\\users\\ankar\\anaconda3\\envs\\ai-2\\lib\\site-packages (from textsearch>=0.0.21->contractions) (0.3.2)\n",
      "Requirement already satisfied: pyahocorasick in c:\\users\\ankar\\anaconda3\\envs\\ai-2\\lib\\site-packages (from textsearch>=0.0.21->contractions) (2.0.0)\n"
     ]
    }
   ],
   "source": [
    "!pip install contractions"
   ]
  },
  {
   "cell_type": "code",
   "execution_count": 2,
   "metadata": {
    "id": "T1THunn0vvKJ"
   },
   "outputs": [
    {
     "name": "stdout",
     "output_type": "stream",
     "text": [
      "Requirement already satisfied: spacy in c:\\users\\ankar\\anaconda3\\envs\\ai-2\\lib\\site-packages (3.7.2)\n",
      "Requirement already satisfied: spacy-legacy<3.1.0,>=3.0.11 in c:\\users\\ankar\\anaconda3\\envs\\ai-2\\lib\\site-packages (from spacy) (3.0.12)\n",
      "Requirement already satisfied: spacy-loggers<2.0.0,>=1.0.0 in c:\\users\\ankar\\anaconda3\\envs\\ai-2\\lib\\site-packages (from spacy) (1.0.5)\n",
      "Requirement already satisfied: murmurhash<1.1.0,>=0.28.0 in c:\\users\\ankar\\anaconda3\\envs\\ai-2\\lib\\site-packages (from spacy) (1.0.10)\n",
      "Requirement already satisfied: cymem<2.1.0,>=2.0.2 in c:\\users\\ankar\\anaconda3\\envs\\ai-2\\lib\\site-packages (from spacy) (2.0.8)\n",
      "Requirement already satisfied: preshed<3.1.0,>=3.0.2 in c:\\users\\ankar\\anaconda3\\envs\\ai-2\\lib\\site-packages (from spacy) (3.0.9)\n",
      "Requirement already satisfied: thinc<8.3.0,>=8.1.8 in c:\\users\\ankar\\anaconda3\\envs\\ai-2\\lib\\site-packages (from spacy) (8.2.1)\n",
      "Requirement already satisfied: wasabi<1.2.0,>=0.9.1 in c:\\users\\ankar\\anaconda3\\envs\\ai-2\\lib\\site-packages (from spacy) (1.1.2)\n",
      "Requirement already satisfied: srsly<3.0.0,>=2.4.3 in c:\\users\\ankar\\anaconda3\\envs\\ai-2\\lib\\site-packages (from spacy) (2.4.8)\n",
      "Requirement already satisfied: catalogue<2.1.0,>=2.0.6 in c:\\users\\ankar\\anaconda3\\envs\\ai-2\\lib\\site-packages (from spacy) (2.0.10)\n",
      "Requirement already satisfied: weasel<0.4.0,>=0.1.0 in c:\\users\\ankar\\anaconda3\\envs\\ai-2\\lib\\site-packages (from spacy) (0.3.4)\n",
      "Requirement already satisfied: typer<0.10.0,>=0.3.0 in c:\\users\\ankar\\anaconda3\\envs\\ai-2\\lib\\site-packages (from spacy) (0.9.0)\n",
      "Requirement already satisfied: smart-open<7.0.0,>=5.2.1 in c:\\users\\ankar\\anaconda3\\envs\\ai-2\\lib\\site-packages (from spacy) (6.4.0)\n",
      "Requirement already satisfied: tqdm<5.0.0,>=4.38.0 in c:\\users\\ankar\\anaconda3\\envs\\ai-2\\lib\\site-packages (from spacy) (4.66.1)\n",
      "Requirement already satisfied: requests<3.0.0,>=2.13.0 in c:\\users\\ankar\\anaconda3\\envs\\ai-2\\lib\\site-packages (from spacy) (2.31.0)\n",
      "Requirement already satisfied: pydantic!=1.8,!=1.8.1,<3.0.0,>=1.7.4 in c:\\users\\ankar\\anaconda3\\envs\\ai-2\\lib\\site-packages (from spacy) (2.5.1)\n",
      "Requirement already satisfied: jinja2 in c:\\users\\ankar\\anaconda3\\envs\\ai-2\\lib\\site-packages (from spacy) (3.1.2)\n",
      "Requirement already satisfied: setuptools in c:\\users\\ankar\\anaconda3\\envs\\ai-2\\lib\\site-packages (from spacy) (68.0.0)\n",
      "Requirement already satisfied: packaging>=20.0 in c:\\users\\ankar\\anaconda3\\envs\\ai-2\\lib\\site-packages (from spacy) (23.1)\n",
      "Requirement already satisfied: langcodes<4.0.0,>=3.2.0 in c:\\users\\ankar\\anaconda3\\envs\\ai-2\\lib\\site-packages (from spacy) (3.3.0)\n",
      "Requirement already satisfied: numpy>=1.19.0 in c:\\users\\ankar\\anaconda3\\envs\\ai-2\\lib\\site-packages (from spacy) (1.26.0)\n",
      "Requirement already satisfied: annotated-types>=0.4.0 in c:\\users\\ankar\\anaconda3\\envs\\ai-2\\lib\\site-packages (from pydantic!=1.8,!=1.8.1,<3.0.0,>=1.7.4->spacy) (0.6.0)\n",
      "Requirement already satisfied: pydantic-core==2.14.3 in c:\\users\\ankar\\anaconda3\\envs\\ai-2\\lib\\site-packages (from pydantic!=1.8,!=1.8.1,<3.0.0,>=1.7.4->spacy) (2.14.3)\n",
      "Requirement already satisfied: typing-extensions>=4.6.1 in c:\\users\\ankar\\anaconda3\\envs\\ai-2\\lib\\site-packages (from pydantic!=1.8,!=1.8.1,<3.0.0,>=1.7.4->spacy) (4.7.1)\n",
      "Requirement already satisfied: charset-normalizer<4,>=2 in c:\\users\\ankar\\anaconda3\\envs\\ai-2\\lib\\site-packages (from requests<3.0.0,>=2.13.0->spacy) (3.3.2)\n",
      "Requirement already satisfied: idna<4,>=2.5 in c:\\users\\ankar\\anaconda3\\envs\\ai-2\\lib\\site-packages (from requests<3.0.0,>=2.13.0->spacy) (3.4)\n",
      "Requirement already satisfied: urllib3<3,>=1.21.1 in c:\\users\\ankar\\anaconda3\\envs\\ai-2\\lib\\site-packages (from requests<3.0.0,>=2.13.0->spacy) (2.1.0)\n",
      "Requirement already satisfied: certifi>=2017.4.17 in c:\\users\\ankar\\anaconda3\\envs\\ai-2\\lib\\site-packages (from requests<3.0.0,>=2.13.0->spacy) (2023.11.17)\n",
      "Requirement already satisfied: blis<0.8.0,>=0.7.8 in c:\\users\\ankar\\anaconda3\\envs\\ai-2\\lib\\site-packages (from thinc<8.3.0,>=8.1.8->spacy) (0.7.11)\n",
      "Requirement already satisfied: confection<1.0.0,>=0.0.1 in c:\\users\\ankar\\anaconda3\\envs\\ai-2\\lib\\site-packages (from thinc<8.3.0,>=8.1.8->spacy) (0.1.3)\n",
      "Requirement already satisfied: colorama in c:\\users\\ankar\\anaconda3\\envs\\ai-2\\lib\\site-packages (from tqdm<5.0.0,>=4.38.0->spacy) (0.4.6)\n",
      "Requirement already satisfied: click<9.0.0,>=7.1.1 in c:\\users\\ankar\\anaconda3\\envs\\ai-2\\lib\\site-packages (from typer<0.10.0,>=0.3.0->spacy) (8.1.7)\n",
      "Requirement already satisfied: cloudpathlib<0.17.0,>=0.7.0 in c:\\users\\ankar\\anaconda3\\envs\\ai-2\\lib\\site-packages (from weasel<0.4.0,>=0.1.0->spacy) (0.16.0)\n",
      "Requirement already satisfied: MarkupSafe>=2.0 in c:\\users\\ankar\\anaconda3\\envs\\ai-2\\lib\\site-packages (from jinja2->spacy) (2.1.1)\n",
      "Collecting en-core-web-sm==3.7.1\n",
      "  Downloading https://github.com/explosion/spacy-models/releases/download/en_core_web_sm-3.7.1/en_core_web_sm-3.7.1-py3-none-any.whl (12.8 MB)\n",
      "     ---------------------------------------- 0.0/12.8 MB ? eta -:--:--\n",
      "     ---------------------------------------- 0.0/12.8 MB ? eta -:--:--\n",
      "     --------------------------------------- 0.0/12.8 MB 495.5 kB/s eta 0:00:26\n",
      "     ---------------------------------------- 0.2/12.8 MB 1.1 MB/s eta 0:00:12\n",
      "     - -------------------------------------- 0.4/12.8 MB 2.3 MB/s eta 0:00:06\n",
      "     -- ------------------------------------- 0.9/12.8 MB 4.0 MB/s eta 0:00:03\n",
      "     ---- ----------------------------------- 1.5/12.8 MB 5.6 MB/s eta 0:00:03\n",
      "     ------ --------------------------------- 2.1/12.8 MB 6.6 MB/s eta 0:00:02\n",
      "     -------- ------------------------------- 2.7/12.8 MB 7.4 MB/s eta 0:00:02\n",
      "     ---------- ----------------------------- 3.3/12.8 MB 8.0 MB/s eta 0:00:02\n",
      "     ------------ --------------------------- 3.9/12.8 MB 8.6 MB/s eta 0:00:02\n",
      "     -------------- ------------------------- 4.5/12.8 MB 9.0 MB/s eta 0:00:01\n",
      "     --------------- ------------------------ 5.1/12.8 MB 9.3 MB/s eta 0:00:01\n",
      "     ----------------- ---------------------- 5.7/12.8 MB 9.6 MB/s eta 0:00:01\n",
      "     ------------------- -------------------- 6.3/12.8 MB 9.8 MB/s eta 0:00:01\n",
      "     --------------------- ------------------ 6.9/12.8 MB 10.0 MB/s eta 0:00:01\n",
      "     ----------------------- ---------------- 7.5/12.8 MB 10.2 MB/s eta 0:00:01\n",
      "     ------------------------- -------------- 8.1/12.8 MB 10.6 MB/s eta 0:00:01\n",
      "     --------------------------- ------------ 8.7/12.8 MB 10.5 MB/s eta 0:00:01\n",
      "     ---------------------------- ----------- 9.1/12.8 MB 10.6 MB/s eta 0:00:01\n",
      "     ------------------------------ --------- 9.9/12.8 MB 10.9 MB/s eta 0:00:01\n",
      "     ------------------------------- ------- 10.5/12.8 MB 12.6 MB/s eta 0:00:01\n",
      "     --------------------------------- ----- 11.1/12.8 MB 13.1 MB/s eta 0:00:01\n",
      "     ----------------------------------- --- 11.7/12.8 MB 13.1 MB/s eta 0:00:01\n",
      "     ------------------------------------ -- 12.0/12.8 MB 12.8 MB/s eta 0:00:01\n",
      "     ------------------------------------- - 12.3/12.8 MB 12.4 MB/s eta 0:00:01\n",
      "     --------------------------------------  12.7/12.8 MB 11.9 MB/s eta 0:00:01\n",
      "     --------------------------------------- 12.8/12.8 MB 11.7 MB/s eta 0:00:00\n",
      "Requirement already satisfied: spacy<3.8.0,>=3.7.2 in c:\\users\\ankar\\anaconda3\\envs\\ai-2\\lib\\site-packages (from en-core-web-sm==3.7.1) (3.7.2)\n",
      "Requirement already satisfied: spacy-legacy<3.1.0,>=3.0.11 in c:\\users\\ankar\\anaconda3\\envs\\ai-2\\lib\\site-packages (from spacy<3.8.0,>=3.7.2->en-core-web-sm==3.7.1) (3.0.12)\n",
      "Requirement already satisfied: spacy-loggers<2.0.0,>=1.0.0 in c:\\users\\ankar\\anaconda3\\envs\\ai-2\\lib\\site-packages (from spacy<3.8.0,>=3.7.2->en-core-web-sm==3.7.1) (1.0.5)\n",
      "Requirement already satisfied: murmurhash<1.1.0,>=0.28.0 in c:\\users\\ankar\\anaconda3\\envs\\ai-2\\lib\\site-packages (from spacy<3.8.0,>=3.7.2->en-core-web-sm==3.7.1) (1.0.10)\n",
      "Requirement already satisfied: cymem<2.1.0,>=2.0.2 in c:\\users\\ankar\\anaconda3\\envs\\ai-2\\lib\\site-packages (from spacy<3.8.0,>=3.7.2->en-core-web-sm==3.7.1) (2.0.8)\n",
      "Requirement already satisfied: preshed<3.1.0,>=3.0.2 in c:\\users\\ankar\\anaconda3\\envs\\ai-2\\lib\\site-packages (from spacy<3.8.0,>=3.7.2->en-core-web-sm==3.7.1) (3.0.9)\n",
      "Requirement already satisfied: thinc<8.3.0,>=8.1.8 in c:\\users\\ankar\\anaconda3\\envs\\ai-2\\lib\\site-packages (from spacy<3.8.0,>=3.7.2->en-core-web-sm==3.7.1) (8.2.1)\n",
      "Requirement already satisfied: wasabi<1.2.0,>=0.9.1 in c:\\users\\ankar\\anaconda3\\envs\\ai-2\\lib\\site-packages (from spacy<3.8.0,>=3.7.2->en-core-web-sm==3.7.1) (1.1.2)\n",
      "Requirement already satisfied: srsly<3.0.0,>=2.4.3 in c:\\users\\ankar\\anaconda3\\envs\\ai-2\\lib\\site-packages (from spacy<3.8.0,>=3.7.2->en-core-web-sm==3.7.1) (2.4.8)\n",
      "Requirement already satisfied: catalogue<2.1.0,>=2.0.6 in c:\\users\\ankar\\anaconda3\\envs\\ai-2\\lib\\site-packages (from spacy<3.8.0,>=3.7.2->en-core-web-sm==3.7.1) (2.0.10)\n",
      "Requirement already satisfied: weasel<0.4.0,>=0.1.0 in c:\\users\\ankar\\anaconda3\\envs\\ai-2\\lib\\site-packages (from spacy<3.8.0,>=3.7.2->en-core-web-sm==3.7.1) (0.3.4)\n",
      "Requirement already satisfied: typer<0.10.0,>=0.3.0 in c:\\users\\ankar\\anaconda3\\envs\\ai-2\\lib\\site-packages (from spacy<3.8.0,>=3.7.2->en-core-web-sm==3.7.1) (0.9.0)\n",
      "Requirement already satisfied: smart-open<7.0.0,>=5.2.1 in c:\\users\\ankar\\anaconda3\\envs\\ai-2\\lib\\site-packages (from spacy<3.8.0,>=3.7.2->en-core-web-sm==3.7.1) (6.4.0)\n",
      "Requirement already satisfied: tqdm<5.0.0,>=4.38.0 in c:\\users\\ankar\\anaconda3\\envs\\ai-2\\lib\\site-packages (from spacy<3.8.0,>=3.7.2->en-core-web-sm==3.7.1) (4.66.1)\n",
      "Requirement already satisfied: requests<3.0.0,>=2.13.0 in c:\\users\\ankar\\anaconda3\\envs\\ai-2\\lib\\site-packages (from spacy<3.8.0,>=3.7.2->en-core-web-sm==3.7.1) (2.31.0)\n",
      "Requirement already satisfied: pydantic!=1.8,!=1.8.1,<3.0.0,>=1.7.4 in c:\\users\\ankar\\anaconda3\\envs\\ai-2\\lib\\site-packages (from spacy<3.8.0,>=3.7.2->en-core-web-sm==3.7.1) (2.5.1)\n",
      "Requirement already satisfied: jinja2 in c:\\users\\ankar\\anaconda3\\envs\\ai-2\\lib\\site-packages (from spacy<3.8.0,>=3.7.2->en-core-web-sm==3.7.1) (3.1.2)\n",
      "Requirement already satisfied: setuptools in c:\\users\\ankar\\anaconda3\\envs\\ai-2\\lib\\site-packages (from spacy<3.8.0,>=3.7.2->en-core-web-sm==3.7.1) (68.0.0)\n",
      "Requirement already satisfied: packaging>=20.0 in c:\\users\\ankar\\anaconda3\\envs\\ai-2\\lib\\site-packages (from spacy<3.8.0,>=3.7.2->en-core-web-sm==3.7.1) (23.1)\n",
      "Requirement already satisfied: langcodes<4.0.0,>=3.2.0 in c:\\users\\ankar\\anaconda3\\envs\\ai-2\\lib\\site-packages (from spacy<3.8.0,>=3.7.2->en-core-web-sm==3.7.1) (3.3.0)\n",
      "Requirement already satisfied: numpy>=1.19.0 in c:\\users\\ankar\\anaconda3\\envs\\ai-2\\lib\\site-packages (from spacy<3.8.0,>=3.7.2->en-core-web-sm==3.7.1) (1.26.0)\n",
      "Requirement already satisfied: annotated-types>=0.4.0 in c:\\users\\ankar\\anaconda3\\envs\\ai-2\\lib\\site-packages (from pydantic!=1.8,!=1.8.1,<3.0.0,>=1.7.4->spacy<3.8.0,>=3.7.2->en-core-web-sm==3.7.1) (0.6.0)\n",
      "Requirement already satisfied: pydantic-core==2.14.3 in c:\\users\\ankar\\anaconda3\\envs\\ai-2\\lib\\site-packages (from pydantic!=1.8,!=1.8.1,<3.0.0,>=1.7.4->spacy<3.8.0,>=3.7.2->en-core-web-sm==3.7.1) (2.14.3)\n",
      "Requirement already satisfied: typing-extensions>=4.6.1 in c:\\users\\ankar\\anaconda3\\envs\\ai-2\\lib\\site-packages (from pydantic!=1.8,!=1.8.1,<3.0.0,>=1.7.4->spacy<3.8.0,>=3.7.2->en-core-web-sm==3.7.1) (4.7.1)\n",
      "Requirement already satisfied: charset-normalizer<4,>=2 in c:\\users\\ankar\\anaconda3\\envs\\ai-2\\lib\\site-packages (from requests<3.0.0,>=2.13.0->spacy<3.8.0,>=3.7.2->en-core-web-sm==3.7.1) (3.3.2)\n",
      "Requirement already satisfied: idna<4,>=2.5 in c:\\users\\ankar\\anaconda3\\envs\\ai-2\\lib\\site-packages (from requests<3.0.0,>=2.13.0->spacy<3.8.0,>=3.7.2->en-core-web-sm==3.7.1) (3.4)\n",
      "Requirement already satisfied: urllib3<3,>=1.21.1 in c:\\users\\ankar\\anaconda3\\envs\\ai-2\\lib\\site-packages (from requests<3.0.0,>=2.13.0->spacy<3.8.0,>=3.7.2->en-core-web-sm==3.7.1) (2.1.0)\n",
      "Requirement already satisfied: certifi>=2017.4.17 in c:\\users\\ankar\\anaconda3\\envs\\ai-2\\lib\\site-packages (from requests<3.0.0,>=2.13.0->spacy<3.8.0,>=3.7.2->en-core-web-sm==3.7.1) (2023.11.17)\n",
      "Requirement already satisfied: blis<0.8.0,>=0.7.8 in c:\\users\\ankar\\anaconda3\\envs\\ai-2\\lib\\site-packages (from thinc<8.3.0,>=8.1.8->spacy<3.8.0,>=3.7.2->en-core-web-sm==3.7.1) (0.7.11)\n",
      "Requirement already satisfied: confection<1.0.0,>=0.0.1 in c:\\users\\ankar\\anaconda3\\envs\\ai-2\\lib\\site-packages (from thinc<8.3.0,>=8.1.8->spacy<3.8.0,>=3.7.2->en-core-web-sm==3.7.1) (0.1.3)\n",
      "Requirement already satisfied: colorama in c:\\users\\ankar\\anaconda3\\envs\\ai-2\\lib\\site-packages (from tqdm<5.0.0,>=4.38.0->spacy<3.8.0,>=3.7.2->en-core-web-sm==3.7.1) (0.4.6)\n",
      "Requirement already satisfied: click<9.0.0,>=7.1.1 in c:\\users\\ankar\\anaconda3\\envs\\ai-2\\lib\\site-packages (from typer<0.10.0,>=0.3.0->spacy<3.8.0,>=3.7.2->en-core-web-sm==3.7.1) (8.1.7)\n",
      "Requirement already satisfied: cloudpathlib<0.17.0,>=0.7.0 in c:\\users\\ankar\\anaconda3\\envs\\ai-2\\lib\\site-packages (from weasel<0.4.0,>=0.1.0->spacy<3.8.0,>=3.7.2->en-core-web-sm==3.7.1) (0.16.0)\n",
      "Requirement already satisfied: MarkupSafe>=2.0 in c:\\users\\ankar\\anaconda3\\envs\\ai-2\\lib\\site-packages (from jinja2->spacy<3.8.0,>=3.7.2->en-core-web-sm==3.7.1) (2.1.1)\n",
      "\u001b[38;5;2m[+] Download and installation successful\u001b[0m\n",
      "You can now load the package via spacy.load('en_core_web_sm')\n"
     ]
    }
   ],
   "source": [
    "import pandas as pd\n",
    "from bs4 import BeautifulSoup\n",
    "import re\n",
    "import string\n",
    "import nltk\n",
    "#from nltk.tokenize import word_tokenize, sent_tokenize\n",
    "#from nltk.stem import WordNetLemmatizer\n",
    "#nltk.download('punkt')\n",
    "#nltk.download('wordnet')\n",
    "#from nltk.corpus import stopwords\n",
    "#nltk.download('stopwords')\n",
    "from string import punctuation\n",
    "import contractions\n",
    "!pip install spacy\n",
    "!python -m spacy download en_core_web_sm\n",
    "import spacy"
   ]
  },
  {
   "cell_type": "code",
   "execution_count": 3,
   "metadata": {
    "id": "78rOpBb3tgPr"
   },
   "outputs": [],
   "source": [
    "train_tenpercent_df = pd.read_csv('C:/Users/ankar/Desktop/summarization-models/ten_percent_train.csv')\n",
    "val_tenpercent_df = pd.read_csv('C:/Users/ankar/Desktop/summarization-models/ten_percent_validation.csv')\n",
    "test_full_df = pd.read_csv('C:/Users/ankar/Desktop/summarization-models/full_test.csv')"
   ]
  },
  {
   "cell_type": "code",
   "execution_count": 4,
   "metadata": {
    "id": "8RIvUXzm7DB-"
   },
   "outputs": [],
   "source": [
    "# For readability.\n",
    "pd.set_option('max_colwidth', None)\n",
    "pd.set_option('display.max_columns', None)"
   ]
  },
  {
   "cell_type": "code",
   "execution_count": 5,
   "metadata": {},
   "outputs": [],
   "source": [
    "# Hold the three datasets.\n",
    "datasets = {'train': train_tenpercent_df, 'val': val_tenpercent_df, 'test': test_full_df} "
   ]
  },
  {
   "cell_type": "code",
   "execution_count": 6,
   "metadata": {
    "colab": {
     "base_uri": "https://localhost:8080/"
    },
    "executionInfo": {
     "elapsed": 342,
     "status": "ok",
     "timestamp": 1704037341787,
     "user": {
      "displayName": "Αναστασία Καρακίτσου",
      "userId": "05978320568736761068"
     },
     "user_tz": -120
    },
    "id": "TopjNUZCgTDc",
    "outputId": "12867480-816a-4ce8-a666-f7a9d891e336"
   },
   "outputs": [
    {
     "name": "stdout",
     "output_type": "stream",
     "text": [
      "<class 'pandas.core.frame.DataFrame'>\n",
      "RangeIndex: 28711 entries, 0 to 28710\n",
      "Data columns (total 4 columns):\n",
      " #   Column      Non-Null Count  Dtype \n",
      "---  ------      --------------  ----- \n",
      " 0   Unnamed: 0  28711 non-null  int64 \n",
      " 1   article     28711 non-null  object\n",
      " 2   highlights  28711 non-null  object\n",
      " 3   id          28711 non-null  object\n",
      "dtypes: int64(1), object(3)\n",
      "memory usage: 897.3+ KB\n"
     ]
    }
   ],
   "source": [
    "datasets['train'].info()"
   ]
  },
  {
   "cell_type": "code",
   "execution_count": 7,
   "metadata": {
    "colab": {
     "base_uri": "https://localhost:8080/"
    },
    "executionInfo": {
     "elapsed": 361,
     "status": "ok",
     "timestamp": 1704037359980,
     "user": {
      "displayName": "Αναστασία Καρακίτσου",
      "userId": "05978320568736761068"
     },
     "user_tz": -120
    },
    "id": "L73uI5X0iphx",
    "outputId": "38284b44-f587-442e-8215-4dd2cb0d7ecb"
   },
   "outputs": [
    {
     "name": "stdout",
     "output_type": "stream",
     "text": [
      "<class 'pandas.core.frame.DataFrame'>\n",
      "RangeIndex: 1337 entries, 0 to 1336\n",
      "Data columns (total 4 columns):\n",
      " #   Column      Non-Null Count  Dtype \n",
      "---  ------      --------------  ----- \n",
      " 0   Unnamed: 0  1337 non-null   int64 \n",
      " 1   article     1337 non-null   object\n",
      " 2   highlights  1337 non-null   object\n",
      " 3   id          1337 non-null   object\n",
      "dtypes: int64(1), object(3)\n",
      "memory usage: 41.9+ KB\n"
     ]
    }
   ],
   "source": [
    "datasets['val'].info()"
   ]
  },
  {
   "cell_type": "code",
   "execution_count": 8,
   "metadata": {
    "colab": {
     "base_uri": "https://localhost:8080/"
    },
    "executionInfo": {
     "elapsed": 252,
     "status": "ok",
     "timestamp": 1704037377171,
     "user": {
      "displayName": "Αναστασία Καρακίτσου",
      "userId": "05978320568736761068"
     },
     "user_tz": -120
    },
    "id": "77h40Alfitpo",
    "outputId": "653ebe33-2765-4127-f960-c2e0bf2ea5d0"
   },
   "outputs": [
    {
     "name": "stdout",
     "output_type": "stream",
     "text": [
      "<class 'pandas.core.frame.DataFrame'>\n",
      "RangeIndex: 11490 entries, 0 to 11489\n",
      "Data columns (total 4 columns):\n",
      " #   Column      Non-Null Count  Dtype \n",
      "---  ------      --------------  ----- \n",
      " 0   Unnamed: 0  11490 non-null  int64 \n",
      " 1   article     11490 non-null  object\n",
      " 2   highlights  11490 non-null  object\n",
      " 3   id          11490 non-null  object\n",
      "dtypes: int64(1), object(3)\n",
      "memory usage: 359.2+ KB\n"
     ]
    }
   ],
   "source": [
    "datasets['test'].info()"
   ]
  },
  {
   "cell_type": "code",
   "execution_count": 9,
   "metadata": {
    "colab": {
     "base_uri": "https://localhost:8080/"
    },
    "executionInfo": {
     "elapsed": 686,
     "status": "ok",
     "timestamp": 1704037489096,
     "user": {
      "displayName": "Αναστασία Καρακίτσου",
      "userId": "05978320568736761068"
     },
     "user_tz": -120
    },
    "id": "JUx4QJkMwQfk",
    "outputId": "d98e48a6-3056-44fb-d332-3e8e0c111ca9"
   },
   "outputs": [
    {
     "name": "stderr",
     "output_type": "stream",
     "text": [
      "C:\\Users\\ankar\\AppData\\Local\\Temp\\ipykernel_9540\\1517380086.py:3: MarkupResemblesLocatorWarning: The input looks more like a filename than markup. You may want to open this file and pass the filehandle into Beautiful Soup.\n",
      "  soup = BeautifulSoup(text, \"html.parser\")\n",
      "C:\\Users\\ankar\\AppData\\Local\\Temp\\ipykernel_9540\\1517380086.py:3: MarkupResemblesLocatorWarning: The input looks more like a filename than markup. You may want to open this file and pass the filehandle into Beautiful Soup.\n",
      "  soup = BeautifulSoup(text, \"html.parser\")\n",
      "C:\\Users\\ankar\\AppData\\Local\\Temp\\ipykernel_9540\\1517380086.py:3: MarkupResemblesLocatorWarning: The input looks more like a filename than markup. You may want to open this file and pass the filehandle into Beautiful Soup.\n",
      "  soup = BeautifulSoup(text, \"html.parser\")\n"
     ]
    }
   ],
   "source": [
    "# Remove Internet cluτter (potential html + href + urls + usernames).\n",
    "def rm_html_url(text):\n",
    "    soup = BeautifulSoup(text, \"html.parser\")\n",
    "    text = soup.get_text()\n",
    "    url_pattern = r'http[s]?://(?:[a-zA-Z]|[0-9]|[$-_@.&+]|[!*\\\\(\\\\),]|(?:%[0-9a-fA-F][0-9a-fA-F]))+'  # or: r'https?://\\S+'\n",
    "    text = re.sub(url_pattern, '', text)\n",
    "    username_pattern = r'@\\w+'\n",
    "    text = re.sub(username_pattern, '', text)\n",
    "    return text\n",
    "\n",
    "for name, df in datasets.items():\n",
    "    df['internet-free_art'] = df['article'].apply(rm_html_url)\n",
    "    df['internet-free_high'] = df['highlights'].apply(rm_html_url)\n",
    "    # Update the df in the 'datasets' dictionary.\n",
    "    datasets[name] = df"
   ]
  },
  {
   "cell_type": "code",
   "execution_count": 10,
   "metadata": {
    "colab": {
     "base_uri": "https://localhost:8080/",
     "height": 1000
    },
    "executionInfo": {
     "elapsed": 385,
     "status": "ok",
     "timestamp": 1704037673845,
     "user": {
      "displayName": "Αναστασία Καρακίτσου",
      "userId": "05978320568736761068"
     },
     "user_tz": -120
    },
    "id": "3nWhqjXS667c",
    "outputId": "193f3bf8-96f2-4573-ab74-a7ef6adf8d3d"
   },
   "outputs": [
    {
     "data": {
      "text/html": [
       "<div>\n",
       "<style scoped>\n",
       "    .dataframe tbody tr th:only-of-type {\n",
       "        vertical-align: middle;\n",
       "    }\n",
       "\n",
       "    .dataframe tbody tr th {\n",
       "        vertical-align: top;\n",
       "    }\n",
       "\n",
       "    .dataframe thead th {\n",
       "        text-align: right;\n",
       "    }\n",
       "</style>\n",
       "<table border=\"1\" class=\"dataframe\">\n",
       "  <thead>\n",
       "    <tr style=\"text-align: right;\">\n",
       "      <th></th>\n",
       "      <th>Unnamed: 0</th>\n",
       "      <th>article</th>\n",
       "      <th>highlights</th>\n",
       "      <th>id</th>\n",
       "      <th>internet-free_art</th>\n",
       "      <th>internet-free_high</th>\n",
       "    </tr>\n",
       "  </thead>\n",
       "  <tbody>\n",
       "    <tr>\n",
       "      <th>0</th>\n",
       "      <td>15378</td>\n",
       "      <td>(CNN) -- Lukas Podolski scored his first goal since returning to Cologne but it was not enough as they crashed to a defeat 2-1 against Schalke which leaves them bottom of the German Bundesliga. Podolski celebrates his first goal since returning to Cologne, but it did not stop his side sliding to defeat. The hosts had already gone behind to a second-minute Jefferson Farfan strike when Podolski, who rejoined his boyhood club from Bayern Munich in the summer, levelled matters with six minutes played. But hopes Podolski's strike would inspire the home side fell flat a minute after half-time when Levan Kobiashvili scored a winner to move Schalke up to third in the table. Defeat for Cologne leaves them rock bottom with just one point from their opening five games. Schalke's early goal came courtesy of a corner to the far post where Gerald Asamoah was waiting to head the ball back across goal. Farfan was alert to the opportunity and sent his flying header into the back of the net for his second of the campaign. The mood inside the RheinEnergie Stadion improved significantly four minutes later when Podolski latched onto a through-ball before coolly stepping around Manuel Neuer to stroke home. The decisive moment in the game arrived just a minute after the interval when the dangerous Farfan attracted the home defence in the middle of the area before laying off a pass for Kobiashvili to thrash left-footed into the net. Meanwhile, in the day's other Bundesliga match, Werder Bremen had the better of the chances but were held to a 0-0 draw by Hannover.</td>\n",
       "      <td>Lukas Podolski scores his first goal since returning to Cologne in 2-1 defeat .\\nJefferson Farfan and Levan Kobiashvili scored the goals that gave Schalke win .\\nThe defeat leaves Cologne on bottom of the Bundesliga table after five games .</td>\n",
       "      <td>ac2e59e27564f0c77b03513cdea6616d8dd8361d</td>\n",
       "      <td>(CNN) -- Lukas Podolski scored his first goal since returning to Cologne but it was not enough as they crashed to a defeat 2-1 against Schalke which leaves them bottom of the German Bundesliga. Podolski celebrates his first goal since returning to Cologne, but it did not stop his side sliding to defeat. The hosts had already gone behind to a second-minute Jefferson Farfan strike when Podolski, who rejoined his boyhood club from Bayern Munich in the summer, levelled matters with six minutes played. But hopes Podolski's strike would inspire the home side fell flat a minute after half-time when Levan Kobiashvili scored a winner to move Schalke up to third in the table. Defeat for Cologne leaves them rock bottom with just one point from their opening five games. Schalke's early goal came courtesy of a corner to the far post where Gerald Asamoah was waiting to head the ball back across goal. Farfan was alert to the opportunity and sent his flying header into the back of the net for his second of the campaign. The mood inside the RheinEnergie Stadion improved significantly four minutes later when Podolski latched onto a through-ball before coolly stepping around Manuel Neuer to stroke home. The decisive moment in the game arrived just a minute after the interval when the dangerous Farfan attracted the home defence in the middle of the area before laying off a pass for Kobiashvili to thrash left-footed into the net. Meanwhile, in the day's other Bundesliga match, Werder Bremen had the better of the chances but were held to a 0-0 draw by Hannover.</td>\n",
       "      <td>Lukas Podolski scores his first goal since returning to Cologne in 2-1 defeat .\\nJefferson Farfan and Levan Kobiashvili scored the goals that gave Schalke win .\\nThe defeat leaves Cologne on bottom of the Bundesliga table after five games .</td>\n",
       "    </tr>\n",
       "    <tr>\n",
       "      <th>1</th>\n",
       "      <td>213962</td>\n",
       "      <td>Britain’s best hotels are getting a run for their money from pubs and restaurants in the 2015 edition of the Good Hotel Guide. Pubs and restaurants with rooms are vying with top-notch hotels as the best places to stay, with several establishments included in the latest guide. One of the top gongs in the book’s annual Cesar Awards – named after legendary Swiss hotelier Cesar Ritz – was awarded to The Talbot Inn, which serves as a watering hole for locals at Mells, Somerset, but has eight guest rooms for visitors. Scroll down for video . Cheers: The Talbot Inn at Mells, Somerset, won the title of Pub-With-Rooms of the Year . On the water: Located on the River Tummel, The Green Park at Pitlochry was the top hotel in Scotland . Stunning scenery: Moor of Rannoch Hotel at Rannoch Station, Perth and Kinross, was Newcomer of the Year . Surrounded by Somerset’s stunning countryside, The Talbot Inn won the title of Pub-With-Rooms of the Year. It is described as a traditional yet stylish coaching inn with all the comforts of a smart hotel plus a classic pub, grill room, 500-year-old sitting room and garden. There are more than 400 entries in the latest guide, which acts as a bible for the UK’s hotel industry. Its editors say the guide is independent and all the hotels and B&amp;Bs are recommended by readers, with anonymous inspections done by the editorial team. 'A Georgian gem': Guests are greeted with tea and cake at Newforge House, the Irish Guest House of the Year . Family-friendly: Fowey Hall at Fowey, Cornwall, was named the best place to take the kids . The Pear Tree at Purton was rated the top country hotel thanks to its ‘dynamic mother-and-daughter duo’ Nine other Cesar Awards were handed out. ‘Unstuffy and impeccable’ Lords of the Manor at Upper Slaughter, Gloucestershire, won Country House Hotel of the Year, while The Pear Tree at Purton in Purton, Wiltshire, was the top country hotel thanks to its ‘dynamic mother-and-daughter duo’ and ‘superb cuisine’. For families, Fowey Hall at Fowey, Cornwall, was rated the top place to take the kids. It served as the inspiration for Toad’s stately home in The Wind in the Willows. With no signals for television, radio or wifi, Scotland's Moor of Rannoch Hotel at Rannoch Station was named Newcomer of the Year. Co-editors Adam Raphael and Desmond Balmer said in a statement: ‘Our choices reflect the changing face of hospitality. Pubs and restaurants with rooms are listed alongside simple B&amp;Bs, as well as many full-service hotels.’ They said: ‘Hotels should be better than home. A good manager will have slept in every bedroom to ensure it’s up to scratch. ‘Breakfast is also a very good benchmark. It’s the guest’s last meal before check out, so good-quality coffee, freshly-squeezed orange juice and free-range eggs should be a given. 'Finally, the guest may not always be right, but they should always come first.’ Milebrook House, the Welsh Hotel of the Year, is a three-generation-run establishment with a 'well-varied' menu . Cosy: Yalbury Cottage at Lower Bockhampton, Dorset, is Britain's Small Hotel of the Year . For four-legged guests: 'Dogs are treated like people' at Overwater Hall, voted Dog-Friendly Hotel of the Year . Beautiful garden: The title of Country House Hotel of the Year was awarded to Lords of the Manor .</td>\n",
       "      <td>Several pubs and restaurants made the cut in the guide's 2015 edition .\\nThe Talbot Inn at Mells, Somerset, won Pub-With-Rooms of the Year title .\\nCesar Awards also handed out for top newcomer, best country house .</td>\n",
       "      <td>429cb16b5e21b210f012df5eedf5d0f7f53a0a24</td>\n",
       "      <td>Britain’s best hotels are getting a run for their money from pubs and restaurants in the 2015 edition of the Good Hotel Guide. Pubs and restaurants with rooms are vying with top-notch hotels as the best places to stay, with several establishments included in the latest guide. One of the top gongs in the book’s annual Cesar Awards – named after legendary Swiss hotelier Cesar Ritz – was awarded to The Talbot Inn, which serves as a watering hole for locals at Mells, Somerset, but has eight guest rooms for visitors. Scroll down for video . Cheers: The Talbot Inn at Mells, Somerset, won the title of Pub-With-Rooms of the Year . On the water: Located on the River Tummel, The Green Park at Pitlochry was the top hotel in Scotland . Stunning scenery: Moor of Rannoch Hotel at Rannoch Station, Perth and Kinross, was Newcomer of the Year . Surrounded by Somerset’s stunning countryside, The Talbot Inn won the title of Pub-With-Rooms of the Year. It is described as a traditional yet stylish coaching inn with all the comforts of a smart hotel plus a classic pub, grill room, 500-year-old sitting room and garden. There are more than 400 entries in the latest guide, which acts as a bible for the UK’s hotel industry. Its editors say the guide is independent and all the hotels and B&amp;Bs are recommended by readers, with anonymous inspections done by the editorial team. 'A Georgian gem': Guests are greeted with tea and cake at Newforge House, the Irish Guest House of the Year . Family-friendly: Fowey Hall at Fowey, Cornwall, was named the best place to take the kids . The Pear Tree at Purton was rated the top country hotel thanks to its ‘dynamic mother-and-daughter duo’ Nine other Cesar Awards were handed out. ‘Unstuffy and impeccable’ Lords of the Manor at Upper Slaughter, Gloucestershire, won Country House Hotel of the Year, while The Pear Tree at Purton in Purton, Wiltshire, was the top country hotel thanks to its ‘dynamic mother-and-daughter duo’ and ‘superb cuisine’. For families, Fowey Hall at Fowey, Cornwall, was rated the top place to take the kids. It served as the inspiration for Toad’s stately home in The Wind in the Willows. With no signals for television, radio or wifi, Scotland's Moor of Rannoch Hotel at Rannoch Station was named Newcomer of the Year. Co-editors Adam Raphael and Desmond Balmer said in a statement: ‘Our choices reflect the changing face of hospitality. Pubs and restaurants with rooms are listed alongside simple B&amp;Bs, as well as many full-service hotels.’ They said: ‘Hotels should be better than home. A good manager will have slept in every bedroom to ensure it’s up to scratch. ‘Breakfast is also a very good benchmark. It’s the guest’s last meal before check out, so good-quality coffee, freshly-squeezed orange juice and free-range eggs should be a given. 'Finally, the guest may not always be right, but they should always come first.’ Milebrook House, the Welsh Hotel of the Year, is a three-generation-run establishment with a 'well-varied' menu . Cosy: Yalbury Cottage at Lower Bockhampton, Dorset, is Britain's Small Hotel of the Year . For four-legged guests: 'Dogs are treated like people' at Overwater Hall, voted Dog-Friendly Hotel of the Year . Beautiful garden: The title of Country House Hotel of the Year was awarded to Lords of the Manor .</td>\n",
       "      <td>Several pubs and restaurants made the cut in the guide's 2015 edition .\\nThe Talbot Inn at Mells, Somerset, won Pub-With-Rooms of the Year title .\\nCesar Awards also handed out for top newcomer, best country house .</td>\n",
       "    </tr>\n",
       "  </tbody>\n",
       "</table>\n",
       "</div>"
      ],
      "text/plain": [
       "   Unnamed: 0  \\\n",
       "0       15378   \n",
       "1      213962   \n",
       "\n",
       "                                                                                                                                                                                                                                                                                                                                                                                                                                                                                                                                                                                                                                                                                                                                                                                                                                                                                                                                                                                                                                                                                                                                                                                                                                                                                                                                                                                                                                                                                                                                                                                                                                                                                                                                                                                                                                                                                                                                                                                                                                                                                                                                                                                                                                                                                                                                                                                                                                                                                                                                                                                                                                                                                                                                                                                                                                                                                                                                                                                                                                                                                                                                                                                                                                                                                                                                                                                                                                        article  \\\n",
       "0                                                                                                                                                                                                                                                                                                                                                                                                                                                                                                                                                                                                                                                                                                                                                                                                                                                                                                                                                                                                                                                                                                                                                                                                                                                                                                                                                                                                                                                                                                                                                                                                                                                                                                                                                                                                                 (CNN) -- Lukas Podolski scored his first goal since returning to Cologne but it was not enough as they crashed to a defeat 2-1 against Schalke which leaves them bottom of the German Bundesliga. Podolski celebrates his first goal since returning to Cologne, but it did not stop his side sliding to defeat. The hosts had already gone behind to a second-minute Jefferson Farfan strike when Podolski, who rejoined his boyhood club from Bayern Munich in the summer, levelled matters with six minutes played. But hopes Podolski's strike would inspire the home side fell flat a minute after half-time when Levan Kobiashvili scored a winner to move Schalke up to third in the table. Defeat for Cologne leaves them rock bottom with just one point from their opening five games. Schalke's early goal came courtesy of a corner to the far post where Gerald Asamoah was waiting to head the ball back across goal. Farfan was alert to the opportunity and sent his flying header into the back of the net for his second of the campaign. The mood inside the RheinEnergie Stadion improved significantly four minutes later when Podolski latched onto a through-ball before coolly stepping around Manuel Neuer to stroke home. The decisive moment in the game arrived just a minute after the interval when the dangerous Farfan attracted the home defence in the middle of the area before laying off a pass for Kobiashvili to thrash left-footed into the net. Meanwhile, in the day's other Bundesliga match, Werder Bremen had the better of the chances but were held to a 0-0 draw by Hannover.   \n",
       "1  Britain’s best hotels are getting a run for their money from pubs and restaurants in the 2015 edition of the Good Hotel Guide. Pubs and restaurants with rooms are vying with top-notch hotels as the best places to stay, with several establishments included in the latest guide. One of the top gongs in the book’s annual Cesar Awards – named after legendary Swiss hotelier Cesar Ritz – was awarded to The Talbot Inn, which serves as a watering hole for locals at Mells, Somerset, but has eight guest rooms for visitors. Scroll down for video . Cheers: The Talbot Inn at Mells, Somerset, won the title of Pub-With-Rooms of the Year . On the water: Located on the River Tummel, The Green Park at Pitlochry was the top hotel in Scotland . Stunning scenery: Moor of Rannoch Hotel at Rannoch Station, Perth and Kinross, was Newcomer of the Year . Surrounded by Somerset’s stunning countryside, The Talbot Inn won the title of Pub-With-Rooms of the Year. It is described as a traditional yet stylish coaching inn with all the comforts of a smart hotel plus a classic pub, grill room, 500-year-old sitting room and garden. There are more than 400 entries in the latest guide, which acts as a bible for the UK’s hotel industry. Its editors say the guide is independent and all the hotels and B&Bs are recommended by readers, with anonymous inspections done by the editorial team. 'A Georgian gem': Guests are greeted with tea and cake at Newforge House, the Irish Guest House of the Year . Family-friendly: Fowey Hall at Fowey, Cornwall, was named the best place to take the kids . The Pear Tree at Purton was rated the top country hotel thanks to its ‘dynamic mother-and-daughter duo’ Nine other Cesar Awards were handed out. ‘Unstuffy and impeccable’ Lords of the Manor at Upper Slaughter, Gloucestershire, won Country House Hotel of the Year, while The Pear Tree at Purton in Purton, Wiltshire, was the top country hotel thanks to its ‘dynamic mother-and-daughter duo’ and ‘superb cuisine’. For families, Fowey Hall at Fowey, Cornwall, was rated the top place to take the kids. It served as the inspiration for Toad’s stately home in The Wind in the Willows. With no signals for television, radio or wifi, Scotland's Moor of Rannoch Hotel at Rannoch Station was named Newcomer of the Year. Co-editors Adam Raphael and Desmond Balmer said in a statement: ‘Our choices reflect the changing face of hospitality. Pubs and restaurants with rooms are listed alongside simple B&Bs, as well as many full-service hotels.’ They said: ‘Hotels should be better than home. A good manager will have slept in every bedroom to ensure it’s up to scratch. ‘Breakfast is also a very good benchmark. It’s the guest’s last meal before check out, so good-quality coffee, freshly-squeezed orange juice and free-range eggs should be a given. 'Finally, the guest may not always be right, but they should always come first.’ Milebrook House, the Welsh Hotel of the Year, is a three-generation-run establishment with a 'well-varied' menu . Cosy: Yalbury Cottage at Lower Bockhampton, Dorset, is Britain's Small Hotel of the Year . For four-legged guests: 'Dogs are treated like people' at Overwater Hall, voted Dog-Friendly Hotel of the Year . Beautiful garden: The title of Country House Hotel of the Year was awarded to Lords of the Manor .   \n",
       "\n",
       "                                                                                                                                                                                                                                         highlights  \\\n",
       "0  Lukas Podolski scores his first goal since returning to Cologne in 2-1 defeat .\\nJefferson Farfan and Levan Kobiashvili scored the goals that gave Schalke win .\\nThe defeat leaves Cologne on bottom of the Bundesliga table after five games .   \n",
       "1                           Several pubs and restaurants made the cut in the guide's 2015 edition .\\nThe Talbot Inn at Mells, Somerset, won Pub-With-Rooms of the Year title .\\nCesar Awards also handed out for top newcomer, best country house .   \n",
       "\n",
       "                                         id  \\\n",
       "0  ac2e59e27564f0c77b03513cdea6616d8dd8361d   \n",
       "1  429cb16b5e21b210f012df5eedf5d0f7f53a0a24   \n",
       "\n",
       "                                                                                                                                                                                                                                                                                                                                                                                                                                                                                                                                                                                                                                                                                                                                                                                                                                                                                                                                                                                                                                                                                                                                                                                                                                                                                                                                                                                                                                                                                                                                                                                                                                                                                                                                                                                                                                                                                                                                                                                                                                                                                                                                                                                                                                                                                                                                                                                                                                                                                                                                                                                                                                                                                                                                                                                                                                                                                                                                                                                                                                                                                                                                                                                                                                                                                                                                                                                                                              internet-free_art  \\\n",
       "0                                                                                                                                                                                                                                                                                                                                                                                                                                                                                                                                                                                                                                                                                                                                                                                                                                                                                                                                                                                                                                                                                                                                                                                                                                                                                                                                                                                                                                                                                                                                                                                                                                                                                                                                                                                                                 (CNN) -- Lukas Podolski scored his first goal since returning to Cologne but it was not enough as they crashed to a defeat 2-1 against Schalke which leaves them bottom of the German Bundesliga. Podolski celebrates his first goal since returning to Cologne, but it did not stop his side sliding to defeat. The hosts had already gone behind to a second-minute Jefferson Farfan strike when Podolski, who rejoined his boyhood club from Bayern Munich in the summer, levelled matters with six minutes played. But hopes Podolski's strike would inspire the home side fell flat a minute after half-time when Levan Kobiashvili scored a winner to move Schalke up to third in the table. Defeat for Cologne leaves them rock bottom with just one point from their opening five games. Schalke's early goal came courtesy of a corner to the far post where Gerald Asamoah was waiting to head the ball back across goal. Farfan was alert to the opportunity and sent his flying header into the back of the net for his second of the campaign. The mood inside the RheinEnergie Stadion improved significantly four minutes later when Podolski latched onto a through-ball before coolly stepping around Manuel Neuer to stroke home. The decisive moment in the game arrived just a minute after the interval when the dangerous Farfan attracted the home defence in the middle of the area before laying off a pass for Kobiashvili to thrash left-footed into the net. Meanwhile, in the day's other Bundesliga match, Werder Bremen had the better of the chances but were held to a 0-0 draw by Hannover.   \n",
       "1  Britain’s best hotels are getting a run for their money from pubs and restaurants in the 2015 edition of the Good Hotel Guide. Pubs and restaurants with rooms are vying with top-notch hotels as the best places to stay, with several establishments included in the latest guide. One of the top gongs in the book’s annual Cesar Awards – named after legendary Swiss hotelier Cesar Ritz – was awarded to The Talbot Inn, which serves as a watering hole for locals at Mells, Somerset, but has eight guest rooms for visitors. Scroll down for video . Cheers: The Talbot Inn at Mells, Somerset, won the title of Pub-With-Rooms of the Year . On the water: Located on the River Tummel, The Green Park at Pitlochry was the top hotel in Scotland . Stunning scenery: Moor of Rannoch Hotel at Rannoch Station, Perth and Kinross, was Newcomer of the Year . Surrounded by Somerset’s stunning countryside, The Talbot Inn won the title of Pub-With-Rooms of the Year. It is described as a traditional yet stylish coaching inn with all the comforts of a smart hotel plus a classic pub, grill room, 500-year-old sitting room and garden. There are more than 400 entries in the latest guide, which acts as a bible for the UK’s hotel industry. Its editors say the guide is independent and all the hotels and B&Bs are recommended by readers, with anonymous inspections done by the editorial team. 'A Georgian gem': Guests are greeted with tea and cake at Newforge House, the Irish Guest House of the Year . Family-friendly: Fowey Hall at Fowey, Cornwall, was named the best place to take the kids . The Pear Tree at Purton was rated the top country hotel thanks to its ‘dynamic mother-and-daughter duo’ Nine other Cesar Awards were handed out. ‘Unstuffy and impeccable’ Lords of the Manor at Upper Slaughter, Gloucestershire, won Country House Hotel of the Year, while The Pear Tree at Purton in Purton, Wiltshire, was the top country hotel thanks to its ‘dynamic mother-and-daughter duo’ and ‘superb cuisine’. For families, Fowey Hall at Fowey, Cornwall, was rated the top place to take the kids. It served as the inspiration for Toad’s stately home in The Wind in the Willows. With no signals for television, radio or wifi, Scotland's Moor of Rannoch Hotel at Rannoch Station was named Newcomer of the Year. Co-editors Adam Raphael and Desmond Balmer said in a statement: ‘Our choices reflect the changing face of hospitality. Pubs and restaurants with rooms are listed alongside simple B&Bs, as well as many full-service hotels.’ They said: ‘Hotels should be better than home. A good manager will have slept in every bedroom to ensure it’s up to scratch. ‘Breakfast is also a very good benchmark. It’s the guest’s last meal before check out, so good-quality coffee, freshly-squeezed orange juice and free-range eggs should be a given. 'Finally, the guest may not always be right, but they should always come first.’ Milebrook House, the Welsh Hotel of the Year, is a three-generation-run establishment with a 'well-varied' menu . Cosy: Yalbury Cottage at Lower Bockhampton, Dorset, is Britain's Small Hotel of the Year . For four-legged guests: 'Dogs are treated like people' at Overwater Hall, voted Dog-Friendly Hotel of the Year . Beautiful garden: The title of Country House Hotel of the Year was awarded to Lords of the Manor .   \n",
       "\n",
       "                                                                                                                                                                                                                                 internet-free_high  \n",
       "0  Lukas Podolski scores his first goal since returning to Cologne in 2-1 defeat .\\nJefferson Farfan and Levan Kobiashvili scored the goals that gave Schalke win .\\nThe defeat leaves Cologne on bottom of the Bundesliga table after five games .  \n",
       "1                           Several pubs and restaurants made the cut in the guide's 2015 edition .\\nThe Talbot Inn at Mells, Somerset, won Pub-With-Rooms of the Year title .\\nCesar Awards also handed out for top newcomer, best country house .  "
      ]
     },
     "execution_count": 10,
     "metadata": {},
     "output_type": "execute_result"
    }
   ],
   "source": [
    "# Check the results. All OK.\n",
    "datasets['train'].head(2)\n",
    "#datasets['validation'].head(2)\n",
    "#datasets['test'].head(2)"
   ]
  },
  {
   "cell_type": "code",
   "execution_count": 11,
   "metadata": {},
   "outputs": [
    {
     "name": "stdout",
     "output_type": "stream",
     "text": [
      "Collecting pandarallel\n",
      "  Downloading pandarallel-1.6.5.tar.gz (14 kB)\n",
      "  Preparing metadata (setup.py): started\n",
      "  Preparing metadata (setup.py): finished with status 'done'\n",
      "Requirement already satisfied: dill>=0.3.1 in c:\\users\\ankar\\anaconda3\\envs\\ai-2\\lib\\site-packages (from pandarallel) (0.3.7)\n",
      "Requirement already satisfied: pandas>=1 in c:\\users\\ankar\\anaconda3\\envs\\ai-2\\lib\\site-packages (from pandarallel) (2.1.1)\n",
      "Requirement already satisfied: psutil in c:\\users\\ankar\\anaconda3\\envs\\ai-2\\lib\\site-packages (from pandarallel) (5.9.0)\n",
      "Requirement already satisfied: numpy>=1.23.2 in c:\\users\\ankar\\anaconda3\\envs\\ai-2\\lib\\site-packages (from pandas>=1->pandarallel) (1.26.0)\n",
      "Requirement already satisfied: python-dateutil>=2.8.2 in c:\\users\\ankar\\anaconda3\\envs\\ai-2\\lib\\site-packages (from pandas>=1->pandarallel) (2.8.2)\n",
      "Requirement already satisfied: pytz>=2020.1 in c:\\users\\ankar\\anaconda3\\envs\\ai-2\\lib\\site-packages (from pandas>=1->pandarallel) (2023.3.post1)\n",
      "Requirement already satisfied: tzdata>=2022.1 in c:\\users\\ankar\\anaconda3\\envs\\ai-2\\lib\\site-packages (from pandas>=1->pandarallel) (2023.3)\n",
      "Requirement already satisfied: six>=1.5 in c:\\users\\ankar\\anaconda3\\envs\\ai-2\\lib\\site-packages (from python-dateutil>=2.8.2->pandas>=1->pandarallel) (1.16.0)\n",
      "Building wheels for collected packages: pandarallel\n",
      "  Building wheel for pandarallel (setup.py): started\n",
      "  Building wheel for pandarallel (setup.py): finished with status 'done'\n",
      "  Created wheel for pandarallel: filename=pandarallel-1.6.5-py3-none-any.whl size=16692 sha256=d79fa697d0d2ff2889bd6b0fd3ca896fc68a757049b889f505313867ed37d883\n",
      "  Stored in directory: c:\\users\\ankar\\appdata\\local\\pip\\cache\\wheels\\b9\\c6\\5a\\829298789e94348b81af52ab42c19d49da007306bbcc983827\n",
      "Successfully built pandarallel\n",
      "Installing collected packages: pandarallel\n",
      "Successfully installed pandarallel-1.6.5\n",
      "Note: you may need to restart the kernel to use updated packages.\n"
     ]
    }
   ],
   "source": [
    "pip install pandarallel"
   ]
  },
  {
   "cell_type": "code",
   "execution_count": 16,
   "metadata": {},
   "outputs": [
    {
     "name": "stdout",
     "output_type": "stream",
     "text": [
      "Collecting ipywidgets\n",
      "  Downloading ipywidgets-8.1.1-py3-none-any.whl.metadata (2.4 kB)\n",
      "Collecting comm>=0.1.3 (from ipywidgets)\n",
      "  Downloading comm-0.2.1-py3-none-any.whl.metadata (3.7 kB)\n",
      "Requirement already satisfied: ipython>=6.1.0 in c:\\users\\ankar\\anaconda3\\envs\\ai-2\\lib\\site-packages (from ipywidgets) (8.15.0)\n",
      "Requirement already satisfied: traitlets>=4.3.1 in c:\\users\\ankar\\anaconda3\\envs\\ai-2\\lib\\site-packages (from ipywidgets) (5.7.1)\n",
      "Collecting widgetsnbextension~=4.0.9 (from ipywidgets)\n",
      "  Downloading widgetsnbextension-4.0.9-py3-none-any.whl.metadata (1.6 kB)\n",
      "Collecting jupyterlab-widgets~=3.0.9 (from ipywidgets)\n",
      "  Downloading jupyterlab_widgets-3.0.9-py3-none-any.whl.metadata (4.1 kB)\n",
      "Requirement already satisfied: backcall in c:\\users\\ankar\\anaconda3\\envs\\ai-2\\lib\\site-packages (from ipython>=6.1.0->ipywidgets) (0.2.0)\n",
      "Requirement already satisfied: decorator in c:\\users\\ankar\\anaconda3\\envs\\ai-2\\lib\\site-packages (from ipython>=6.1.0->ipywidgets) (5.1.1)\n",
      "Requirement already satisfied: jedi>=0.16 in c:\\users\\ankar\\anaconda3\\envs\\ai-2\\lib\\site-packages (from ipython>=6.1.0->ipywidgets) (0.18.1)\n",
      "Requirement already satisfied: matplotlib-inline in c:\\users\\ankar\\anaconda3\\envs\\ai-2\\lib\\site-packages (from ipython>=6.1.0->ipywidgets) (0.1.6)\n",
      "Requirement already satisfied: pickleshare in c:\\users\\ankar\\anaconda3\\envs\\ai-2\\lib\\site-packages (from ipython>=6.1.0->ipywidgets) (0.7.5)\n",
      "Requirement already satisfied: prompt-toolkit!=3.0.37,<3.1.0,>=3.0.30 in c:\\users\\ankar\\anaconda3\\envs\\ai-2\\lib\\site-packages (from ipython>=6.1.0->ipywidgets) (3.0.36)\n",
      "Requirement already satisfied: pygments>=2.4.0 in c:\\users\\ankar\\anaconda3\\envs\\ai-2\\lib\\site-packages (from ipython>=6.1.0->ipywidgets) (2.15.1)\n",
      "Requirement already satisfied: stack-data in c:\\users\\ankar\\anaconda3\\envs\\ai-2\\lib\\site-packages (from ipython>=6.1.0->ipywidgets) (0.2.0)\n",
      "Requirement already satisfied: colorama in c:\\users\\ankar\\anaconda3\\envs\\ai-2\\lib\\site-packages (from ipython>=6.1.0->ipywidgets) (0.4.6)\n",
      "Requirement already satisfied: parso<0.9.0,>=0.8.0 in c:\\users\\ankar\\anaconda3\\envs\\ai-2\\lib\\site-packages (from jedi>=0.16->ipython>=6.1.0->ipywidgets) (0.8.3)\n",
      "Requirement already satisfied: wcwidth in c:\\users\\ankar\\anaconda3\\envs\\ai-2\\lib\\site-packages (from prompt-toolkit!=3.0.37,<3.1.0,>=3.0.30->ipython>=6.1.0->ipywidgets) (0.2.5)\n",
      "Requirement already satisfied: executing in c:\\users\\ankar\\anaconda3\\envs\\ai-2\\lib\\site-packages (from stack-data->ipython>=6.1.0->ipywidgets) (0.8.3)\n",
      "Requirement already satisfied: asttokens in c:\\users\\ankar\\anaconda3\\envs\\ai-2\\lib\\site-packages (from stack-data->ipython>=6.1.0->ipywidgets) (2.0.5)\n",
      "Requirement already satisfied: pure-eval in c:\\users\\ankar\\anaconda3\\envs\\ai-2\\lib\\site-packages (from stack-data->ipython>=6.1.0->ipywidgets) (0.2.2)\n",
      "Requirement already satisfied: six in c:\\users\\ankar\\anaconda3\\envs\\ai-2\\lib\\site-packages (from asttokens->stack-data->ipython>=6.1.0->ipywidgets) (1.16.0)\n",
      "Downloading ipywidgets-8.1.1-py3-none-any.whl (139 kB)\n",
      "   ---------------------------------------- 0.0/139.4 kB ? eta -:--:--\n",
      "   -- ------------------------------------- 10.2/139.4 kB ? eta -:--:--\n",
      "   -------------------- ------------------ 71.7/139.4 kB 787.7 kB/s eta 0:00:01\n",
      "   ---------------------------------------- 139.4/139.4 kB 1.4 MB/s eta 0:00:00\n",
      "Downloading comm-0.2.1-py3-none-any.whl (7.2 kB)\n",
      "Downloading jupyterlab_widgets-3.0.9-py3-none-any.whl (214 kB)\n",
      "   ---------------------------------------- 0.0/214.9 kB ? eta -:--:--\n",
      "   -------------------------------------- - 204.8/214.9 kB 6.3 MB/s eta 0:00:01\n",
      "   ---------------------------------------- 214.9/214.9 kB 6.6 MB/s eta 0:00:00\n",
      "Downloading widgetsnbextension-4.0.9-py3-none-any.whl (2.3 MB)\n",
      "   ---------------------------------------- 0.0/2.3 MB ? eta -:--:--\n",
      "   ----- ---------------------------------- 0.3/2.3 MB 6.8 MB/s eta 0:00:01\n",
      "   ---------------- ----------------------- 1.0/2.3 MB 10.1 MB/s eta 0:00:01\n",
      "   -------------------------- ------------- 1.5/2.3 MB 10.9 MB/s eta 0:00:01\n",
      "   ------------------------------------- -- 2.2/2.3 MB 11.4 MB/s eta 0:00:01\n",
      "   ---------------------------------------- 2.3/2.3 MB 11.3 MB/s eta 0:00:00\n",
      "Installing collected packages: widgetsnbextension, jupyterlab-widgets, comm, ipywidgets\n",
      "  Attempting uninstall: comm\n",
      "    Found existing installation: comm 0.1.2\n",
      "    Uninstalling comm-0.1.2:\n",
      "      Successfully uninstalled comm-0.1.2\n",
      "Successfully installed comm-0.2.1 ipywidgets-8.1.1 jupyterlab-widgets-3.0.9 widgetsnbextension-4.0.9\n",
      "Note: you may need to restart the kernel to use updated packages.\n"
     ]
    }
   ],
   "source": [
    "pip install ipywidgets\n"
   ]
  },
  {
   "cell_type": "code",
   "execution_count": 17,
   "metadata": {},
   "outputs": [],
   "source": [
    "from ipywidgets import HBox, IntProgress, Label, VBox"
   ]
  },
  {
   "cell_type": "code",
   "execution_count": 22,
   "metadata": {},
   "outputs": [
    {
     "name": "stdout",
     "output_type": "stream",
     "text": [
      "INFO: Pandarallel will run on 14 workers.\n",
      "INFO: Pandarallel will use standard multiprocessing data transfer (pipe) to transfer data between the main process and workers.\n",
      "\n",
      "WARNING: You are on Windows. If you detect any issue with pandarallel, be sure you checked out the Troubleshooting page:\n",
      "https://nalepae.github.io/pandarallel/troubleshooting/\n"
     ]
    },
    {
     "data": {
      "application/vnd.jupyter.widget-view+json": {
       "model_id": "1a624a375eb84433be663e8cd80e0f13",
       "version_major": 2,
       "version_minor": 0
      },
      "text/plain": [
       "VBox(children=(HBox(children=(IntProgress(value=0, description='0.00%', max=2051), Label(value='0 / 2051'))), …"
      ]
     },
     "metadata": {},
     "output_type": "display_data"
    },
    {
     "data": {
      "application/vnd.jupyter.widget-view+json": {
       "model_id": "9f3b694fbee74dd4a5403275ee8ed3b4",
       "version_major": 2,
       "version_minor": 0
      },
      "text/plain": [
       "VBox(children=(HBox(children=(IntProgress(value=0, description='0.00%', max=2051), Label(value='0 / 2051'))), …"
      ]
     },
     "metadata": {},
     "output_type": "display_data"
    },
    {
     "data": {
      "application/vnd.jupyter.widget-view+json": {
       "model_id": "c8be2fb4cb5b4d5caf688e5a39971db0",
       "version_major": 2,
       "version_minor": 0
      },
      "text/plain": [
       "VBox(children=(HBox(children=(IntProgress(value=0, description='0.00%', max=96), Label(value='0 / 96'))), HBox…"
      ]
     },
     "metadata": {},
     "output_type": "display_data"
    },
    {
     "data": {
      "application/vnd.jupyter.widget-view+json": {
       "model_id": "ce4cdee488444220b9da45d92a972b42",
       "version_major": 2,
       "version_minor": 0
      },
      "text/plain": [
       "VBox(children=(HBox(children=(IntProgress(value=0, description='0.00%', max=96), Label(value='0 / 96'))), HBox…"
      ]
     },
     "metadata": {},
     "output_type": "display_data"
    },
    {
     "data": {
      "application/vnd.jupyter.widget-view+json": {
       "model_id": "8df2e047b60841fda4661355037a09d2",
       "version_major": 2,
       "version_minor": 0
      },
      "text/plain": [
       "VBox(children=(HBox(children=(IntProgress(value=0, description='0.00%', max=821), Label(value='0 / 821'))), HB…"
      ]
     },
     "metadata": {},
     "output_type": "display_data"
    },
    {
     "data": {
      "application/vnd.jupyter.widget-view+json": {
       "model_id": "373383e55cd94d26a31e4f8533d9f294",
       "version_major": 2,
       "version_minor": 0
      },
      "text/plain": [
       "VBox(children=(HBox(children=(IntProgress(value=0, description='0.00%', max=821), Label(value='0 / 821'))), HB…"
      ]
     },
     "metadata": {},
     "output_type": "display_data"
    }
   ],
   "source": [
    "from pandarallel import pandarallel\n",
    "\n",
    "\n",
    "# Initialize pandarallel\n",
    "pandarallel.initialize(progress_bar=True)\n",
    "\n",
    "def rm_boiler(text):\n",
    "    import re\n",
    "    newspaper_patterns = re.compile(r'.*\\(CNN\\) -- |^NEW:|\\([^)]*\\)|E-mail to a friend.*')\n",
    "    newline_pattern = re.compile(r' \\.|\"\\n')\n",
    "    text = newspaper_patterns.sub('', text)\n",
    "    text = newline_pattern.sub('. ', text)\n",
    "    return text\n",
    "\n",
    "\n",
    "# Apply function in parallel using pandarallel\n",
    "for name, df in datasets.items():\n",
    "    df['boiler-free_art'] = df['internet-free_art'].parallel_apply(rm_boiler)\n",
    "    df['boiler-free_high'] = df['internet-free_high'].parallel_apply(rm_boiler)\n",
    "    datasets[name] = df"
   ]
  },
  {
   "cell_type": "code",
   "execution_count": 27,
   "metadata": {},
   "outputs": [
    {
     "data": {
      "text/html": [
       "<div>\n",
       "<style scoped>\n",
       "    .dataframe tbody tr th:only-of-type {\n",
       "        vertical-align: middle;\n",
       "    }\n",
       "\n",
       "    .dataframe tbody tr th {\n",
       "        vertical-align: top;\n",
       "    }\n",
       "\n",
       "    .dataframe thead th {\n",
       "        text-align: right;\n",
       "    }\n",
       "</style>\n",
       "<table border=\"1\" class=\"dataframe\">\n",
       "  <thead>\n",
       "    <tr style=\"text-align: right;\">\n",
       "      <th></th>\n",
       "      <th>Unnamed: 0</th>\n",
       "      <th>article</th>\n",
       "      <th>highlights</th>\n",
       "      <th>id</th>\n",
       "      <th>internet-free_art</th>\n",
       "      <th>internet-free_high</th>\n",
       "      <th>boiler-free_art</th>\n",
       "      <th>boiler-free_high</th>\n",
       "    </tr>\n",
       "  </thead>\n",
       "  <tbody>\n",
       "    <tr>\n",
       "      <th>0</th>\n",
       "      <td>15378</td>\n",
       "      <td>(CNN) -- Lukas Podolski scored his first goal since returning to Cologne but it was not enough as they crashed to a defeat 2-1 against Schalke which leaves them bottom of the German Bundesliga. Podolski celebrates his first goal since returning to Cologne, but it did not stop his side sliding to defeat. The hosts had already gone behind to a second-minute Jefferson Farfan strike when Podolski, who rejoined his boyhood club from Bayern Munich in the summer, levelled matters with six minutes played. But hopes Podolski's strike would inspire the home side fell flat a minute after half-time when Levan Kobiashvili scored a winner to move Schalke up to third in the table. Defeat for Cologne leaves them rock bottom with just one point from their opening five games. Schalke's early goal came courtesy of a corner to the far post where Gerald Asamoah was waiting to head the ball back across goal. Farfan was alert to the opportunity and sent his flying header into the back of the net for his second of the campaign. The mood inside the RheinEnergie Stadion improved significantly four minutes later when Podolski latched onto a through-ball before coolly stepping around Manuel Neuer to stroke home. The decisive moment in the game arrived just a minute after the interval when the dangerous Farfan attracted the home defence in the middle of the area before laying off a pass for Kobiashvili to thrash left-footed into the net. Meanwhile, in the day's other Bundesliga match, Werder Bremen had the better of the chances but were held to a 0-0 draw by Hannover.</td>\n",
       "      <td>Lukas Podolski scores his first goal since returning to Cologne in 2-1 defeat .\\nJefferson Farfan and Levan Kobiashvili scored the goals that gave Schalke win .\\nThe defeat leaves Cologne on bottom of the Bundesliga table after five games .</td>\n",
       "      <td>ac2e59e27564f0c77b03513cdea6616d8dd8361d</td>\n",
       "      <td>(CNN) -- Lukas Podolski scored his first goal since returning to Cologne but it was not enough as they crashed to a defeat 2-1 against Schalke which leaves them bottom of the German Bundesliga. Podolski celebrates his first goal since returning to Cologne, but it did not stop his side sliding to defeat. The hosts had already gone behind to a second-minute Jefferson Farfan strike when Podolski, who rejoined his boyhood club from Bayern Munich in the summer, levelled matters with six minutes played. But hopes Podolski's strike would inspire the home side fell flat a minute after half-time when Levan Kobiashvili scored a winner to move Schalke up to third in the table. Defeat for Cologne leaves them rock bottom with just one point from their opening five games. Schalke's early goal came courtesy of a corner to the far post where Gerald Asamoah was waiting to head the ball back across goal. Farfan was alert to the opportunity and sent his flying header into the back of the net for his second of the campaign. The mood inside the RheinEnergie Stadion improved significantly four minutes later when Podolski latched onto a through-ball before coolly stepping around Manuel Neuer to stroke home. The decisive moment in the game arrived just a minute after the interval when the dangerous Farfan attracted the home defence in the middle of the area before laying off a pass for Kobiashvili to thrash left-footed into the net. Meanwhile, in the day's other Bundesliga match, Werder Bremen had the better of the chances but were held to a 0-0 draw by Hannover.</td>\n",
       "      <td>Lukas Podolski scores his first goal since returning to Cologne in 2-1 defeat .\\nJefferson Farfan and Levan Kobiashvili scored the goals that gave Schalke win .\\nThe defeat leaves Cologne on bottom of the Bundesliga table after five games .</td>\n",
       "      <td>Lukas Podolski scored his first goal since returning to Cologne but it was not enough as they crashed to a defeat 2-1 against Schalke which leaves them bottom of the German Bundesliga. Podolski celebrates his first goal since returning to Cologne, but it did not stop his side sliding to defeat. The hosts had already gone behind to a second-minute Jefferson Farfan strike when Podolski, who rejoined his boyhood club from Bayern Munich in the summer, levelled matters with six minutes played. But hopes Podolski's strike would inspire the home side fell flat a minute after half-time when Levan Kobiashvili scored a winner to move Schalke up to third in the table. Defeat for Cologne leaves them rock bottom with just one point from their opening five games. Schalke's early goal came courtesy of a corner to the far post where Gerald Asamoah was waiting to head the ball back across goal. Farfan was alert to the opportunity and sent his flying header into the back of the net for his second of the campaign. The mood inside the RheinEnergie Stadion improved significantly four minutes later when Podolski latched onto a through-ball before coolly stepping around Manuel Neuer to stroke home. The decisive moment in the game arrived just a minute after the interval when the dangerous Farfan attracted the home defence in the middle of the area before laying off a pass for Kobiashvili to thrash left-footed into the net. Meanwhile, in the day's other Bundesliga match, Werder Bremen had the better of the chances but were held to a 0-0 draw by Hannover.</td>\n",
       "      <td>Lukas Podolski scores his first goal since returning to Cologne in 2-1 defeat. \\nJefferson Farfan and Levan Kobiashvili scored the goals that gave Schalke win. \\nThe defeat leaves Cologne on bottom of the Bundesliga table after five games.</td>\n",
       "    </tr>\n",
       "    <tr>\n",
       "      <th>1</th>\n",
       "      <td>213962</td>\n",
       "      <td>Britain’s best hotels are getting a run for their money from pubs and restaurants in the 2015 edition of the Good Hotel Guide. Pubs and restaurants with rooms are vying with top-notch hotels as the best places to stay, with several establishments included in the latest guide. One of the top gongs in the book’s annual Cesar Awards – named after legendary Swiss hotelier Cesar Ritz – was awarded to The Talbot Inn, which serves as a watering hole for locals at Mells, Somerset, but has eight guest rooms for visitors. Scroll down for video . Cheers: The Talbot Inn at Mells, Somerset, won the title of Pub-With-Rooms of the Year . On the water: Located on the River Tummel, The Green Park at Pitlochry was the top hotel in Scotland . Stunning scenery: Moor of Rannoch Hotel at Rannoch Station, Perth and Kinross, was Newcomer of the Year . Surrounded by Somerset’s stunning countryside, The Talbot Inn won the title of Pub-With-Rooms of the Year. It is described as a traditional yet stylish coaching inn with all the comforts of a smart hotel plus a classic pub, grill room, 500-year-old sitting room and garden. There are more than 400 entries in the latest guide, which acts as a bible for the UK’s hotel industry. Its editors say the guide is independent and all the hotels and B&amp;Bs are recommended by readers, with anonymous inspections done by the editorial team. 'A Georgian gem': Guests are greeted with tea and cake at Newforge House, the Irish Guest House of the Year . Family-friendly: Fowey Hall at Fowey, Cornwall, was named the best place to take the kids . The Pear Tree at Purton was rated the top country hotel thanks to its ‘dynamic mother-and-daughter duo’ Nine other Cesar Awards were handed out. ‘Unstuffy and impeccable’ Lords of the Manor at Upper Slaughter, Gloucestershire, won Country House Hotel of the Year, while The Pear Tree at Purton in Purton, Wiltshire, was the top country hotel thanks to its ‘dynamic mother-and-daughter duo’ and ‘superb cuisine’. For families, Fowey Hall at Fowey, Cornwall, was rated the top place to take the kids. It served as the inspiration for Toad’s stately home in The Wind in the Willows. With no signals for television, radio or wifi, Scotland's Moor of Rannoch Hotel at Rannoch Station was named Newcomer of the Year. Co-editors Adam Raphael and Desmond Balmer said in a statement: ‘Our choices reflect the changing face of hospitality. Pubs and restaurants with rooms are listed alongside simple B&amp;Bs, as well as many full-service hotels.’ They said: ‘Hotels should be better than home. A good manager will have slept in every bedroom to ensure it’s up to scratch. ‘Breakfast is also a very good benchmark. It’s the guest’s last meal before check out, so good-quality coffee, freshly-squeezed orange juice and free-range eggs should be a given. 'Finally, the guest may not always be right, but they should always come first.’ Milebrook House, the Welsh Hotel of the Year, is a three-generation-run establishment with a 'well-varied' menu . Cosy: Yalbury Cottage at Lower Bockhampton, Dorset, is Britain's Small Hotel of the Year . For four-legged guests: 'Dogs are treated like people' at Overwater Hall, voted Dog-Friendly Hotel of the Year . Beautiful garden: The title of Country House Hotel of the Year was awarded to Lords of the Manor .</td>\n",
       "      <td>Several pubs and restaurants made the cut in the guide's 2015 edition .\\nThe Talbot Inn at Mells, Somerset, won Pub-With-Rooms of the Year title .\\nCesar Awards also handed out for top newcomer, best country house .</td>\n",
       "      <td>429cb16b5e21b210f012df5eedf5d0f7f53a0a24</td>\n",
       "      <td>Britain’s best hotels are getting a run for their money from pubs and restaurants in the 2015 edition of the Good Hotel Guide. Pubs and restaurants with rooms are vying with top-notch hotels as the best places to stay, with several establishments included in the latest guide. One of the top gongs in the book’s annual Cesar Awards – named after legendary Swiss hotelier Cesar Ritz – was awarded to The Talbot Inn, which serves as a watering hole for locals at Mells, Somerset, but has eight guest rooms for visitors. Scroll down for video . Cheers: The Talbot Inn at Mells, Somerset, won the title of Pub-With-Rooms of the Year . On the water: Located on the River Tummel, The Green Park at Pitlochry was the top hotel in Scotland . Stunning scenery: Moor of Rannoch Hotel at Rannoch Station, Perth and Kinross, was Newcomer of the Year . Surrounded by Somerset’s stunning countryside, The Talbot Inn won the title of Pub-With-Rooms of the Year. It is described as a traditional yet stylish coaching inn with all the comforts of a smart hotel plus a classic pub, grill room, 500-year-old sitting room and garden. There are more than 400 entries in the latest guide, which acts as a bible for the UK’s hotel industry. Its editors say the guide is independent and all the hotels and B&amp;Bs are recommended by readers, with anonymous inspections done by the editorial team. 'A Georgian gem': Guests are greeted with tea and cake at Newforge House, the Irish Guest House of the Year . Family-friendly: Fowey Hall at Fowey, Cornwall, was named the best place to take the kids . The Pear Tree at Purton was rated the top country hotel thanks to its ‘dynamic mother-and-daughter duo’ Nine other Cesar Awards were handed out. ‘Unstuffy and impeccable’ Lords of the Manor at Upper Slaughter, Gloucestershire, won Country House Hotel of the Year, while The Pear Tree at Purton in Purton, Wiltshire, was the top country hotel thanks to its ‘dynamic mother-and-daughter duo’ and ‘superb cuisine’. For families, Fowey Hall at Fowey, Cornwall, was rated the top place to take the kids. It served as the inspiration for Toad’s stately home in The Wind in the Willows. With no signals for television, radio or wifi, Scotland's Moor of Rannoch Hotel at Rannoch Station was named Newcomer of the Year. Co-editors Adam Raphael and Desmond Balmer said in a statement: ‘Our choices reflect the changing face of hospitality. Pubs and restaurants with rooms are listed alongside simple B&amp;Bs, as well as many full-service hotels.’ They said: ‘Hotels should be better than home. A good manager will have slept in every bedroom to ensure it’s up to scratch. ‘Breakfast is also a very good benchmark. It’s the guest’s last meal before check out, so good-quality coffee, freshly-squeezed orange juice and free-range eggs should be a given. 'Finally, the guest may not always be right, but they should always come first.’ Milebrook House, the Welsh Hotel of the Year, is a three-generation-run establishment with a 'well-varied' menu . Cosy: Yalbury Cottage at Lower Bockhampton, Dorset, is Britain's Small Hotel of the Year . For four-legged guests: 'Dogs are treated like people' at Overwater Hall, voted Dog-Friendly Hotel of the Year . Beautiful garden: The title of Country House Hotel of the Year was awarded to Lords of the Manor .</td>\n",
       "      <td>Several pubs and restaurants made the cut in the guide's 2015 edition .\\nThe Talbot Inn at Mells, Somerset, won Pub-With-Rooms of the Year title .\\nCesar Awards also handed out for top newcomer, best country house .</td>\n",
       "      <td>Britain’s best hotels are getting a run for their money from pubs and restaurants in the 2015 edition of the Good Hotel Guide. Pubs and restaurants with rooms are vying with top-notch hotels as the best places to stay, with several establishments included in the latest guide. One of the top gongs in the book’s annual Cesar Awards – named after legendary Swiss hotelier Cesar Ritz – was awarded to The Talbot Inn, which serves as a watering hole for locals at Mells, Somerset, but has eight guest rooms for visitors. Scroll down for video.  Cheers: The Talbot Inn at Mells, Somerset, won the title of Pub-With-Rooms of the Year.  On the water: Located on the River Tummel, The Green Park at Pitlochry was the top hotel in Scotland.  Stunning scenery: Moor of Rannoch Hotel at Rannoch Station, Perth and Kinross, was Newcomer of the Year.  Surrounded by Somerset’s stunning countryside, The Talbot Inn won the title of Pub-With-Rooms of the Year. It is described as a traditional yet stylish coaching inn with all the comforts of a smart hotel plus a classic pub, grill room, 500-year-old sitting room and garden. There are more than 400 entries in the latest guide, which acts as a bible for the UK’s hotel industry. Its editors say the guide is independent and all the hotels and B&amp;Bs are recommended by readers, with anonymous inspections done by the editorial team. 'A Georgian gem': Guests are greeted with tea and cake at Newforge House, the Irish Guest House of the Year.  Family-friendly: Fowey Hall at Fowey, Cornwall, was named the best place to take the kids.  The Pear Tree at Purton was rated the top country hotel thanks to its ‘dynamic mother-and-daughter duo’ Nine other Cesar Awards were handed out. ‘Unstuffy and impeccable’ Lords of the Manor at Upper Slaughter, Gloucestershire, won Country House Hotel of the Year, while The Pear Tree at Purton in Purton, Wiltshire, was the top country hotel thanks to its ‘dynamic mother-and-daughter duo’ and ‘superb cuisine’. For families, Fowey Hall at Fowey, Cornwall, was rated the top place to take the kids. It served as the inspiration for Toad’s stately home in The Wind in the Willows. With no signals for television, radio or wifi, Scotland's Moor of Rannoch Hotel at Rannoch Station was named Newcomer of the Year. Co-editors Adam Raphael and Desmond Balmer said in a statement: ‘Our choices reflect the changing face of hospitality. Pubs and restaurants with rooms are listed alongside simple B&amp;Bs, as well as many full-service hotels.’ They said: ‘Hotels should be better than home. A good manager will have slept in every bedroom to ensure it’s up to scratch. ‘Breakfast is also a very good benchmark. It’s the guest’s last meal before check out, so good-quality coffee, freshly-squeezed orange juice and free-range eggs should be a given. 'Finally, the guest may not always be right, but they should always come first.’ Milebrook House, the Welsh Hotel of the Year, is a three-generation-run establishment with a 'well-varied' menu.  Cosy: Yalbury Cottage at Lower Bockhampton, Dorset, is Britain's Small Hotel of the Year.  For four-legged guests: 'Dogs are treated like people' at Overwater Hall, voted Dog-Friendly Hotel of the Year.  Beautiful garden: The title of Country House Hotel of the Year was awarded to Lords of the Manor.</td>\n",
       "      <td>Several pubs and restaurants made the cut in the guide's 2015 edition. \\nThe Talbot Inn at Mells, Somerset, won Pub-With-Rooms of the Year title. \\nCesar Awards also handed out for top newcomer, best country house.</td>\n",
       "    </tr>\n",
       "  </tbody>\n",
       "</table>\n",
       "</div>"
      ],
      "text/plain": [
       "   Unnamed: 0  \\\n",
       "0       15378   \n",
       "1      213962   \n",
       "\n",
       "                                                                                                                                                                                                                                                                                                                                                                                                                                                                                                                                                                                                                                                                                                                                                                                                                                                                                                                                                                                                                                                                                                                                                                                                                                                                                                                                                                                                                                                                                                                                                                                                                                                                                                                                                                                                                                                                                                                                                                                                                                                                                                                                                                                                                                                                                                                                                                                                                                                                                                                                                                                                                                                                                                                                                                                                                                                                                                                                                                                                                                                                                                                                                                                                                                                                                                                                                                                                                                        article  \\\n",
       "0                                                                                                                                                                                                                                                                                                                                                                                                                                                                                                                                                                                                                                                                                                                                                                                                                                                                                                                                                                                                                                                                                                                                                                                                                                                                                                                                                                                                                                                                                                                                                                                                                                                                                                                                                                                                                 (CNN) -- Lukas Podolski scored his first goal since returning to Cologne but it was not enough as they crashed to a defeat 2-1 against Schalke which leaves them bottom of the German Bundesliga. Podolski celebrates his first goal since returning to Cologne, but it did not stop his side sliding to defeat. The hosts had already gone behind to a second-minute Jefferson Farfan strike when Podolski, who rejoined his boyhood club from Bayern Munich in the summer, levelled matters with six minutes played. But hopes Podolski's strike would inspire the home side fell flat a minute after half-time when Levan Kobiashvili scored a winner to move Schalke up to third in the table. Defeat for Cologne leaves them rock bottom with just one point from their opening five games. Schalke's early goal came courtesy of a corner to the far post where Gerald Asamoah was waiting to head the ball back across goal. Farfan was alert to the opportunity and sent his flying header into the back of the net for his second of the campaign. The mood inside the RheinEnergie Stadion improved significantly four minutes later when Podolski latched onto a through-ball before coolly stepping around Manuel Neuer to stroke home. The decisive moment in the game arrived just a minute after the interval when the dangerous Farfan attracted the home defence in the middle of the area before laying off a pass for Kobiashvili to thrash left-footed into the net. Meanwhile, in the day's other Bundesliga match, Werder Bremen had the better of the chances but were held to a 0-0 draw by Hannover.   \n",
       "1  Britain’s best hotels are getting a run for their money from pubs and restaurants in the 2015 edition of the Good Hotel Guide. Pubs and restaurants with rooms are vying with top-notch hotels as the best places to stay, with several establishments included in the latest guide. One of the top gongs in the book’s annual Cesar Awards – named after legendary Swiss hotelier Cesar Ritz – was awarded to The Talbot Inn, which serves as a watering hole for locals at Mells, Somerset, but has eight guest rooms for visitors. Scroll down for video . Cheers: The Talbot Inn at Mells, Somerset, won the title of Pub-With-Rooms of the Year . On the water: Located on the River Tummel, The Green Park at Pitlochry was the top hotel in Scotland . Stunning scenery: Moor of Rannoch Hotel at Rannoch Station, Perth and Kinross, was Newcomer of the Year . Surrounded by Somerset’s stunning countryside, The Talbot Inn won the title of Pub-With-Rooms of the Year. It is described as a traditional yet stylish coaching inn with all the comforts of a smart hotel plus a classic pub, grill room, 500-year-old sitting room and garden. There are more than 400 entries in the latest guide, which acts as a bible for the UK’s hotel industry. Its editors say the guide is independent and all the hotels and B&Bs are recommended by readers, with anonymous inspections done by the editorial team. 'A Georgian gem': Guests are greeted with tea and cake at Newforge House, the Irish Guest House of the Year . Family-friendly: Fowey Hall at Fowey, Cornwall, was named the best place to take the kids . The Pear Tree at Purton was rated the top country hotel thanks to its ‘dynamic mother-and-daughter duo’ Nine other Cesar Awards were handed out. ‘Unstuffy and impeccable’ Lords of the Manor at Upper Slaughter, Gloucestershire, won Country House Hotel of the Year, while The Pear Tree at Purton in Purton, Wiltshire, was the top country hotel thanks to its ‘dynamic mother-and-daughter duo’ and ‘superb cuisine’. For families, Fowey Hall at Fowey, Cornwall, was rated the top place to take the kids. It served as the inspiration for Toad’s stately home in The Wind in the Willows. With no signals for television, radio or wifi, Scotland's Moor of Rannoch Hotel at Rannoch Station was named Newcomer of the Year. Co-editors Adam Raphael and Desmond Balmer said in a statement: ‘Our choices reflect the changing face of hospitality. Pubs and restaurants with rooms are listed alongside simple B&Bs, as well as many full-service hotels.’ They said: ‘Hotels should be better than home. A good manager will have slept in every bedroom to ensure it’s up to scratch. ‘Breakfast is also a very good benchmark. It’s the guest’s last meal before check out, so good-quality coffee, freshly-squeezed orange juice and free-range eggs should be a given. 'Finally, the guest may not always be right, but they should always come first.’ Milebrook House, the Welsh Hotel of the Year, is a three-generation-run establishment with a 'well-varied' menu . Cosy: Yalbury Cottage at Lower Bockhampton, Dorset, is Britain's Small Hotel of the Year . For four-legged guests: 'Dogs are treated like people' at Overwater Hall, voted Dog-Friendly Hotel of the Year . Beautiful garden: The title of Country House Hotel of the Year was awarded to Lords of the Manor .   \n",
       "\n",
       "                                                                                                                                                                                                                                         highlights  \\\n",
       "0  Lukas Podolski scores his first goal since returning to Cologne in 2-1 defeat .\\nJefferson Farfan and Levan Kobiashvili scored the goals that gave Schalke win .\\nThe defeat leaves Cologne on bottom of the Bundesliga table after five games .   \n",
       "1                           Several pubs and restaurants made the cut in the guide's 2015 edition .\\nThe Talbot Inn at Mells, Somerset, won Pub-With-Rooms of the Year title .\\nCesar Awards also handed out for top newcomer, best country house .   \n",
       "\n",
       "                                         id  \\\n",
       "0  ac2e59e27564f0c77b03513cdea6616d8dd8361d   \n",
       "1  429cb16b5e21b210f012df5eedf5d0f7f53a0a24   \n",
       "\n",
       "                                                                                                                                                                                                                                                                                                                                                                                                                                                                                                                                                                                                                                                                                                                                                                                                                                                                                                                                                                                                                                                                                                                                                                                                                                                                                                                                                                                                                                                                                                                                                                                                                                                                                                                                                                                                                                                                                                                                                                                                                                                                                                                                                                                                                                                                                                                                                                                                                                                                                                                                                                                                                                                                                                                                                                                                                                                                                                                                                                                                                                                                                                                                                                                                                                                                                                                                                                                                                              internet-free_art  \\\n",
       "0                                                                                                                                                                                                                                                                                                                                                                                                                                                                                                                                                                                                                                                                                                                                                                                                                                                                                                                                                                                                                                                                                                                                                                                                                                                                                                                                                                                                                                                                                                                                                                                                                                                                                                                                                                                                                 (CNN) -- Lukas Podolski scored his first goal since returning to Cologne but it was not enough as they crashed to a defeat 2-1 against Schalke which leaves them bottom of the German Bundesliga. Podolski celebrates his first goal since returning to Cologne, but it did not stop his side sliding to defeat. The hosts had already gone behind to a second-minute Jefferson Farfan strike when Podolski, who rejoined his boyhood club from Bayern Munich in the summer, levelled matters with six minutes played. But hopes Podolski's strike would inspire the home side fell flat a minute after half-time when Levan Kobiashvili scored a winner to move Schalke up to third in the table. Defeat for Cologne leaves them rock bottom with just one point from their opening five games. Schalke's early goal came courtesy of a corner to the far post where Gerald Asamoah was waiting to head the ball back across goal. Farfan was alert to the opportunity and sent his flying header into the back of the net for his second of the campaign. The mood inside the RheinEnergie Stadion improved significantly four minutes later when Podolski latched onto a through-ball before coolly stepping around Manuel Neuer to stroke home. The decisive moment in the game arrived just a minute after the interval when the dangerous Farfan attracted the home defence in the middle of the area before laying off a pass for Kobiashvili to thrash left-footed into the net. Meanwhile, in the day's other Bundesliga match, Werder Bremen had the better of the chances but were held to a 0-0 draw by Hannover.   \n",
       "1  Britain’s best hotels are getting a run for their money from pubs and restaurants in the 2015 edition of the Good Hotel Guide. Pubs and restaurants with rooms are vying with top-notch hotels as the best places to stay, with several establishments included in the latest guide. One of the top gongs in the book’s annual Cesar Awards – named after legendary Swiss hotelier Cesar Ritz – was awarded to The Talbot Inn, which serves as a watering hole for locals at Mells, Somerset, but has eight guest rooms for visitors. Scroll down for video . Cheers: The Talbot Inn at Mells, Somerset, won the title of Pub-With-Rooms of the Year . On the water: Located on the River Tummel, The Green Park at Pitlochry was the top hotel in Scotland . Stunning scenery: Moor of Rannoch Hotel at Rannoch Station, Perth and Kinross, was Newcomer of the Year . Surrounded by Somerset’s stunning countryside, The Talbot Inn won the title of Pub-With-Rooms of the Year. It is described as a traditional yet stylish coaching inn with all the comforts of a smart hotel plus a classic pub, grill room, 500-year-old sitting room and garden. There are more than 400 entries in the latest guide, which acts as a bible for the UK’s hotel industry. Its editors say the guide is independent and all the hotels and B&Bs are recommended by readers, with anonymous inspections done by the editorial team. 'A Georgian gem': Guests are greeted with tea and cake at Newforge House, the Irish Guest House of the Year . Family-friendly: Fowey Hall at Fowey, Cornwall, was named the best place to take the kids . The Pear Tree at Purton was rated the top country hotel thanks to its ‘dynamic mother-and-daughter duo’ Nine other Cesar Awards were handed out. ‘Unstuffy and impeccable’ Lords of the Manor at Upper Slaughter, Gloucestershire, won Country House Hotel of the Year, while The Pear Tree at Purton in Purton, Wiltshire, was the top country hotel thanks to its ‘dynamic mother-and-daughter duo’ and ‘superb cuisine’. For families, Fowey Hall at Fowey, Cornwall, was rated the top place to take the kids. It served as the inspiration for Toad’s stately home in The Wind in the Willows. With no signals for television, radio or wifi, Scotland's Moor of Rannoch Hotel at Rannoch Station was named Newcomer of the Year. Co-editors Adam Raphael and Desmond Balmer said in a statement: ‘Our choices reflect the changing face of hospitality. Pubs and restaurants with rooms are listed alongside simple B&Bs, as well as many full-service hotels.’ They said: ‘Hotels should be better than home. A good manager will have slept in every bedroom to ensure it’s up to scratch. ‘Breakfast is also a very good benchmark. It’s the guest’s last meal before check out, so good-quality coffee, freshly-squeezed orange juice and free-range eggs should be a given. 'Finally, the guest may not always be right, but they should always come first.’ Milebrook House, the Welsh Hotel of the Year, is a three-generation-run establishment with a 'well-varied' menu . Cosy: Yalbury Cottage at Lower Bockhampton, Dorset, is Britain's Small Hotel of the Year . For four-legged guests: 'Dogs are treated like people' at Overwater Hall, voted Dog-Friendly Hotel of the Year . Beautiful garden: The title of Country House Hotel of the Year was awarded to Lords of the Manor .   \n",
       "\n",
       "                                                                                                                                                                                                                                 internet-free_high  \\\n",
       "0  Lukas Podolski scores his first goal since returning to Cologne in 2-1 defeat .\\nJefferson Farfan and Levan Kobiashvili scored the goals that gave Schalke win .\\nThe defeat leaves Cologne on bottom of the Bundesliga table after five games .   \n",
       "1                           Several pubs and restaurants made the cut in the guide's 2015 edition .\\nThe Talbot Inn at Mells, Somerset, won Pub-With-Rooms of the Year title .\\nCesar Awards also handed out for top newcomer, best country house .   \n",
       "\n",
       "                                                                                                                                                                                                                                                                                                                                                                                                                                                                                                                                                                                                                                                                                                                                                                                                                                                                                                                                                                                                                                                                                                                                                                                                                                                                                                                                                                                                                                                                                                                                                                                                                                                                                                                                                                                                                                                                                                                                                                                                                                                                                                                                                                                                                                                                                                                                                                                                                                                                                                                                                                                                                                                                                                                                                                                                                                                                                                                                                                                                                                                                                                                                                                                                                                                                                                                                                                                                                                boiler-free_art  \\\n",
       "0                                                                                                                                                                                                                                                                                                                                                                                                                                                                                                                                                                                                                                                                                                                                                                                                                                                                                                                                                                                                                                                                                                                                                                                                                                                                                                                                                                                                                                                                                                                                                                                                                                                                                                                                                                                                                          Lukas Podolski scored his first goal since returning to Cologne but it was not enough as they crashed to a defeat 2-1 against Schalke which leaves them bottom of the German Bundesliga. Podolski celebrates his first goal since returning to Cologne, but it did not stop his side sliding to defeat. The hosts had already gone behind to a second-minute Jefferson Farfan strike when Podolski, who rejoined his boyhood club from Bayern Munich in the summer, levelled matters with six minutes played. But hopes Podolski's strike would inspire the home side fell flat a minute after half-time when Levan Kobiashvili scored a winner to move Schalke up to third in the table. Defeat for Cologne leaves them rock bottom with just one point from their opening five games. Schalke's early goal came courtesy of a corner to the far post where Gerald Asamoah was waiting to head the ball back across goal. Farfan was alert to the opportunity and sent his flying header into the back of the net for his second of the campaign. The mood inside the RheinEnergie Stadion improved significantly four minutes later when Podolski latched onto a through-ball before coolly stepping around Manuel Neuer to stroke home. The decisive moment in the game arrived just a minute after the interval when the dangerous Farfan attracted the home defence in the middle of the area before laying off a pass for Kobiashvili to thrash left-footed into the net. Meanwhile, in the day's other Bundesliga match, Werder Bremen had the better of the chances but were held to a 0-0 draw by Hannover.   \n",
       "1  Britain’s best hotels are getting a run for their money from pubs and restaurants in the 2015 edition of the Good Hotel Guide. Pubs and restaurants with rooms are vying with top-notch hotels as the best places to stay, with several establishments included in the latest guide. One of the top gongs in the book’s annual Cesar Awards – named after legendary Swiss hotelier Cesar Ritz – was awarded to The Talbot Inn, which serves as a watering hole for locals at Mells, Somerset, but has eight guest rooms for visitors. Scroll down for video.  Cheers: The Talbot Inn at Mells, Somerset, won the title of Pub-With-Rooms of the Year.  On the water: Located on the River Tummel, The Green Park at Pitlochry was the top hotel in Scotland.  Stunning scenery: Moor of Rannoch Hotel at Rannoch Station, Perth and Kinross, was Newcomer of the Year.  Surrounded by Somerset’s stunning countryside, The Talbot Inn won the title of Pub-With-Rooms of the Year. It is described as a traditional yet stylish coaching inn with all the comforts of a smart hotel plus a classic pub, grill room, 500-year-old sitting room and garden. There are more than 400 entries in the latest guide, which acts as a bible for the UK’s hotel industry. Its editors say the guide is independent and all the hotels and B&Bs are recommended by readers, with anonymous inspections done by the editorial team. 'A Georgian gem': Guests are greeted with tea and cake at Newforge House, the Irish Guest House of the Year.  Family-friendly: Fowey Hall at Fowey, Cornwall, was named the best place to take the kids.  The Pear Tree at Purton was rated the top country hotel thanks to its ‘dynamic mother-and-daughter duo’ Nine other Cesar Awards were handed out. ‘Unstuffy and impeccable’ Lords of the Manor at Upper Slaughter, Gloucestershire, won Country House Hotel of the Year, while The Pear Tree at Purton in Purton, Wiltshire, was the top country hotel thanks to its ‘dynamic mother-and-daughter duo’ and ‘superb cuisine’. For families, Fowey Hall at Fowey, Cornwall, was rated the top place to take the kids. It served as the inspiration for Toad’s stately home in The Wind in the Willows. With no signals for television, radio or wifi, Scotland's Moor of Rannoch Hotel at Rannoch Station was named Newcomer of the Year. Co-editors Adam Raphael and Desmond Balmer said in a statement: ‘Our choices reflect the changing face of hospitality. Pubs and restaurants with rooms are listed alongside simple B&Bs, as well as many full-service hotels.’ They said: ‘Hotels should be better than home. A good manager will have slept in every bedroom to ensure it’s up to scratch. ‘Breakfast is also a very good benchmark. It’s the guest’s last meal before check out, so good-quality coffee, freshly-squeezed orange juice and free-range eggs should be a given. 'Finally, the guest may not always be right, but they should always come first.’ Milebrook House, the Welsh Hotel of the Year, is a three-generation-run establishment with a 'well-varied' menu.  Cosy: Yalbury Cottage at Lower Bockhampton, Dorset, is Britain's Small Hotel of the Year.  For four-legged guests: 'Dogs are treated like people' at Overwater Hall, voted Dog-Friendly Hotel of the Year.  Beautiful garden: The title of Country House Hotel of the Year was awarded to Lords of the Manor.    \n",
       "\n",
       "                                                                                                                                                                                                                                   boiler-free_high  \n",
       "0  Lukas Podolski scores his first goal since returning to Cologne in 2-1 defeat. \\nJefferson Farfan and Levan Kobiashvili scored the goals that gave Schalke win. \\nThe defeat leaves Cologne on bottom of the Bundesliga table after five games.   \n",
       "1                           Several pubs and restaurants made the cut in the guide's 2015 edition. \\nThe Talbot Inn at Mells, Somerset, won Pub-With-Rooms of the Year title. \\nCesar Awards also handed out for top newcomer, best country house.   "
      ]
     },
     "execution_count": 27,
     "metadata": {},
     "output_type": "execute_result"
    }
   ],
   "source": [
    "# Check the results. All OK.\n",
    "datasets['train'].head(2)\n",
    "#datasets['val'].head(2)\n",
    "#datasets['test'].head(2)"
   ]
  },
  {
   "cell_type": "code",
   "execution_count": 28,
   "metadata": {
    "colab": {
     "base_uri": "https://localhost:8080/"
    },
    "executionInfo": {
     "elapsed": 263,
     "status": "ok",
     "timestamp": 1704038200715,
     "user": {
      "displayName": "Αναστασία Καρακίτσου",
      "userId": "05978320568736761068"
     },
     "user_tz": -120
    },
    "id": "EhwQ34iwX1ar",
    "outputId": "8b7c7a6b-74fd-45c9-df8d-0d7db4d73cfb"
   },
   "outputs": [
    {
     "name": "stdout",
     "output_type": "stream",
     "text": [
      "Results for train dataset where there are no ASCII characters:\n",
      "Articles:\n",
      "boiler-free_art\n",
      "False    28711\n",
      "Name: count, dtype: int64\n",
      "\n",
      "Highlights:\n",
      "boiler-free_high\n",
      "False    28711\n",
      "Name: count, dtype: int64\n",
      "\n",
      "--------------------------------------------------\n",
      "\n",
      "Results for val dataset where there are no ASCII characters:\n",
      "Articles:\n",
      "boiler-free_art\n",
      "False    1337\n",
      "Name: count, dtype: int64\n",
      "\n",
      "Highlights:\n",
      "boiler-free_high\n",
      "False    1337\n",
      "Name: count, dtype: int64\n",
      "\n",
      "--------------------------------------------------\n",
      "\n",
      "Results for test dataset where there are no ASCII characters:\n",
      "Articles:\n",
      "boiler-free_art\n",
      "False    11490\n",
      "Name: count, dtype: int64\n",
      "\n",
      "Highlights:\n",
      "boiler-free_high\n",
      "False    11490\n",
      "Name: count, dtype: int64\n",
      "\n",
      "--------------------------------------------------\n",
      "\n"
     ]
    }
   ],
   "source": [
    "# Check for entirely non-ASCII chars.\n",
    "def contains_no_ascii(text):\n",
    "    return all(not char.isascii() for char in text)\n",
    "\n",
    "for name, df in datasets.items():\n",
    "    print(f\"Results for {name} dataset where there are no ASCII characters:\")\n",
    "    print(\"Articles:\")\n",
    "    print(df['boiler-free_art'].apply(contains_no_ascii).value_counts())\n",
    "    print(\"\\nHighlights:\")\n",
    "    print(df['boiler-free_high'].apply(contains_no_ascii).value_counts())\n",
    "    print(\"\\n\" + \"-\"*50 + \"\\n\")"
   ]
  },
  {
   "cell_type": "markdown",
   "metadata": {},
   "source": [
    "### Decision on library for stopword removal and further text cleaning."
   ]
  },
  {
   "cell_type": "code",
   "execution_count": 29,
   "metadata": {
    "colab": {
     "base_uri": "https://localhost:8080/"
    },
    "executionInfo": {
     "elapsed": 257,
     "status": "ok",
     "timestamp": 1704038666683,
     "user": {
      "displayName": "Αναστασία Καρακίτσου",
      "userId": "05978320568736761068"
     },
     "user_tz": -120
    },
    "id": "KwicO8p_2h39",
    "outputId": "fee4fd0d-7c70-4eb0-d853-15b84e504d6b"
   },
   "outputs": [
    {
     "name": "stdout",
     "output_type": "stream",
     "text": [
      "179\n",
      "<class 'set'>\n",
      "NO, possessive \"s\" is NOT included.\n"
     ]
    },
    {
     "name": "stderr",
     "output_type": "stream",
     "text": [
      "[nltk_data] Downloading package stopwords to\n",
      "[nltk_data]     C:\\Users\\ankar\\AppData\\Roaming\\nltk_data...\n",
      "[nltk_data]   Package stopwords is already up-to-date!\n"
     ]
    }
   ],
   "source": [
    "# View NLTK'S stopwords. All stopwords are lowercase.\n",
    "import nltk\n",
    "nltk.download('stopwords')\n",
    "from nltk.corpus import stopwords\n",
    "stop_words = set(stopwords.words('english'))\n",
    "\n",
    "print(len(stop_words)) # Only 179 stopwords.\n",
    "print(type(stop_words))\n",
    "\n",
    "# Check for possessive \"'s\". Will it be removed together with the stopwords? NO!\n",
    "if \"'s\" in stop_words: print('YES, possessive \"s\" is included.')\n",
    "else: print('NO, possessive \"s\" is NOT included.')"
   ]
  },
  {
   "cell_type": "code",
   "execution_count": 30,
   "metadata": {
    "colab": {
     "base_uri": "https://localhost:8080/"
    },
    "executionInfo": {
     "elapsed": 1068,
     "status": "ok",
     "timestamp": 1704038766228,
     "user": {
      "displayName": "Αναστασία Καρακίτσου",
      "userId": "05978320568736761068"
     },
     "user_tz": -120
    },
    "id": "ouvUGCbhEudt",
    "outputId": "2fb09a99-1f82-4bba-bf9a-04e87327d1b6"
   },
   "outputs": [
    {
     "name": "stdout",
     "output_type": "stream",
     "text": [
      "We will use SPACY's stopwords, because SPACY includes 326 stopwords, which are 147 more than NLTK's stopwords. \n",
      "<class 'set'>\n",
      "YES, possessive \"s\" is included.\n",
      "We will choose to use the SPACY library for text preprocessing and cleaning.\n"
     ]
    }
   ],
   "source": [
    "# View SPACY'S list of stopwords.\n",
    "\n",
    "nlp = spacy.load('en_core_web_sm')\n",
    "stopwords = nlp.Defaults.stop_words\n",
    "print(\"We will use SPACY\\'s stopwords, because SPACY includes\", len(stopwords), f\"stopwords, which are {(len(stopwords))-(len(stop_words))} more than NLTK's stopwords. \")\n",
    "print(type(stopwords))\n",
    "\n",
    "# Check for possessive \"'s\". Will it be removed together with the stopwords? YES!\n",
    "if \"'s\" in stopwords: print('YES, possessive \"s\" is included.')\n",
    "else: print('NO, possessive \"s\" is NOT included.')\n",
    "print('We will choose to use the SPACY library for text preprocessing and cleaning.')"
   ]
  },
  {
   "cell_type": "code",
   "execution_count": null,
   "metadata": {
    "colab": {
     "base_uri": "https://localhost:8080/"
    },
    "executionInfo": {
     "elapsed": 295,
     "status": "ok",
     "timestamp": 1704038783269,
     "user": {
      "displayName": "Αναστασία Καρακίτσου",
      "userId": "05978320568736761068"
     },
     "user_tz": -120
    },
    "id": "R9LiNkC7WX7K",
    "outputId": "f7b4ce13-9c7e-4ab2-dfcc-98ead1ac60a8"
   },
   "outputs": [],
   "source": [
    "# Sentence/word tokenization and sentence processing.\n",
    "\n",
    "def sent_cleaning(text):\n",
    "    # Remove any non-ASCII characters. OK\n",
    "    non_asciichars = ''.join(char for char in text if char.isascii())\n",
    "    # Lowercase the text. OK\n",
    "    low_text = non_asciichars.lower()\n",
    "    # Expand word contractions. OK\n",
    "    text = contractions.fix(low_text)\n",
    "    # Sentence & word tokenization, lemmatization, and punctuation removal. OK\n",
    "    doc = nlp(text)\n",
    "    lemmatized_sentences = []\n",
    "    for sentence in doc.sents:\n",
    "        no_punct_no_stops_lemmatized_tokens = [token.lemma_ for token in sentence if not token.is_punct and not token.is_stop and token.text.strip() != ''] # filters out '\\n' as a token\n",
    "        lemmatized_sentences.append(no_punct_no_stops_lemmatized_tokens)\n",
    "\n",
    "example = \"\"\"Several pubs and restaurants made the cut in the guide's 2015 edition. \\nThe Talbot Inn at Mells, Somerset, won Pub-With-Rooms of the Year title. \\nCesar Awards also handed out for top newcomer, best country house..\"\"\"\n",
    "exa = sent_cleaning(example)\n",
    "print(exa)"
   ]
  },
  {
   "cell_type": "code",
   "execution_count": null,
   "metadata": {},
   "outputs": [],
   "source": [
    "# datasets['train']['boiler-free_high'].head(2)"
   ]
  },
  {
   "cell_type": "code",
   "execution_count": null,
   "metadata": {
    "colab": {
     "base_uri": "https://localhost:8080/"
    },
    "executionInfo": {
     "elapsed": 473355,
     "status": "ok",
     "timestamp": 1704039922506,
     "user": {
      "displayName": "Αναστασία Καρακίτσου",
      "userId": "05978320568736761068"
     },
     "user_tz": -120
    },
    "id": "g_jSRK351rqO",
    "outputId": "73302443-52de-4e49-8d09-b96609206216"
   },
   "outputs": [],
   "source": [
    "%%time\n",
    "\n",
    "for name, df in datasets.items():\n",
    "    df['clean_sents_art'] = df['boiler-free_art'].apply(sent_cleaning)\n",
    "    df['clean_sents_high'] = df['boiler-free_high'].apply(sent_cleaning)\n",
    "    datasets[name] = df"
   ]
  },
  {
   "cell_type": "code",
   "execution_count": 33,
   "metadata": {
    "colab": {
     "base_uri": "https://localhost:8080/",
     "height": 1000
    },
    "executionInfo": {
     "elapsed": 279,
     "status": "ok",
     "timestamp": 1704042367129,
     "user": {
      "displayName": "Αναστασία Καρακίτσου",
      "userId": "05978320568736761068"
     },
     "user_tz": -120
    },
    "id": "SFft6W7codut",
    "outputId": "4bf68afe-177e-41af-d4cc-699e4f3e0d50"
   },
   "outputs": [
    {
     "name": "stdout",
     "output_type": "stream",
     "text": [
      "Columns in train dataset: Index(['Unnamed: 0', 'article', 'highlights', 'id', 'internet-free_art',\n",
      "       'internet-free_high', 'boiler-free_art', 'boiler-free_high'],\n",
      "      dtype='object')\n",
      "Columns in val dataset: Index(['Unnamed: 0', 'article', 'highlights', 'id', 'internet-free_art',\n",
      "       'internet-free_high', 'boiler-free_art', 'boiler-free_high'],\n",
      "      dtype='object')\n",
      "Columns in test dataset: Index(['Unnamed: 0', 'article', 'highlights', 'id', 'internet-free_art',\n",
      "       'internet-free_high', 'boiler-free_art', 'boiler-free_high'],\n",
      "      dtype='object')\n"
     ]
    },
    {
     "data": {
      "text/html": [
       "<div>\n",
       "<style scoped>\n",
       "    .dataframe tbody tr th:only-of-type {\n",
       "        vertical-align: middle;\n",
       "    }\n",
       "\n",
       "    .dataframe tbody tr th {\n",
       "        vertical-align: top;\n",
       "    }\n",
       "\n",
       "    .dataframe thead th {\n",
       "        text-align: right;\n",
       "    }\n",
       "</style>\n",
       "<table border=\"1\" class=\"dataframe\">\n",
       "  <thead>\n",
       "    <tr style=\"text-align: right;\">\n",
       "      <th></th>\n",
       "      <th>Unnamed: 0</th>\n",
       "      <th>article</th>\n",
       "      <th>highlights</th>\n",
       "      <th>id</th>\n",
       "      <th>internet-free_art</th>\n",
       "      <th>internet-free_high</th>\n",
       "      <th>boiler-free_art</th>\n",
       "      <th>boiler-free_high</th>\n",
       "    </tr>\n",
       "  </thead>\n",
       "  <tbody>\n",
       "    <tr>\n",
       "      <th>0</th>\n",
       "      <td>15378</td>\n",
       "      <td>(CNN) -- Lukas Podolski scored his first goal since returning to Cologne but it was not enough as they crashed to a defeat 2-1 against Schalke which leaves them bottom of the German Bundesliga. Podolski celebrates his first goal since returning to Cologne, but it did not stop his side sliding to defeat. The hosts had already gone behind to a second-minute Jefferson Farfan strike when Podolski, who rejoined his boyhood club from Bayern Munich in the summer, levelled matters with six minutes played. But hopes Podolski's strike would inspire the home side fell flat a minute after half-time when Levan Kobiashvili scored a winner to move Schalke up to third in the table. Defeat for Cologne leaves them rock bottom with just one point from their opening five games. Schalke's early goal came courtesy of a corner to the far post where Gerald Asamoah was waiting to head the ball back across goal. Farfan was alert to the opportunity and sent his flying header into the back of the net for his second of the campaign. The mood inside the RheinEnergie Stadion improved significantly four minutes later when Podolski latched onto a through-ball before coolly stepping around Manuel Neuer to stroke home. The decisive moment in the game arrived just a minute after the interval when the dangerous Farfan attracted the home defence in the middle of the area before laying off a pass for Kobiashvili to thrash left-footed into the net. Meanwhile, in the day's other Bundesliga match, Werder Bremen had the better of the chances but were held to a 0-0 draw by Hannover.</td>\n",
       "      <td>Lukas Podolski scores his first goal since returning to Cologne in 2-1 defeat .\\nJefferson Farfan and Levan Kobiashvili scored the goals that gave Schalke win .\\nThe defeat leaves Cologne on bottom of the Bundesliga table after five games .</td>\n",
       "      <td>ac2e59e27564f0c77b03513cdea6616d8dd8361d</td>\n",
       "      <td>(CNN) -- Lukas Podolski scored his first goal since returning to Cologne but it was not enough as they crashed to a defeat 2-1 against Schalke which leaves them bottom of the German Bundesliga. Podolski celebrates his first goal since returning to Cologne, but it did not stop his side sliding to defeat. The hosts had already gone behind to a second-minute Jefferson Farfan strike when Podolski, who rejoined his boyhood club from Bayern Munich in the summer, levelled matters with six minutes played. But hopes Podolski's strike would inspire the home side fell flat a minute after half-time when Levan Kobiashvili scored a winner to move Schalke up to third in the table. Defeat for Cologne leaves them rock bottom with just one point from their opening five games. Schalke's early goal came courtesy of a corner to the far post where Gerald Asamoah was waiting to head the ball back across goal. Farfan was alert to the opportunity and sent his flying header into the back of the net for his second of the campaign. The mood inside the RheinEnergie Stadion improved significantly four minutes later when Podolski latched onto a through-ball before coolly stepping around Manuel Neuer to stroke home. The decisive moment in the game arrived just a minute after the interval when the dangerous Farfan attracted the home defence in the middle of the area before laying off a pass for Kobiashvili to thrash left-footed into the net. Meanwhile, in the day's other Bundesliga match, Werder Bremen had the better of the chances but were held to a 0-0 draw by Hannover.</td>\n",
       "      <td>Lukas Podolski scores his first goal since returning to Cologne in 2-1 defeat .\\nJefferson Farfan and Levan Kobiashvili scored the goals that gave Schalke win .\\nThe defeat leaves Cologne on bottom of the Bundesliga table after five games .</td>\n",
       "      <td>Lukas Podolski scored his first goal since returning to Cologne but it was not enough as they crashed to a defeat 2-1 against Schalke which leaves them bottom of the German Bundesliga. Podolski celebrates his first goal since returning to Cologne, but it did not stop his side sliding to defeat. The hosts had already gone behind to a second-minute Jefferson Farfan strike when Podolski, who rejoined his boyhood club from Bayern Munich in the summer, levelled matters with six minutes played. But hopes Podolski's strike would inspire the home side fell flat a minute after half-time when Levan Kobiashvili scored a winner to move Schalke up to third in the table. Defeat for Cologne leaves them rock bottom with just one point from their opening five games. Schalke's early goal came courtesy of a corner to the far post where Gerald Asamoah was waiting to head the ball back across goal. Farfan was alert to the opportunity and sent his flying header into the back of the net for his second of the campaign. The mood inside the RheinEnergie Stadion improved significantly four minutes later when Podolski latched onto a through-ball before coolly stepping around Manuel Neuer to stroke home. The decisive moment in the game arrived just a minute after the interval when the dangerous Farfan attracted the home defence in the middle of the area before laying off a pass for Kobiashvili to thrash left-footed into the net. Meanwhile, in the day's other Bundesliga match, Werder Bremen had the better of the chances but were held to a 0-0 draw by Hannover.</td>\n",
       "      <td>Lukas Podolski scores his first goal since returning to Cologne in 2-1 defeat. \\nJefferson Farfan and Levan Kobiashvili scored the goals that gave Schalke win. \\nThe defeat leaves Cologne on bottom of the Bundesliga table after five games.</td>\n",
       "    </tr>\n",
       "    <tr>\n",
       "      <th>1</th>\n",
       "      <td>213962</td>\n",
       "      <td>Britain’s best hotels are getting a run for their money from pubs and restaurants in the 2015 edition of the Good Hotel Guide. Pubs and restaurants with rooms are vying with top-notch hotels as the best places to stay, with several establishments included in the latest guide. One of the top gongs in the book’s annual Cesar Awards – named after legendary Swiss hotelier Cesar Ritz – was awarded to The Talbot Inn, which serves as a watering hole for locals at Mells, Somerset, but has eight guest rooms for visitors. Scroll down for video . Cheers: The Talbot Inn at Mells, Somerset, won the title of Pub-With-Rooms of the Year . On the water: Located on the River Tummel, The Green Park at Pitlochry was the top hotel in Scotland . Stunning scenery: Moor of Rannoch Hotel at Rannoch Station, Perth and Kinross, was Newcomer of the Year . Surrounded by Somerset’s stunning countryside, The Talbot Inn won the title of Pub-With-Rooms of the Year. It is described as a traditional yet stylish coaching inn with all the comforts of a smart hotel plus a classic pub, grill room, 500-year-old sitting room and garden. There are more than 400 entries in the latest guide, which acts as a bible for the UK’s hotel industry. Its editors say the guide is independent and all the hotels and B&amp;Bs are recommended by readers, with anonymous inspections done by the editorial team. 'A Georgian gem': Guests are greeted with tea and cake at Newforge House, the Irish Guest House of the Year . Family-friendly: Fowey Hall at Fowey, Cornwall, was named the best place to take the kids . The Pear Tree at Purton was rated the top country hotel thanks to its ‘dynamic mother-and-daughter duo’ Nine other Cesar Awards were handed out. ‘Unstuffy and impeccable’ Lords of the Manor at Upper Slaughter, Gloucestershire, won Country House Hotel of the Year, while The Pear Tree at Purton in Purton, Wiltshire, was the top country hotel thanks to its ‘dynamic mother-and-daughter duo’ and ‘superb cuisine’. For families, Fowey Hall at Fowey, Cornwall, was rated the top place to take the kids. It served as the inspiration for Toad’s stately home in The Wind in the Willows. With no signals for television, radio or wifi, Scotland's Moor of Rannoch Hotel at Rannoch Station was named Newcomer of the Year. Co-editors Adam Raphael and Desmond Balmer said in a statement: ‘Our choices reflect the changing face of hospitality. Pubs and restaurants with rooms are listed alongside simple B&amp;Bs, as well as many full-service hotels.’ They said: ‘Hotels should be better than home. A good manager will have slept in every bedroom to ensure it’s up to scratch. ‘Breakfast is also a very good benchmark. It’s the guest’s last meal before check out, so good-quality coffee, freshly-squeezed orange juice and free-range eggs should be a given. 'Finally, the guest may not always be right, but they should always come first.’ Milebrook House, the Welsh Hotel of the Year, is a three-generation-run establishment with a 'well-varied' menu . Cosy: Yalbury Cottage at Lower Bockhampton, Dorset, is Britain's Small Hotel of the Year . For four-legged guests: 'Dogs are treated like people' at Overwater Hall, voted Dog-Friendly Hotel of the Year . Beautiful garden: The title of Country House Hotel of the Year was awarded to Lords of the Manor .</td>\n",
       "      <td>Several pubs and restaurants made the cut in the guide's 2015 edition .\\nThe Talbot Inn at Mells, Somerset, won Pub-With-Rooms of the Year title .\\nCesar Awards also handed out for top newcomer, best country house .</td>\n",
       "      <td>429cb16b5e21b210f012df5eedf5d0f7f53a0a24</td>\n",
       "      <td>Britain’s best hotels are getting a run for their money from pubs and restaurants in the 2015 edition of the Good Hotel Guide. Pubs and restaurants with rooms are vying with top-notch hotels as the best places to stay, with several establishments included in the latest guide. One of the top gongs in the book’s annual Cesar Awards – named after legendary Swiss hotelier Cesar Ritz – was awarded to The Talbot Inn, which serves as a watering hole for locals at Mells, Somerset, but has eight guest rooms for visitors. Scroll down for video . Cheers: The Talbot Inn at Mells, Somerset, won the title of Pub-With-Rooms of the Year . On the water: Located on the River Tummel, The Green Park at Pitlochry was the top hotel in Scotland . Stunning scenery: Moor of Rannoch Hotel at Rannoch Station, Perth and Kinross, was Newcomer of the Year . Surrounded by Somerset’s stunning countryside, The Talbot Inn won the title of Pub-With-Rooms of the Year. It is described as a traditional yet stylish coaching inn with all the comforts of a smart hotel plus a classic pub, grill room, 500-year-old sitting room and garden. There are more than 400 entries in the latest guide, which acts as a bible for the UK’s hotel industry. Its editors say the guide is independent and all the hotels and B&amp;Bs are recommended by readers, with anonymous inspections done by the editorial team. 'A Georgian gem': Guests are greeted with tea and cake at Newforge House, the Irish Guest House of the Year . Family-friendly: Fowey Hall at Fowey, Cornwall, was named the best place to take the kids . The Pear Tree at Purton was rated the top country hotel thanks to its ‘dynamic mother-and-daughter duo’ Nine other Cesar Awards were handed out. ‘Unstuffy and impeccable’ Lords of the Manor at Upper Slaughter, Gloucestershire, won Country House Hotel of the Year, while The Pear Tree at Purton in Purton, Wiltshire, was the top country hotel thanks to its ‘dynamic mother-and-daughter duo’ and ‘superb cuisine’. For families, Fowey Hall at Fowey, Cornwall, was rated the top place to take the kids. It served as the inspiration for Toad’s stately home in The Wind in the Willows. With no signals for television, radio or wifi, Scotland's Moor of Rannoch Hotel at Rannoch Station was named Newcomer of the Year. Co-editors Adam Raphael and Desmond Balmer said in a statement: ‘Our choices reflect the changing face of hospitality. Pubs and restaurants with rooms are listed alongside simple B&amp;Bs, as well as many full-service hotels.’ They said: ‘Hotels should be better than home. A good manager will have slept in every bedroom to ensure it’s up to scratch. ‘Breakfast is also a very good benchmark. It’s the guest’s last meal before check out, so good-quality coffee, freshly-squeezed orange juice and free-range eggs should be a given. 'Finally, the guest may not always be right, but they should always come first.’ Milebrook House, the Welsh Hotel of the Year, is a three-generation-run establishment with a 'well-varied' menu . Cosy: Yalbury Cottage at Lower Bockhampton, Dorset, is Britain's Small Hotel of the Year . For four-legged guests: 'Dogs are treated like people' at Overwater Hall, voted Dog-Friendly Hotel of the Year . Beautiful garden: The title of Country House Hotel of the Year was awarded to Lords of the Manor .</td>\n",
       "      <td>Several pubs and restaurants made the cut in the guide's 2015 edition .\\nThe Talbot Inn at Mells, Somerset, won Pub-With-Rooms of the Year title .\\nCesar Awards also handed out for top newcomer, best country house .</td>\n",
       "      <td>Britain’s best hotels are getting a run for their money from pubs and restaurants in the 2015 edition of the Good Hotel Guide. Pubs and restaurants with rooms are vying with top-notch hotels as the best places to stay, with several establishments included in the latest guide. One of the top gongs in the book’s annual Cesar Awards – named after legendary Swiss hotelier Cesar Ritz – was awarded to The Talbot Inn, which serves as a watering hole for locals at Mells, Somerset, but has eight guest rooms for visitors. Scroll down for video.  Cheers: The Talbot Inn at Mells, Somerset, won the title of Pub-With-Rooms of the Year.  On the water: Located on the River Tummel, The Green Park at Pitlochry was the top hotel in Scotland.  Stunning scenery: Moor of Rannoch Hotel at Rannoch Station, Perth and Kinross, was Newcomer of the Year.  Surrounded by Somerset’s stunning countryside, The Talbot Inn won the title of Pub-With-Rooms of the Year. It is described as a traditional yet stylish coaching inn with all the comforts of a smart hotel plus a classic pub, grill room, 500-year-old sitting room and garden. There are more than 400 entries in the latest guide, which acts as a bible for the UK’s hotel industry. Its editors say the guide is independent and all the hotels and B&amp;Bs are recommended by readers, with anonymous inspections done by the editorial team. 'A Georgian gem': Guests are greeted with tea and cake at Newforge House, the Irish Guest House of the Year.  Family-friendly: Fowey Hall at Fowey, Cornwall, was named the best place to take the kids.  The Pear Tree at Purton was rated the top country hotel thanks to its ‘dynamic mother-and-daughter duo’ Nine other Cesar Awards were handed out. ‘Unstuffy and impeccable’ Lords of the Manor at Upper Slaughter, Gloucestershire, won Country House Hotel of the Year, while The Pear Tree at Purton in Purton, Wiltshire, was the top country hotel thanks to its ‘dynamic mother-and-daughter duo’ and ‘superb cuisine’. For families, Fowey Hall at Fowey, Cornwall, was rated the top place to take the kids. It served as the inspiration for Toad’s stately home in The Wind in the Willows. With no signals for television, radio or wifi, Scotland's Moor of Rannoch Hotel at Rannoch Station was named Newcomer of the Year. Co-editors Adam Raphael and Desmond Balmer said in a statement: ‘Our choices reflect the changing face of hospitality. Pubs and restaurants with rooms are listed alongside simple B&amp;Bs, as well as many full-service hotels.’ They said: ‘Hotels should be better than home. A good manager will have slept in every bedroom to ensure it’s up to scratch. ‘Breakfast is also a very good benchmark. It’s the guest’s last meal before check out, so good-quality coffee, freshly-squeezed orange juice and free-range eggs should be a given. 'Finally, the guest may not always be right, but they should always come first.’ Milebrook House, the Welsh Hotel of the Year, is a three-generation-run establishment with a 'well-varied' menu.  Cosy: Yalbury Cottage at Lower Bockhampton, Dorset, is Britain's Small Hotel of the Year.  For four-legged guests: 'Dogs are treated like people' at Overwater Hall, voted Dog-Friendly Hotel of the Year.  Beautiful garden: The title of Country House Hotel of the Year was awarded to Lords of the Manor.</td>\n",
       "      <td>Several pubs and restaurants made the cut in the guide's 2015 edition. \\nThe Talbot Inn at Mells, Somerset, won Pub-With-Rooms of the Year title. \\nCesar Awards also handed out for top newcomer, best country house.</td>\n",
       "    </tr>\n",
       "  </tbody>\n",
       "</table>\n",
       "</div>"
      ],
      "text/plain": [
       "   Unnamed: 0  \\\n",
       "0       15378   \n",
       "1      213962   \n",
       "\n",
       "                                                                                                                                                                                                                                                                                                                                                                                                                                                                                                                                                                                                                                                                                                                                                                                                                                                                                                                                                                                                                                                                                                                                                                                                                                                                                                                                                                                                                                                                                                                                                                                                                                                                                                                                                                                                                                                                                                                                                                                                                                                                                                                                                                                                                                                                                                                                                                                                                                                                                                                                                                                                                                                                                                                                                                                                                                                                                                                                                                                                                                                                                                                                                                                                                                                                                                                                                                                                                                        article  \\\n",
       "0                                                                                                                                                                                                                                                                                                                                                                                                                                                                                                                                                                                                                                                                                                                                                                                                                                                                                                                                                                                                                                                                                                                                                                                                                                                                                                                                                                                                                                                                                                                                                                                                                                                                                                                                                                                                                 (CNN) -- Lukas Podolski scored his first goal since returning to Cologne but it was not enough as they crashed to a defeat 2-1 against Schalke which leaves them bottom of the German Bundesliga. Podolski celebrates his first goal since returning to Cologne, but it did not stop his side sliding to defeat. The hosts had already gone behind to a second-minute Jefferson Farfan strike when Podolski, who rejoined his boyhood club from Bayern Munich in the summer, levelled matters with six minutes played. But hopes Podolski's strike would inspire the home side fell flat a minute after half-time when Levan Kobiashvili scored a winner to move Schalke up to third in the table. Defeat for Cologne leaves them rock bottom with just one point from their opening five games. Schalke's early goal came courtesy of a corner to the far post where Gerald Asamoah was waiting to head the ball back across goal. Farfan was alert to the opportunity and sent his flying header into the back of the net for his second of the campaign. The mood inside the RheinEnergie Stadion improved significantly four minutes later when Podolski latched onto a through-ball before coolly stepping around Manuel Neuer to stroke home. The decisive moment in the game arrived just a minute after the interval when the dangerous Farfan attracted the home defence in the middle of the area before laying off a pass for Kobiashvili to thrash left-footed into the net. Meanwhile, in the day's other Bundesliga match, Werder Bremen had the better of the chances but were held to a 0-0 draw by Hannover.   \n",
       "1  Britain’s best hotels are getting a run for their money from pubs and restaurants in the 2015 edition of the Good Hotel Guide. Pubs and restaurants with rooms are vying with top-notch hotels as the best places to stay, with several establishments included in the latest guide. One of the top gongs in the book’s annual Cesar Awards – named after legendary Swiss hotelier Cesar Ritz – was awarded to The Talbot Inn, which serves as a watering hole for locals at Mells, Somerset, but has eight guest rooms for visitors. Scroll down for video . Cheers: The Talbot Inn at Mells, Somerset, won the title of Pub-With-Rooms of the Year . On the water: Located on the River Tummel, The Green Park at Pitlochry was the top hotel in Scotland . Stunning scenery: Moor of Rannoch Hotel at Rannoch Station, Perth and Kinross, was Newcomer of the Year . Surrounded by Somerset’s stunning countryside, The Talbot Inn won the title of Pub-With-Rooms of the Year. It is described as a traditional yet stylish coaching inn with all the comforts of a smart hotel plus a classic pub, grill room, 500-year-old sitting room and garden. There are more than 400 entries in the latest guide, which acts as a bible for the UK’s hotel industry. Its editors say the guide is independent and all the hotels and B&Bs are recommended by readers, with anonymous inspections done by the editorial team. 'A Georgian gem': Guests are greeted with tea and cake at Newforge House, the Irish Guest House of the Year . Family-friendly: Fowey Hall at Fowey, Cornwall, was named the best place to take the kids . The Pear Tree at Purton was rated the top country hotel thanks to its ‘dynamic mother-and-daughter duo’ Nine other Cesar Awards were handed out. ‘Unstuffy and impeccable’ Lords of the Manor at Upper Slaughter, Gloucestershire, won Country House Hotel of the Year, while The Pear Tree at Purton in Purton, Wiltshire, was the top country hotel thanks to its ‘dynamic mother-and-daughter duo’ and ‘superb cuisine’. For families, Fowey Hall at Fowey, Cornwall, was rated the top place to take the kids. It served as the inspiration for Toad’s stately home in The Wind in the Willows. With no signals for television, radio or wifi, Scotland's Moor of Rannoch Hotel at Rannoch Station was named Newcomer of the Year. Co-editors Adam Raphael and Desmond Balmer said in a statement: ‘Our choices reflect the changing face of hospitality. Pubs and restaurants with rooms are listed alongside simple B&Bs, as well as many full-service hotels.’ They said: ‘Hotels should be better than home. A good manager will have slept in every bedroom to ensure it’s up to scratch. ‘Breakfast is also a very good benchmark. It’s the guest’s last meal before check out, so good-quality coffee, freshly-squeezed orange juice and free-range eggs should be a given. 'Finally, the guest may not always be right, but they should always come first.’ Milebrook House, the Welsh Hotel of the Year, is a three-generation-run establishment with a 'well-varied' menu . Cosy: Yalbury Cottage at Lower Bockhampton, Dorset, is Britain's Small Hotel of the Year . For four-legged guests: 'Dogs are treated like people' at Overwater Hall, voted Dog-Friendly Hotel of the Year . Beautiful garden: The title of Country House Hotel of the Year was awarded to Lords of the Manor .   \n",
       "\n",
       "                                                                                                                                                                                                                                         highlights  \\\n",
       "0  Lukas Podolski scores his first goal since returning to Cologne in 2-1 defeat .\\nJefferson Farfan and Levan Kobiashvili scored the goals that gave Schalke win .\\nThe defeat leaves Cologne on bottom of the Bundesliga table after five games .   \n",
       "1                           Several pubs and restaurants made the cut in the guide's 2015 edition .\\nThe Talbot Inn at Mells, Somerset, won Pub-With-Rooms of the Year title .\\nCesar Awards also handed out for top newcomer, best country house .   \n",
       "\n",
       "                                         id  \\\n",
       "0  ac2e59e27564f0c77b03513cdea6616d8dd8361d   \n",
       "1  429cb16b5e21b210f012df5eedf5d0f7f53a0a24   \n",
       "\n",
       "                                                                                                                                                                                                                                                                                                                                                                                                                                                                                                                                                                                                                                                                                                                                                                                                                                                                                                                                                                                                                                                                                                                                                                                                                                                                                                                                                                                                                                                                                                                                                                                                                                                                                                                                                                                                                                                                                                                                                                                                                                                                                                                                                                                                                                                                                                                                                                                                                                                                                                                                                                                                                                                                                                                                                                                                                                                                                                                                                                                                                                                                                                                                                                                                                                                                                                                                                                                                                              internet-free_art  \\\n",
       "0                                                                                                                                                                                                                                                                                                                                                                                                                                                                                                                                                                                                                                                                                                                                                                                                                                                                                                                                                                                                                                                                                                                                                                                                                                                                                                                                                                                                                                                                                                                                                                                                                                                                                                                                                                                                                 (CNN) -- Lukas Podolski scored his first goal since returning to Cologne but it was not enough as they crashed to a defeat 2-1 against Schalke which leaves them bottom of the German Bundesliga. Podolski celebrates his first goal since returning to Cologne, but it did not stop his side sliding to defeat. The hosts had already gone behind to a second-minute Jefferson Farfan strike when Podolski, who rejoined his boyhood club from Bayern Munich in the summer, levelled matters with six minutes played. But hopes Podolski's strike would inspire the home side fell flat a minute after half-time when Levan Kobiashvili scored a winner to move Schalke up to third in the table. Defeat for Cologne leaves them rock bottom with just one point from their opening five games. Schalke's early goal came courtesy of a corner to the far post where Gerald Asamoah was waiting to head the ball back across goal. Farfan was alert to the opportunity and sent his flying header into the back of the net for his second of the campaign. The mood inside the RheinEnergie Stadion improved significantly four minutes later when Podolski latched onto a through-ball before coolly stepping around Manuel Neuer to stroke home. The decisive moment in the game arrived just a minute after the interval when the dangerous Farfan attracted the home defence in the middle of the area before laying off a pass for Kobiashvili to thrash left-footed into the net. Meanwhile, in the day's other Bundesliga match, Werder Bremen had the better of the chances but were held to a 0-0 draw by Hannover.   \n",
       "1  Britain’s best hotels are getting a run for their money from pubs and restaurants in the 2015 edition of the Good Hotel Guide. Pubs and restaurants with rooms are vying with top-notch hotels as the best places to stay, with several establishments included in the latest guide. One of the top gongs in the book’s annual Cesar Awards – named after legendary Swiss hotelier Cesar Ritz – was awarded to The Talbot Inn, which serves as a watering hole for locals at Mells, Somerset, but has eight guest rooms for visitors. Scroll down for video . Cheers: The Talbot Inn at Mells, Somerset, won the title of Pub-With-Rooms of the Year . On the water: Located on the River Tummel, The Green Park at Pitlochry was the top hotel in Scotland . Stunning scenery: Moor of Rannoch Hotel at Rannoch Station, Perth and Kinross, was Newcomer of the Year . Surrounded by Somerset’s stunning countryside, The Talbot Inn won the title of Pub-With-Rooms of the Year. It is described as a traditional yet stylish coaching inn with all the comforts of a smart hotel plus a classic pub, grill room, 500-year-old sitting room and garden. There are more than 400 entries in the latest guide, which acts as a bible for the UK’s hotel industry. Its editors say the guide is independent and all the hotels and B&Bs are recommended by readers, with anonymous inspections done by the editorial team. 'A Georgian gem': Guests are greeted with tea and cake at Newforge House, the Irish Guest House of the Year . Family-friendly: Fowey Hall at Fowey, Cornwall, was named the best place to take the kids . The Pear Tree at Purton was rated the top country hotel thanks to its ‘dynamic mother-and-daughter duo’ Nine other Cesar Awards were handed out. ‘Unstuffy and impeccable’ Lords of the Manor at Upper Slaughter, Gloucestershire, won Country House Hotel of the Year, while The Pear Tree at Purton in Purton, Wiltshire, was the top country hotel thanks to its ‘dynamic mother-and-daughter duo’ and ‘superb cuisine’. For families, Fowey Hall at Fowey, Cornwall, was rated the top place to take the kids. It served as the inspiration for Toad’s stately home in The Wind in the Willows. With no signals for television, radio or wifi, Scotland's Moor of Rannoch Hotel at Rannoch Station was named Newcomer of the Year. Co-editors Adam Raphael and Desmond Balmer said in a statement: ‘Our choices reflect the changing face of hospitality. Pubs and restaurants with rooms are listed alongside simple B&Bs, as well as many full-service hotels.’ They said: ‘Hotels should be better than home. A good manager will have slept in every bedroom to ensure it’s up to scratch. ‘Breakfast is also a very good benchmark. It’s the guest’s last meal before check out, so good-quality coffee, freshly-squeezed orange juice and free-range eggs should be a given. 'Finally, the guest may not always be right, but they should always come first.’ Milebrook House, the Welsh Hotel of the Year, is a three-generation-run establishment with a 'well-varied' menu . Cosy: Yalbury Cottage at Lower Bockhampton, Dorset, is Britain's Small Hotel of the Year . For four-legged guests: 'Dogs are treated like people' at Overwater Hall, voted Dog-Friendly Hotel of the Year . Beautiful garden: The title of Country House Hotel of the Year was awarded to Lords of the Manor .   \n",
       "\n",
       "                                                                                                                                                                                                                                 internet-free_high  \\\n",
       "0  Lukas Podolski scores his first goal since returning to Cologne in 2-1 defeat .\\nJefferson Farfan and Levan Kobiashvili scored the goals that gave Schalke win .\\nThe defeat leaves Cologne on bottom of the Bundesliga table after five games .   \n",
       "1                           Several pubs and restaurants made the cut in the guide's 2015 edition .\\nThe Talbot Inn at Mells, Somerset, won Pub-With-Rooms of the Year title .\\nCesar Awards also handed out for top newcomer, best country house .   \n",
       "\n",
       "                                                                                                                                                                                                                                                                                                                                                                                                                                                                                                                                                                                                                                                                                                                                                                                                                                                                                                                                                                                                                                                                                                                                                                                                                                                                                                                                                                                                                                                                                                                                                                                                                                                                                                                                                                                                                                                                                                                                                                                                                                                                                                                                                                                                                                                                                                                                                                                                                                                                                                                                                                                                                                                                                                                                                                                                                                                                                                                                                                                                                                                                                                                                                                                                                                                                                                                                                                                                                                boiler-free_art  \\\n",
       "0                                                                                                                                                                                                                                                                                                                                                                                                                                                                                                                                                                                                                                                                                                                                                                                                                                                                                                                                                                                                                                                                                                                                                                                                                                                                                                                                                                                                                                                                                                                                                                                                                                                                                                                                                                                                                          Lukas Podolski scored his first goal since returning to Cologne but it was not enough as they crashed to a defeat 2-1 against Schalke which leaves them bottom of the German Bundesliga. Podolski celebrates his first goal since returning to Cologne, but it did not stop his side sliding to defeat. The hosts had already gone behind to a second-minute Jefferson Farfan strike when Podolski, who rejoined his boyhood club from Bayern Munich in the summer, levelled matters with six minutes played. But hopes Podolski's strike would inspire the home side fell flat a minute after half-time when Levan Kobiashvili scored a winner to move Schalke up to third in the table. Defeat for Cologne leaves them rock bottom with just one point from their opening five games. Schalke's early goal came courtesy of a corner to the far post where Gerald Asamoah was waiting to head the ball back across goal. Farfan was alert to the opportunity and sent his flying header into the back of the net for his second of the campaign. The mood inside the RheinEnergie Stadion improved significantly four minutes later when Podolski latched onto a through-ball before coolly stepping around Manuel Neuer to stroke home. The decisive moment in the game arrived just a minute after the interval when the dangerous Farfan attracted the home defence in the middle of the area before laying off a pass for Kobiashvili to thrash left-footed into the net. Meanwhile, in the day's other Bundesliga match, Werder Bremen had the better of the chances but were held to a 0-0 draw by Hannover.   \n",
       "1  Britain’s best hotels are getting a run for their money from pubs and restaurants in the 2015 edition of the Good Hotel Guide. Pubs and restaurants with rooms are vying with top-notch hotels as the best places to stay, with several establishments included in the latest guide. One of the top gongs in the book’s annual Cesar Awards – named after legendary Swiss hotelier Cesar Ritz – was awarded to The Talbot Inn, which serves as a watering hole for locals at Mells, Somerset, but has eight guest rooms for visitors. Scroll down for video.  Cheers: The Talbot Inn at Mells, Somerset, won the title of Pub-With-Rooms of the Year.  On the water: Located on the River Tummel, The Green Park at Pitlochry was the top hotel in Scotland.  Stunning scenery: Moor of Rannoch Hotel at Rannoch Station, Perth and Kinross, was Newcomer of the Year.  Surrounded by Somerset’s stunning countryside, The Talbot Inn won the title of Pub-With-Rooms of the Year. It is described as a traditional yet stylish coaching inn with all the comforts of a smart hotel plus a classic pub, grill room, 500-year-old sitting room and garden. There are more than 400 entries in the latest guide, which acts as a bible for the UK’s hotel industry. Its editors say the guide is independent and all the hotels and B&Bs are recommended by readers, with anonymous inspections done by the editorial team. 'A Georgian gem': Guests are greeted with tea and cake at Newforge House, the Irish Guest House of the Year.  Family-friendly: Fowey Hall at Fowey, Cornwall, was named the best place to take the kids.  The Pear Tree at Purton was rated the top country hotel thanks to its ‘dynamic mother-and-daughter duo’ Nine other Cesar Awards were handed out. ‘Unstuffy and impeccable’ Lords of the Manor at Upper Slaughter, Gloucestershire, won Country House Hotel of the Year, while The Pear Tree at Purton in Purton, Wiltshire, was the top country hotel thanks to its ‘dynamic mother-and-daughter duo’ and ‘superb cuisine’. For families, Fowey Hall at Fowey, Cornwall, was rated the top place to take the kids. It served as the inspiration for Toad’s stately home in The Wind in the Willows. With no signals for television, radio or wifi, Scotland's Moor of Rannoch Hotel at Rannoch Station was named Newcomer of the Year. Co-editors Adam Raphael and Desmond Balmer said in a statement: ‘Our choices reflect the changing face of hospitality. Pubs and restaurants with rooms are listed alongside simple B&Bs, as well as many full-service hotels.’ They said: ‘Hotels should be better than home. A good manager will have slept in every bedroom to ensure it’s up to scratch. ‘Breakfast is also a very good benchmark. It’s the guest’s last meal before check out, so good-quality coffee, freshly-squeezed orange juice and free-range eggs should be a given. 'Finally, the guest may not always be right, but they should always come first.’ Milebrook House, the Welsh Hotel of the Year, is a three-generation-run establishment with a 'well-varied' menu.  Cosy: Yalbury Cottage at Lower Bockhampton, Dorset, is Britain's Small Hotel of the Year.  For four-legged guests: 'Dogs are treated like people' at Overwater Hall, voted Dog-Friendly Hotel of the Year.  Beautiful garden: The title of Country House Hotel of the Year was awarded to Lords of the Manor.    \n",
       "\n",
       "                                                                                                                                                                                                                                   boiler-free_high  \n",
       "0  Lukas Podolski scores his first goal since returning to Cologne in 2-1 defeat. \\nJefferson Farfan and Levan Kobiashvili scored the goals that gave Schalke win. \\nThe defeat leaves Cologne on bottom of the Bundesliga table after five games.   \n",
       "1                           Several pubs and restaurants made the cut in the guide's 2015 edition. \\nThe Talbot Inn at Mells, Somerset, won Pub-With-Rooms of the Year title. \\nCesar Awards also handed out for top newcomer, best country house.   "
      ]
     },
     "execution_count": 33,
     "metadata": {},
     "output_type": "execute_result"
    }
   ],
   "source": [
    "# Check columns + results. All ok.\n",
    "for name, df in datasets.items(): print(f\"Columns in {name} dataset:\", df.columns)\n",
    "datasets['train'].head(2)\n",
    "#datasets['validation'].head(2)\n",
    "#datasets['test'].head(2)"
   ]
  },
  {
   "cell_type": "code",
   "execution_count": null,
   "metadata": {
    "colab": {
     "base_uri": "https://localhost:8080/"
    },
    "executionInfo": {
     "elapsed": 262,
     "status": "ok",
     "timestamp": 1704040239652,
     "user": {
      "displayName": "Αναστασία Καρακίτσου",
      "userId": "05978320568736761068"
     },
     "user_tz": -120
    },
    "id": "CwWzscdDkOXz",
    "outputId": "8614a278-ddd0-45f4-953c-cb7cf9352f8b"
   },
   "outputs": [],
   "source": [
    "# check how many columns created so far. All ok.\n",
    "for name, df in datasets.items():\n",
    "    print(f\"THe number of columns in the {name} dataset is\", len(df.columns), \"and these are: \", df.columns)"
   ]
  },
  {
   "cell_type": "code",
   "execution_count": null,
   "metadata": {},
   "outputs": [],
   "source": [
    "for name, df in datasets.items():\n",
    "    empty_list_count = df['clean_sents_art'].apply(lambda x: x == []).sum()\n",
    "    \n",
    "    print(f\"{name} DataFrame, 'clean_sents_art' column: {empty_list_count} empty lists\") # NO empty lists, bc we have removed them."
   ]
  },
  {
   "cell_type": "code",
   "execution_count": 31,
   "metadata": {},
   "outputs": [
    {
     "name": "stdout",
     "output_type": "stream",
     "text": [
      "<class 'pandas.core.frame.DataFrame'>\n",
      "RangeIndex: 28711 entries, 0 to 28710\n",
      "Data columns (total 8 columns):\n",
      " #   Column              Non-Null Count  Dtype \n",
      "---  ------              --------------  ----- \n",
      " 0   Unnamed: 0          28711 non-null  int64 \n",
      " 1   article             28711 non-null  object\n",
      " 2   highlights          28711 non-null  object\n",
      " 3   id                  28711 non-null  object\n",
      " 4   internet-free_art   28711 non-null  object\n",
      " 5   internet-free_high  28711 non-null  object\n",
      " 6   boiler-free_art     28711 non-null  object\n",
      " 7   boiler-free_high    28711 non-null  object\n",
      "dtypes: int64(1), object(7)\n",
      "memory usage: 1.8+ MB\n",
      "<class 'pandas.core.frame.DataFrame'>\n",
      "RangeIndex: 1337 entries, 0 to 1336\n",
      "Data columns (total 8 columns):\n",
      " #   Column              Non-Null Count  Dtype \n",
      "---  ------              --------------  ----- \n",
      " 0   Unnamed: 0          1337 non-null   int64 \n",
      " 1   article             1337 non-null   object\n",
      " 2   highlights          1337 non-null   object\n",
      " 3   id                  1337 non-null   object\n",
      " 4   internet-free_art   1337 non-null   object\n",
      " 5   internet-free_high  1337 non-null   object\n",
      " 6   boiler-free_art     1337 non-null   object\n",
      " 7   boiler-free_high    1337 non-null   object\n",
      "dtypes: int64(1), object(7)\n",
      "memory usage: 83.7+ KB\n",
      "<class 'pandas.core.frame.DataFrame'>\n",
      "RangeIndex: 11490 entries, 0 to 11489\n",
      "Data columns (total 8 columns):\n",
      " #   Column              Non-Null Count  Dtype \n",
      "---  ------              --------------  ----- \n",
      " 0   Unnamed: 0          11490 non-null  int64 \n",
      " 1   article             11490 non-null  object\n",
      " 2   highlights          11490 non-null  object\n",
      " 3   id                  11490 non-null  object\n",
      " 4   internet-free_art   11490 non-null  object\n",
      " 5   internet-free_high  11490 non-null  object\n",
      " 6   boiler-free_art     11490 non-null  object\n",
      " 7   boiler-free_high    11490 non-null  object\n",
      "dtypes: int64(1), object(7)\n",
      "memory usage: 718.3+ KB\n"
     ]
    }
   ],
   "source": [
    "for name, df in datasets.items(): df.info()"
   ]
  },
  {
   "cell_type": "code",
   "execution_count": 32,
   "metadata": {
    "id": "RVv2CxQI4eS6"
   },
   "outputs": [],
   "source": [
    "for name, df in datasets.items(): df.to_csv(f\"C:/Users/ankar/Desktop/summarization-models/final_processed-cleaned_{name}.csv\", index=False)"
   ]
  },
  {
   "cell_type": "code",
   "execution_count": null,
   "metadata": {},
   "outputs": [],
   "source": []
  }
 ],
 "metadata": {
  "colab": {
   "authorship_tag": "ABX9TyPYBtlv36XK3alJ6GKRe187",
   "gpuType": "T4",
   "mount_file_id": "1BPoQLsXE-lDps9WVmNFxtNuebh9VvWv-",
   "provenance": []
  },
  "kernelspec": {
   "display_name": "Python 3 (ipykernel)",
   "language": "python",
   "name": "python3"
  },
  "language_info": {
   "codemirror_mode": {
    "name": "ipython",
    "version": 3
   },
   "file_extension": ".py",
   "mimetype": "text/x-python",
   "name": "python",
   "nbconvert_exporter": "python",
   "pygments_lexer": "ipython3",
   "version": "3.11.5"
  }
 },
 "nbformat": 4,
 "nbformat_minor": 1
}
