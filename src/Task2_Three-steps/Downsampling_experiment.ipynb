{
 "cells": [
  {
   "cell_type": "code",
   "execution_count": 27,
   "id": "69dac906-8a31-482e-aaf5-ed7974f4c2c5",
   "metadata": {},
   "outputs": [
    {
     "name": "stdout",
     "output_type": "stream",
     "text": [
      "Requirement already satisfied: scikit-learn in c:\\users\\kleop\\anaconda3\\envs\\pyrouge\\lib\\site-packages (1.3.2)\n",
      "Collecting matplotlib\n",
      "  Downloading matplotlib-3.8.2-cp39-cp39-win_amd64.whl.metadata (5.9 kB)\n",
      "Requirement already satisfied: numpy<2.0,>=1.17.3 in c:\\users\\kleop\\anaconda3\\envs\\pyrouge\\lib\\site-packages (from scikit-learn) (1.26.2)\n",
      "Requirement already satisfied: scipy>=1.5.0 in c:\\users\\kleop\\anaconda3\\envs\\pyrouge\\lib\\site-packages (from scikit-learn) (1.11.4)\n",
      "Requirement already satisfied: joblib>=1.1.1 in c:\\users\\kleop\\anaconda3\\envs\\pyrouge\\lib\\site-packages (from scikit-learn) (1.3.2)\n",
      "Requirement already satisfied: threadpoolctl>=2.0.0 in c:\\users\\kleop\\anaconda3\\envs\\pyrouge\\lib\\site-packages (from scikit-learn) (3.2.0)\n",
      "Collecting contourpy>=1.0.1 (from matplotlib)\n",
      "  Downloading contourpy-1.2.0-cp39-cp39-win_amd64.whl.metadata (5.8 kB)\n",
      "Collecting cycler>=0.10 (from matplotlib)\n",
      "  Using cached cycler-0.12.1-py3-none-any.whl.metadata (3.8 kB)\n",
      "Collecting fonttools>=4.22.0 (from matplotlib)\n",
      "  Downloading fonttools-4.47.2-cp39-cp39-win_amd64.whl.metadata (160 kB)\n",
      "     ---------------------------------------- 0.0/160.8 kB ? eta -:--:--\n",
      "     ---------------------------------------- 0.0/160.8 kB ? eta -:--:--\n",
      "     ------- ----------------------------- 30.7/160.8 kB 435.7 kB/s eta 0:00:01\n",
      "     -------------------------- ----------- 112.6/160.8 kB 1.1 MB/s eta 0:00:01\n",
      "     -------------------------------------- 160.8/160.8 kB 1.4 MB/s eta 0:00:00\n",
      "Collecting kiwisolver>=1.3.1 (from matplotlib)\n",
      "  Downloading kiwisolver-1.4.5-cp39-cp39-win_amd64.whl.metadata (6.5 kB)\n",
      "Requirement already satisfied: packaging>=20.0 in c:\\users\\kleop\\anaconda3\\envs\\pyrouge\\lib\\site-packages (from matplotlib) (23.1)\n",
      "Collecting pillow>=8 (from matplotlib)\n",
      "  Downloading pillow-10.2.0-cp39-cp39-win_amd64.whl.metadata (9.9 kB)\n",
      "Collecting pyparsing>=2.3.1 (from matplotlib)\n",
      "  Using cached pyparsing-3.1.1-py3-none-any.whl.metadata (5.1 kB)\n",
      "Requirement already satisfied: python-dateutil>=2.7 in c:\\users\\kleop\\anaconda3\\envs\\pyrouge\\lib\\site-packages (from matplotlib) (2.8.2)\n",
      "Collecting importlib-resources>=3.2.0 (from matplotlib)\n",
      "  Downloading importlib_resources-6.1.1-py3-none-any.whl.metadata (4.1 kB)\n",
      "Requirement already satisfied: zipp>=3.1.0 in c:\\users\\kleop\\anaconda3\\envs\\pyrouge\\lib\\site-packages (from importlib-resources>=3.2.0->matplotlib) (3.11.0)\n",
      "Requirement already satisfied: six>=1.5 in c:\\users\\kleop\\anaconda3\\envs\\pyrouge\\lib\\site-packages (from python-dateutil>=2.7->matplotlib) (1.16.0)\n",
      "Downloading matplotlib-3.8.2-cp39-cp39-win_amd64.whl (7.6 MB)\n",
      "   ---------------------------------------- 0.0/7.6 MB ? eta -:--:--\n",
      "   - -------------------------------------- 0.2/7.6 MB 6.9 MB/s eta 0:00:02\n",
      "   -- ------------------------------------- 0.5/7.6 MB 5.8 MB/s eta 0:00:02\n",
      "   ---- ----------------------------------- 0.8/7.6 MB 6.1 MB/s eta 0:00:02\n",
      "   ----- ---------------------------------- 1.1/7.6 MB 6.2 MB/s eta 0:00:02\n",
      "   ------- -------------------------------- 1.3/7.6 MB 6.1 MB/s eta 0:00:02\n",
      "   -------- ------------------------------- 1.6/7.6 MB 6.1 MB/s eta 0:00:01\n",
      "   ---------- ----------------------------- 1.9/7.6 MB 6.1 MB/s eta 0:00:01\n",
      "   ---------- ----------------------------- 2.0/7.6 MB 5.9 MB/s eta 0:00:01\n",
      "   ------------ --------------------------- 2.4/7.6 MB 5.9 MB/s eta 0:00:01\n",
      "   -------------- ------------------------- 2.8/7.6 MB 6.1 MB/s eta 0:00:01\n",
      "   --------------- ------------------------ 3.0/7.6 MB 6.0 MB/s eta 0:00:01\n",
      "   ----------------- ---------------------- 3.3/7.6 MB 6.0 MB/s eta 0:00:01\n",
      "   ------------------ --------------------- 3.6/7.6 MB 6.0 MB/s eta 0:00:01\n",
      "   -------------------- ------------------- 3.9/7.6 MB 6.0 MB/s eta 0:00:01\n",
      "   --------------------- ------------------ 4.1/7.6 MB 6.1 MB/s eta 0:00:01\n",
      "   ----------------------- ---------------- 4.4/7.6 MB 6.0 MB/s eta 0:00:01\n",
      "   ------------------------ --------------- 4.7/7.6 MB 6.0 MB/s eta 0:00:01\n",
      "   -------------------------- ------------- 5.0/7.6 MB 6.0 MB/s eta 0:00:01\n",
      "   --------------------------- ------------ 5.3/7.6 MB 6.0 MB/s eta 0:00:01\n",
      "   ----------------------------- ---------- 5.6/7.6 MB 6.0 MB/s eta 0:00:01\n",
      "   ------------------------------ --------- 5.8/7.6 MB 6.1 MB/s eta 0:00:01\n",
      "   ------------------------------- -------- 6.1/7.6 MB 6.1 MB/s eta 0:00:01\n",
      "   --------------------------------- ------ 6.4/7.6 MB 6.1 MB/s eta 0:00:01\n",
      "   ---------------------------------- ----- 6.5/7.6 MB 5.9 MB/s eta 0:00:01\n",
      "   ------------------------------------ --- 6.9/7.6 MB 6.1 MB/s eta 0:00:01\n",
      "   ------------------------------------- -- 7.2/7.6 MB 6.1 MB/s eta 0:00:01\n",
      "   ---------------------------------------  7.5/7.6 MB 6.1 MB/s eta 0:00:01\n",
      "   ---------------------------------------  7.6/7.6 MB 6.1 MB/s eta 0:00:01\n",
      "   ---------------------------------------  7.6/7.6 MB 6.1 MB/s eta 0:00:01\n",
      "   ---------------------------------------  7.6/7.6 MB 6.1 MB/s eta 0:00:01\n",
      "   ---------------------------------------- 7.6/7.6 MB 5.4 MB/s eta 0:00:00\n",
      "Downloading contourpy-1.2.0-cp39-cp39-win_amd64.whl (181 kB)\n",
      "   ---------------------------------------- 0.0/181.9 kB ? eta -:--:--\n",
      "   ---------------------------------------- 181.9/181.9 kB 5.4 MB/s eta 0:00:00\n",
      "Using cached cycler-0.12.1-py3-none-any.whl (8.3 kB)\n",
      "Downloading fonttools-4.47.2-cp39-cp39-win_amd64.whl (2.2 MB)\n",
      "   ---------------------------------------- 0.0/2.2 MB ? eta -:--:--\n",
      "   ---- ----------------------------------- 0.3/2.2 MB 7.9 MB/s eta 0:00:01\n",
      "   --------- ------------------------------ 0.5/2.2 MB 6.7 MB/s eta 0:00:01\n",
      "   -------------- ------------------------- 0.8/2.2 MB 6.4 MB/s eta 0:00:01\n",
      "   -------------------- ------------------- 1.1/2.2 MB 6.3 MB/s eta 0:00:01\n",
      "   ------------------------- -------------- 1.4/2.2 MB 6.2 MB/s eta 0:00:01\n",
      "   --------------------------- ------------ 1.5/2.2 MB 5.7 MB/s eta 0:00:01\n",
      "   --------------------------------- ------ 1.8/2.2 MB 5.8 MB/s eta 0:00:01\n",
      "   ---------------------------------------  2.2/2.2 MB 6.3 MB/s eta 0:00:01\n",
      "   ---------------------------------------- 2.2/2.2 MB 5.5 MB/s eta 0:00:00\n",
      "Downloading importlib_resources-6.1.1-py3-none-any.whl (33 kB)\n",
      "Downloading kiwisolver-1.4.5-cp39-cp39-win_amd64.whl (56 kB)\n",
      "   ---------------------------------------- 0.0/56.2 kB ? eta -:--:--\n",
      "   ---------------------------------------- 56.2/56.2 kB 1.5 MB/s eta 0:00:00\n",
      "Downloading pillow-10.2.0-cp39-cp39-win_amd64.whl (2.6 MB)\n",
      "   ---------------------------------------- 0.0/2.6 MB ? eta -:--:--\n",
      "   --- ------------------------------------ 0.2/2.6 MB 6.9 MB/s eta 0:00:01\n",
      "   -------- ------------------------------- 0.6/2.6 MB 7.2 MB/s eta 0:00:01\n",
      "   ------------- -------------------------- 0.9/2.6 MB 6.8 MB/s eta 0:00:01\n",
      "   ----------------- ---------------------- 1.1/2.6 MB 6.6 MB/s eta 0:00:01\n",
      "   --------------------- ------------------ 1.4/2.6 MB 6.3 MB/s eta 0:00:01\n",
      "   -------------------------- ------------- 1.7/2.6 MB 6.4 MB/s eta 0:00:01\n",
      "   ------------------------------ --------- 2.0/2.6 MB 6.3 MB/s eta 0:00:01\n",
      "   ---------------------------------- ----- 2.3/2.6 MB 6.3 MB/s eta 0:00:01\n",
      "   -------------------------------------- - 2.5/2.6 MB 6.2 MB/s eta 0:00:01\n",
      "   ---------------------------------------  2.6/2.6 MB 6.0 MB/s eta 0:00:01\n",
      "   ---------------------------------------- 2.6/2.6 MB 5.4 MB/s eta 0:00:00\n",
      "Using cached pyparsing-3.1.1-py3-none-any.whl (103 kB)\n",
      "Installing collected packages: pyparsing, pillow, kiwisolver, importlib-resources, fonttools, cycler, contourpy, matplotlib\n",
      "Successfully installed contourpy-1.2.0 cycler-0.12.1 fonttools-4.47.2 importlib-resources-6.1.1 kiwisolver-1.4.5 matplotlib-3.8.2 pillow-10.2.0 pyparsing-3.1.1\n"
     ]
    }
   ],
   "source": [
    "!pip install scikit-learn matplotlib"
   ]
  },
  {
   "cell_type": "code",
   "execution_count": 29,
   "id": "edd0521d-b22c-426e-8304-94c577086b16",
   "metadata": {},
   "outputs": [],
   "source": [
    "import pandas as pd\n",
    "import numpy as np\n",
    "import matplotlib.pyplot as plt\n",
    "from sklearn.metrics import classification_report, roc_auc_score, confusion_matrix, roc_curve"
   ]
  },
  {
   "cell_type": "code",
   "execution_count": 5,
   "id": "25f94ad9-b031-401c-913f-f528bd674822",
   "metadata": {},
   "outputs": [],
   "source": [
    "df_train=pd.read_csv('train_machinelearning_features.csv')\n",
    "df_val=pd.read_csv('validation_machinelearning_features.csv')"
   ]
  },
  {
   "cell_type": "code",
   "execution_count": 6,
   "id": "025ec94e-1e56-42a4-8540-3d66a30e7eb0",
   "metadata": {},
   "outputs": [
    {
     "name": "stdout",
     "output_type": "stream",
     "text": [
      "binary_labels\n",
      "0    100783\n",
      "1     11484\n",
      "Name: count, dtype: int64\n"
     ]
    }
   ],
   "source": [
    "# Assuming 'binary_labels' is the column containing binary labels\n",
    "class_distribution = df_train['binary_labels'].value_counts()\n",
    "\n",
    "print(class_distribution)"
   ]
  },
  {
   "cell_type": "code",
   "execution_count": 7,
   "id": "f032f61c-dec9-4905-b5a7-e7b3431f4215",
   "metadata": {},
   "outputs": [
    {
     "name": "stdout",
     "output_type": "stream",
     "text": [
      "Train Data - Class Distribution:\n",
      "binary_labels\n",
      "1    11484\n",
      "0    11484\n",
      "Name: count, dtype: int64\n",
      "\n",
      "Validation Data - Class Distribution:\n",
      "binary_labels\n",
      "1    536\n",
      "0    536\n",
      "Name: count, dtype: int64\n"
     ]
    }
   ],
   "source": [
    "from sklearn.utils import resample\n",
    "\n",
    "# Function to perform downsampling\n",
    "def downsample(df):\n",
    "    minority_class = 1\n",
    "    majority_class = 0\n",
    "\n",
    "    # Separate the majority and minority classes\n",
    "    minority_data = df[df['binary_labels'] == minority_class]\n",
    "    majority_data = df[df['binary_labels'] == majority_class]\n",
    "\n",
    "    # Downsample the majority class to match the minority class\n",
    "    downsampled_majority = resample(majority_data, replace=False, n_samples=len(minority_data), random_state=42)\n",
    "\n",
    "    # Combine the downsampled majority class with the minority class\n",
    "    downsampled_df = pd.concat([downsampled_majority, minority_data])\n",
    "\n",
    "    # Sort the DataFrame to maintain the original order\n",
    "    downsampled_df.sort_index(inplace=True)\n",
    "\n",
    "\n",
    "    return downsampled_df\n",
    "\n",
    "# Apply downsampling to train_df and val_df\n",
    "downsampled_train_df = downsample(df_train)\n",
    "downsampled_val_df = downsample(df_val)\n",
    "\n",
    "# Check the class distribution in the downsampled DataFrames\n",
    "class_distribution_train = downsampled_train_df['binary_labels'].value_counts()\n",
    "class_distribution_val = downsampled_val_df['binary_labels'].value_counts()\n",
    "\n",
    "print(\"Train Data - Class Distribution:\")\n",
    "print(class_distribution_train)\n",
    "\n",
    "print(\"\\nValidation Data - Class Distribution:\")\n",
    "print(class_distribution_val)\n"
   ]
  },
  {
   "cell_type": "code",
   "execution_count": 8,
   "id": "c797ab91-638e-4968-9f2c-da3bc819c2fe",
   "metadata": {},
   "outputs": [],
   "source": [
    "###############  Create y, y inputs for ML ########################"
   ]
  },
  {
   "cell_type": "code",
   "execution_count": 9,
   "id": "0b125b0d-40e7-4c97-a8de-51737152e3dd",
   "metadata": {},
   "outputs": [],
   "source": [
    "# Separate features (X) and labels (y) for training set\n",
    "X_train = downsampled_train_df.drop(columns=['binary_labels'])\n",
    "y_train = downsampled_train_df['binary_labels']\n",
    "\n",
    "# Separate features (X) and labels (y) for validation set\n",
    "X_val = df_val.drop(columns=['binary_labels'])\n",
    "y_val = df_val['binary_labels']\n",
    "\n",
    "# Save X and y into separate CSV files for training set\n",
    "X_train.to_csv('X_down_train.csv', index=False)\n",
    "y_train.to_csv('y_down_train.csv', index=False, header=['binary_labels'])  # Saving only the 'binary_labels' column\n",
    "\n",
    "# Save X and y into separate CSV files for validation set\n",
    "X_val.to_csv('X_down_val.csv', index=False)\n",
    "y_val.to_csv('y_down_val.csv', index=False, header=['binary_labels'])  # Saving only the 'binary_labels' column\n"
   ]
  },
  {
   "cell_type": "code",
   "execution_count": 53,
   "id": "fd447ab1-2dc7-4cfb-b471-f74252d1b3d1",
   "metadata": {},
   "outputs": [],
   "source": [
    "# Separate features (X) and labels (y) for validation set\n",
    "X_val = df_val.drop(columns=['binary_labels'])\n",
    "y_val = df_val['binary_labels']\n",
    "# Save X and y into separate CSV files for validation set\n",
    "X_val.to_csv('X_val.csv', index=False)\n",
    "y_val.to_csv('y_val.csv', index=False, header=['binary_labels'])  # Saving only the 'binary_labels' column"
   ]
  },
  {
   "cell_type": "code",
   "execution_count": 10,
   "id": "ea910275-a40e-4c17-8d8f-b3db6e7dc558",
   "metadata": {},
   "outputs": [],
   "source": [
    "test=pd.read_csv('test_machinelearning_features.csv')"
   ]
  },
  {
   "cell_type": "code",
   "execution_count": 12,
   "id": "7fd3883e-772d-41ca-9aa3-4e25953feaa8",
   "metadata": {},
   "outputs": [],
   "source": [
    "# Assuming 'binary_labels' is the column containing binary labels\n",
    "\n",
    "# Separate features (X) and labels (y) for test set\n",
    "X_test = test.drop(columns=['binary_labels'])\n",
    "y_test = test['binary_labels']\n",
    "\n",
    "# Save X and y into separate CSV files for test set\n",
    "X_test.to_csv('X_test.csv', index=False)\n",
    "y_test.to_csv('y_test.csv', index=False, header=['binary_labels'])  # Saving only the 'binary_labels' column\n"
   ]
  },
  {
   "cell_type": "code",
   "execution_count": null,
   "id": "9a575ecb-25a8-45fa-8fbf-bd80305d09ae",
   "metadata": {},
   "outputs": [],
   "source": [
    "################ ML ##################"
   ]
  },
  {
   "cell_type": "code",
   "execution_count": 54,
   "id": "def78753-4c1b-468d-a947-07dad02799ac",
   "metadata": {},
   "outputs": [],
   "source": [
    "X_train_df = pd.read_csv('X_down_train.csv')\n",
    "y_train_df = pd.read_csv('y_down_train.csv')\n",
    "X_val_df = pd.read_csv('X_val.csv')\n",
    "y_val_df = pd.read_csv('y_val.csv')\n",
    "X_test_df = pd.read_csv('X_test.csv')\n",
    "y_test_df = pd.read_csv('y_test.csv')"
   ]
  },
  {
   "cell_type": "code",
   "execution_count": 55,
   "id": "93a0dd2d-c923-448e-af1c-79ebb650344e",
   "metadata": {},
   "outputs": [
    {
     "name": "stdout",
     "output_type": "stream",
     "text": [
      "0        <class 'numpy.ndarray'>\n",
      "1        <class 'numpy.ndarray'>\n",
      "2        <class 'numpy.ndarray'>\n",
      "3        <class 'numpy.ndarray'>\n",
      "4        <class 'numpy.ndarray'>\n",
      "                  ...           \n",
      "22963    <class 'numpy.ndarray'>\n",
      "22964    <class 'numpy.ndarray'>\n",
      "22965    <class 'numpy.ndarray'>\n",
      "22966    <class 'numpy.ndarray'>\n",
      "22967    <class 'numpy.ndarray'>\n",
      "Name: mean_sent_embeddings_art, Length: 22968, dtype: object\n"
     ]
    }
   ],
   "source": [
    "# Convert into numpy for usability.\n",
    "\n",
    "for df in [X_train_df, X_val_df, X_test_df]:\n",
    "    df['mean_sent_embeddings_art'] = df['mean_sent_embeddings_art'].apply(lambda x: np.fromstring(x[1:-1], sep=' '))\n",
    "    \n",
    "print(X_train_df['mean_sent_embeddings_art'].apply(type))"
   ]
  },
  {
   "cell_type": "code",
   "execution_count": 56,
   "id": "1891594d-a8f6-44b5-9904-d899c037daa4",
   "metadata": {},
   "outputs": [],
   "source": [
    "X_train_embeddings = np.stack(X_train_df['mean_sent_embeddings_art'].values)\n",
    "X_val_embeddings = np.stack(X_val_df['mean_sent_embeddings_art'].values)\n",
    "X_test_embeddings = np.stack(X_test_df['mean_sent_embeddings_art'].values)"
   ]
  },
  {
   "cell_type": "code",
   "execution_count": 57,
   "id": "edb5bd62-06cf-47fb-9755-3c21bb5a650b",
   "metadata": {},
   "outputs": [],
   "source": [
    "scalar_columns = ['max_cosine_similarity', 'position_score', 'normalized_sentence_length']\n",
    "\n",
    "X_train_scalars = X_train_df[scalar_columns].to_numpy()\n",
    "X_val_scalars = X_val_df[scalar_columns].to_numpy()\n",
    "X_test_scalars = X_test_df[scalar_columns].to_numpy()\n",
    "\n",
    "X_train_np = np.concatenate([X_train_embeddings, X_train_scalars], axis=1)\n",
    "X_val_np = np.concatenate([X_val_embeddings, X_val_scalars], axis=1)\n",
    "X_test_np = np.concatenate([X_test_embeddings, X_test_scalars], axis=1)"
   ]
  },
  {
   "cell_type": "code",
   "execution_count": 58,
   "id": "a55209d4-3ff3-47c8-ae33-5258f7b2090f",
   "metadata": {},
   "outputs": [],
   "source": [
    "# Create new column for each sentence encoding the artcile it belongs to.\n",
    "X_test_df['article-sentence'] = X_test_df['id'] + ' - ' + X_test_df['sentence_index'].astype(str)\n"
   ]
  },
  {
   "cell_type": "code",
   "execution_count": 59,
   "id": "96dde031-ff14-48eb-a040-e402335e066e",
   "metadata": {},
   "outputs": [],
   "source": [
    "X_test_ids = X_test_df['article-sentence'].tolist() "
   ]
  },
  {
   "cell_type": "code",
   "execution_count": 60,
   "id": "3f5f53f8-cd48-4c53-8039-290dd11de9b3",
   "metadata": {},
   "outputs": [],
   "source": [
    "X_test_articles =  X_test_df['id'].tolist()"
   ]
  },
  {
   "cell_type": "code",
   "execution_count": 61,
   "id": "29c7e170-adba-4ff7-aa32-7568cc664730",
   "metadata": {},
   "outputs": [],
   "source": [
    "X_test_df =  X_test_df.drop(columns =['id', 'sentence_index', 'article-sentence'])"
   ]
  },
  {
   "cell_type": "code",
   "execution_count": 62,
   "id": "d96b3dd5-2770-4e80-9dec-db4f9101ac6d",
   "metadata": {},
   "outputs": [],
   "source": [
    "y_train_np = np.array(y_train_df).squeeze()\n",
    "y_val_np = np.array(y_val_df).squeeze()\n",
    "y_test_np = np.array(y_test_df).squeeze()"
   ]
  },
  {
   "cell_type": "code",
   "execution_count": 63,
   "id": "7d6d6a28-0539-4c7c-bfee-37ff009d3a09",
   "metadata": {},
   "outputs": [
    {
     "name": "stderr",
     "output_type": "stream",
     "text": [
      "C:\\Users\\kleop\\anaconda3\\envs\\pyrouge\\lib\\site-packages\\sklearn\\model_selection\\_validation.py:425: FitFailedWarning: \n",
      "6 fits failed out of a total of 18.\n",
      "The score on these train-test partitions for these parameters will be set to nan.\n",
      "If these failures are not expected, you can try to debug them by setting error_score='raise'.\n",
      "\n",
      "Below are more details about the failures:\n",
      "--------------------------------------------------------------------------------\n",
      "6 fits failed with the following error:\n",
      "Traceback (most recent call last):\n",
      "  File \"C:\\Users\\kleop\\anaconda3\\envs\\pyrouge\\lib\\site-packages\\sklearn\\model_selection\\_validation.py\", line 729, in _fit_and_score\n",
      "    estimator.fit(X_train, y_train, **fit_params)\n",
      "  File \"C:\\Users\\kleop\\anaconda3\\envs\\pyrouge\\lib\\site-packages\\sklearn\\base.py\", line 1152, in wrapper\n",
      "    return fit_method(estimator, *args, **kwargs)\n",
      "  File \"C:\\Users\\kleop\\anaconda3\\envs\\pyrouge\\lib\\site-packages\\sklearn\\linear_model\\_logistic.py\", line 1179, in fit\n",
      "    raise ValueError(\"l1_ratio must be specified when penalty is elasticnet.\")\n",
      "ValueError: l1_ratio must be specified when penalty is elasticnet.\n",
      "\n",
      "  warnings.warn(some_fits_failed_message, FitFailedWarning)\n",
      "C:\\Users\\kleop\\anaconda3\\envs\\pyrouge\\lib\\site-packages\\sklearn\\model_selection\\_search.py:979: UserWarning: One or more of the test scores are non-finite: [0.89437478 0.89071752        nan 0.89489725 0.89193661        nan]\n",
      "  warnings.warn(\n"
     ]
    },
    {
     "name": "stdout",
     "output_type": "stream",
     "text": [
      "Best hyperparameters during the grid search: {'C': 0.1, 'class_weight': None, 'max_iter': 500, 'penalty': 'l1', 'solver': 'saga'}\n"
     ]
    },
    {
     "data": {
      "text/html": [
       "<style>#sk-container-id-2 {color: black;}#sk-container-id-2 pre{padding: 0;}#sk-container-id-2 div.sk-toggleable {background-color: white;}#sk-container-id-2 label.sk-toggleable__label {cursor: pointer;display: block;width: 100%;margin-bottom: 0;padding: 0.3em;box-sizing: border-box;text-align: center;}#sk-container-id-2 label.sk-toggleable__label-arrow:before {content: \"▸\";float: left;margin-right: 0.25em;color: #696969;}#sk-container-id-2 label.sk-toggleable__label-arrow:hover:before {color: black;}#sk-container-id-2 div.sk-estimator:hover label.sk-toggleable__label-arrow:before {color: black;}#sk-container-id-2 div.sk-toggleable__content {max-height: 0;max-width: 0;overflow: hidden;text-align: left;background-color: #f0f8ff;}#sk-container-id-2 div.sk-toggleable__content pre {margin: 0.2em;color: black;border-radius: 0.25em;background-color: #f0f8ff;}#sk-container-id-2 input.sk-toggleable__control:checked~div.sk-toggleable__content {max-height: 200px;max-width: 100%;overflow: auto;}#sk-container-id-2 input.sk-toggleable__control:checked~label.sk-toggleable__label-arrow:before {content: \"▾\";}#sk-container-id-2 div.sk-estimator input.sk-toggleable__control:checked~label.sk-toggleable__label {background-color: #d4ebff;}#sk-container-id-2 div.sk-label input.sk-toggleable__control:checked~label.sk-toggleable__label {background-color: #d4ebff;}#sk-container-id-2 input.sk-hidden--visually {border: 0;clip: rect(1px 1px 1px 1px);clip: rect(1px, 1px, 1px, 1px);height: 1px;margin: -1px;overflow: hidden;padding: 0;position: absolute;width: 1px;}#sk-container-id-2 div.sk-estimator {font-family: monospace;background-color: #f0f8ff;border: 1px dotted black;border-radius: 0.25em;box-sizing: border-box;margin-bottom: 0.5em;}#sk-container-id-2 div.sk-estimator:hover {background-color: #d4ebff;}#sk-container-id-2 div.sk-parallel-item::after {content: \"\";width: 100%;border-bottom: 1px solid gray;flex-grow: 1;}#sk-container-id-2 div.sk-label:hover label.sk-toggleable__label {background-color: #d4ebff;}#sk-container-id-2 div.sk-serial::before {content: \"\";position: absolute;border-left: 1px solid gray;box-sizing: border-box;top: 0;bottom: 0;left: 50%;z-index: 0;}#sk-container-id-2 div.sk-serial {display: flex;flex-direction: column;align-items: center;background-color: white;padding-right: 0.2em;padding-left: 0.2em;position: relative;}#sk-container-id-2 div.sk-item {position: relative;z-index: 1;}#sk-container-id-2 div.sk-parallel {display: flex;align-items: stretch;justify-content: center;background-color: white;position: relative;}#sk-container-id-2 div.sk-item::before, #sk-container-id-2 div.sk-parallel-item::before {content: \"\";position: absolute;border-left: 1px solid gray;box-sizing: border-box;top: 0;bottom: 0;left: 50%;z-index: -1;}#sk-container-id-2 div.sk-parallel-item {display: flex;flex-direction: column;z-index: 1;position: relative;background-color: white;}#sk-container-id-2 div.sk-parallel-item:first-child::after {align-self: flex-end;width: 50%;}#sk-container-id-2 div.sk-parallel-item:last-child::after {align-self: flex-start;width: 50%;}#sk-container-id-2 div.sk-parallel-item:only-child::after {width: 0;}#sk-container-id-2 div.sk-dashed-wrapped {border: 1px dashed gray;margin: 0 0.4em 0.5em 0.4em;box-sizing: border-box;padding-bottom: 0.4em;background-color: white;}#sk-container-id-2 div.sk-label label {font-family: monospace;font-weight: bold;display: inline-block;line-height: 1.2em;}#sk-container-id-2 div.sk-label-container {text-align: center;}#sk-container-id-2 div.sk-container {/* jupyter's `normalize.less` sets `[hidden] { display: none; }` but bootstrap.min.css set `[hidden] { display: none !important; }` so we also need the `!important` here to be able to override the default hidden behavior on the sphinx rendered scikit-learn.org. See: https://github.com/scikit-learn/scikit-learn/issues/21755 */display: inline-block !important;position: relative;}#sk-container-id-2 div.sk-text-repr-fallback {display: none;}</style><div id=\"sk-container-id-2\" class=\"sk-top-container\"><div class=\"sk-text-repr-fallback\"><pre>LogisticRegression(C=0.1, max_iter=500, n_jobs=-1, penalty=&#x27;l1&#x27;, solver=&#x27;saga&#x27;)</pre><b>In a Jupyter environment, please rerun this cell to show the HTML representation or trust the notebook. <br />On GitHub, the HTML representation is unable to render, please try loading this page with nbviewer.org.</b></div><div class=\"sk-container\" hidden><div class=\"sk-item\"><div class=\"sk-estimator sk-toggleable\"><input class=\"sk-toggleable__control sk-hidden--visually\" id=\"sk-estimator-id-2\" type=\"checkbox\" checked><label for=\"sk-estimator-id-2\" class=\"sk-toggleable__label sk-toggleable__label-arrow\">LogisticRegression</label><div class=\"sk-toggleable__content\"><pre>LogisticRegression(C=0.1, max_iter=500, n_jobs=-1, penalty=&#x27;l1&#x27;, solver=&#x27;saga&#x27;)</pre></div></div></div></div></div>"
      ],
      "text/plain": [
       "LogisticRegression(C=0.1, max_iter=500, n_jobs=-1, penalty='l1', solver='saga')"
      ]
     },
     "execution_count": 63,
     "metadata": {},
     "output_type": "execute_result"
    }
   ],
   "source": [
    "from sklearn.linear_model import LogisticRegression\n",
    "from sklearn.preprocessing import StandardScaler\n",
    "from sklearn.model_selection import GridSearchCV\n",
    "\n",
    "# Assuming X_train_np, y_train_np, X_val_np, and y_val_np are your training and validation sets\n",
    "\n",
    "# Parameter grid for grid search\n",
    "param_grid = {\n",
    "    'class_weight': [None],\n",
    "    'C': [0.01, 0.1],  # Regularization parameter\n",
    "    'penalty': ['l1', 'l2', 'elasticnet'],  # Norm used in the penalization\n",
    "    'solver': ['saga'],  # Saga solver supports all penalties\n",
    "    'max_iter': [500]  # Maximum number of iterations\n",
    "}\n",
    "\n",
    "# Create a logistic regression classifier\n",
    "clf = LogisticRegression(max_iter=500, n_jobs=-1)\n",
    "\n",
    "# Standardize the features\n",
    "scaler = StandardScaler()\n",
    "X_train_scaled = scaler.fit_transform(X_train_np)\n",
    "X_val_scaled = scaler.transform(X_val_np)\n",
    "\n",
    "# Set up GridSearchCV\n",
    "grid_search = GridSearchCV(clf, param_grid, n_jobs=-1, cv=3)  # Add cross-validation (cv) for better results\n",
    "\n",
    "# Perform the grid search using the train set\n",
    "grid_search.fit(X_train_scaled, y_train_np)\n",
    "\n",
    "# Get the best model from the grid search\n",
    "best_clf = grid_search.best_estimator_\n",
    "\n",
    "# Evaluate the best model on the validation set\n",
    "y_val_pred = best_clf.predict(X_val_scaled)\n",
    "\n",
    "# The best hyperparameters and the corresponding score\n",
    "print(\"Best hyperparameters during the grid search:\", grid_search.best_params_)\n",
    "\n",
    "# Retrain the model with the best hyperparameters on the entire training set\n",
    "best_clf.fit(X_train_scaled, y_train_np)\n",
    "\n",
    "# Now, you can use the best_clf to make predictions on the test set or new data\n"
   ]
  },
  {
   "cell_type": "code",
   "execution_count": 64,
   "id": "013b4262-52df-4df6-8b55-abe5f7eb43c4",
   "metadata": {},
   "outputs": [
    {
     "name": "stdout",
     "output_type": "stream",
     "text": [
      "Classification Report:\n",
      "               precision    recall  f1-score   support\n",
      "\n",
      "           0       0.99      0.81      0.89      4108\n",
      "           1       0.39      0.93      0.55       536\n",
      "\n",
      "    accuracy                           0.83      4644\n",
      "   macro avg       0.69      0.87      0.72      4644\n",
      "weighted avg       0.92      0.83      0.85      4644\n",
      "\n",
      "\n",
      "ROC AUC Score: 0.8694538505137409\n",
      "\n",
      "Confusion Matrix:\n",
      " [[3342  766]\n",
      " [  40  496]]\n"
     ]
    },
    {
     "data": {
      "image/png": "[encoded data removed]",
      "text/plain": [
       "<Figure size 800x800 with 1 Axes>"
      ]
     },
     "metadata": {},
     "output_type": "display_data"
    },
    {
     "data": {
      "image/png": "[encoded data removed]",
      "text/plain": [
       "<Figure size 800x800 with 2 Axes>"
      ]
     },
     "metadata": {},
     "output_type": "display_data"
    }
   ],
   "source": [
    "\n",
    "# Classification Report\n",
    "classification_rep = classification_report(y_val_np, y_val_pred)\n",
    "print(\"Classification Report:\\n\", classification_rep)\n",
    "\n",
    "# ROC AUC Score\n",
    "roc_auc = roc_auc_score(y_val_np, y_val_pred)\n",
    "print(\"\\nROC AUC Score:\", roc_auc)\n",
    "\n",
    "# Confusion Matrix\n",
    "conf_matrix = confusion_matrix(y_val_np, y_val_pred)\n",
    "print(\"\\nConfusion Matrix:\\n\", conf_matrix)\n",
    "\n",
    "# Plot ROC Curve\n",
    "fpr, tpr, thresholds = roc_curve(y_val_np, y_val_pred)\n",
    "fig, ax = plt.subplots(figsize=(8, 8))\n",
    "plt.plot(fpr, tpr, label=f'ROC Curve (AUC = {roc_auc:.2f})')\n",
    "plt.plot([0, 1], [0, 1], linestyle='--', color='gray', label='Random')\n",
    "plt.title('ROC Curve')\n",
    "plt.xlabel('False Positive Rate')\n",
    "plt.ylabel('True Positive Rate')\n",
    "plt.legend()\n",
    "plt.show()\n",
    "\n",
    "# Plot Confusion Matrix\n",
    "fig, ax = plt.subplots(figsize=(8, 8))\n",
    "plt.imshow(conf_matrix, interpolation='nearest', cmap=plt.cm.Blues)\n",
    "plt.title('Confusion Matrix')\n",
    "plt.colorbar()\n",
    "plt.xticks([0, 1], ['Predicted 0', 'Predicted 1'], rotation=45)\n",
    "plt.yticks([0, 1], ['Actual 0', 'Actual 1'])\n",
    "plt.xlabel('True label')\n",
    "plt.ylabel('Predicted label')\n",
    "for i in range(2):\n",
    "    for j in range(2):\n",
    "        plt.text(j, i, str(conf_matrix[i, j]), ha='center', va='center', color='white')\n",
    "plt.show()\n"
   ]
  },
  {
   "cell_type": "code",
   "execution_count": null,
   "id": "6d575eed-6c4f-4317-b8c2-df584171f038",
   "metadata": {},
   "outputs": [],
   "source": [
    "##Test set inference"
   ]
  },
  {
   "cell_type": "code",
   "execution_count": 32,
   "id": "652c4ca8-585e-4b4b-87ba-c5fb64b6c56f",
   "metadata": {},
   "outputs": [],
   "source": [
    "# Standardize the features for the test set\n",
    "X_test_scaled = scaler.transform(X_test_np) \n",
    "\n",
    "# Make predictions on the test set\n",
    "y_test_pred = best_clf.predict(X_test_scaled)"
   ]
  },
  {
   "cell_type": "code",
   "execution_count": 33,
   "id": "f40ae2f5-a834-41d3-8d61-5c7d06e82918",
   "metadata": {},
   "outputs": [
    {
     "name": "stdout",
     "output_type": "stream",
     "text": [
      "Test Set - Classification Report:\n",
      "               precision    recall  f1-score   support\n",
      "\n",
      "           0       0.99      0.85      0.91      3538\n",
      "           1       0.45      0.94      0.61       459\n",
      "\n",
      "    accuracy                           0.86      3997\n",
      "   macro avg       0.72      0.90      0.76      3997\n",
      "weighted avg       0.93      0.86      0.88      3997\n",
      "\n",
      "\n",
      "Test Set - ROC AUC Score: 0.8952631928972833\n",
      "\n",
      "Test Set - Confusion Matrix:\n",
      " [[3005  533]\n",
      " [  27  432]]\n"
     ]
    }
   ],
   "source": [
    "# Classification Report\n",
    "classification_rep_test = classification_report(y_test_np, y_test_pred)\n",
    "print(\"Test Set - Classification Report:\\n\", classification_rep_test)\n",
    "\n",
    "# ROC AUC Score\n",
    "roc_auc_test = roc_auc_score(y_test_np, y_test_pred)\n",
    "print(\"\\nTest Set - ROC AUC Score:\", roc_auc_test)\n",
    "\n",
    "# Confusion Matrix\n",
    "conf_matrix_test = confusion_matrix(y_test_np, y_test_pred)\n",
    "print(\"\\nTest Set - Confusion Matrix:\\n\", conf_matrix_test)"
   ]
  },
  {
   "cell_type": "code",
   "execution_count": 37,
   "id": "2e2583d7-9e03-4da7-a7c3-f6a6f14e2ec1",
   "metadata": {},
   "outputs": [],
   "source": [
    "y_pred = y_test_pred.tolist()"
   ]
  },
  {
   "cell_type": "code",
   "execution_count": 38,
   "id": "6ec79175-af7e-4e3b-8bb8-dc36ee886b2f",
   "metadata": {},
   "outputs": [
    {
     "data": {
      "text/html": [
       "<div>\n",
       "<style scoped>\n",
       "    .dataframe tbody tr th:only-of-type {\n",
       "        vertical-align: middle;\n",
       "    }\n",
       "\n",
       "    .dataframe tbody tr th {\n",
       "        vertical-align: top;\n",
       "    }\n",
       "\n",
       "    .dataframe thead th {\n",
       "        text-align: right;\n",
       "    }\n",
       "</style>\n",
       "<table border=\"1\" class=\"dataframe\">\n",
       "  <thead>\n",
       "    <tr style=\"text-align: right;\">\n",
       "      <th></th>\n",
       "      <th>article</th>\n",
       "      <th>score</th>\n",
       "    </tr>\n",
       "    <tr>\n",
       "      <th>index</th>\n",
       "      <th></th>\n",
       "      <th></th>\n",
       "    </tr>\n",
       "  </thead>\n",
       "  <tbody>\n",
       "    <tr>\n",
       "      <th>450f021f46f61a71603748dacc073269052466d3 - 0</th>\n",
       "      <td>450f021f46f61a71603748dacc073269052466d3</td>\n",
       "      <td>1</td>\n",
       "    </tr>\n",
       "    <tr>\n",
       "      <th>450f021f46f61a71603748dacc073269052466d3 - 1</th>\n",
       "      <td>450f021f46f61a71603748dacc073269052466d3</td>\n",
       "      <td>1</td>\n",
       "    </tr>\n",
       "    <tr>\n",
       "      <th>450f021f46f61a71603748dacc073269052466d3 - 2</th>\n",
       "      <td>450f021f46f61a71603748dacc073269052466d3</td>\n",
       "      <td>1</td>\n",
       "    </tr>\n",
       "    <tr>\n",
       "      <th>450f021f46f61a71603748dacc073269052466d3 - 3</th>\n",
       "      <td>450f021f46f61a71603748dacc073269052466d3</td>\n",
       "      <td>1</td>\n",
       "    </tr>\n",
       "    <tr>\n",
       "      <th>450f021f46f61a71603748dacc073269052466d3 - 4</th>\n",
       "      <td>450f021f46f61a71603748dacc073269052466d3</td>\n",
       "      <td>0</td>\n",
       "    </tr>\n",
       "  </tbody>\n",
       "</table>\n",
       "</div>"
      ],
      "text/plain": [
       "                                                                               article  \\\n",
       "index                                                                                    \n",
       "450f021f46f61a71603748dacc073269052466d3 - 0  450f021f46f61a71603748dacc073269052466d3   \n",
       "450f021f46f61a71603748dacc073269052466d3 - 1  450f021f46f61a71603748dacc073269052466d3   \n",
       "450f021f46f61a71603748dacc073269052466d3 - 2  450f021f46f61a71603748dacc073269052466d3   \n",
       "450f021f46f61a71603748dacc073269052466d3 - 3  450f021f46f61a71603748dacc073269052466d3   \n",
       "450f021f46f61a71603748dacc073269052466d3 - 4  450f021f46f61a71603748dacc073269052466d3   \n",
       "\n",
       "                                              score  \n",
       "index                                                \n",
       "450f021f46f61a71603748dacc073269052466d3 - 0      1  \n",
       "450f021f46f61a71603748dacc073269052466d3 - 1      1  \n",
       "450f021f46f61a71603748dacc073269052466d3 - 2      1  \n",
       "450f021f46f61a71603748dacc073269052466d3 - 3      1  \n",
       "450f021f46f61a71603748dacc073269052466d3 - 4      0  "
      ]
     },
     "execution_count": 38,
     "metadata": {},
     "output_type": "execute_result"
    }
   ],
   "source": [
    "final_df = pd.DataFrame(\n",
    "    {'article': X_test_articles,\n",
    "    'index': X_test_ids,\n",
    "     'score': y_pred\n",
    "    }).set_index('index', drop=True)\n",
    "\n",
    "final_df.head()"
   ]
  },
  {
   "cell_type": "code",
   "execution_count": 39,
   "id": "5a215561-0496-48e3-8896-408bccd97c08",
   "metadata": {},
   "outputs": [
    {
     "data": {
      "text/html": [
       "<div>\n",
       "<style scoped>\n",
       "    .dataframe tbody tr th:only-of-type {\n",
       "        vertical-align: middle;\n",
       "    }\n",
       "\n",
       "    .dataframe tbody tr th {\n",
       "        vertical-align: top;\n",
       "    }\n",
       "\n",
       "    .dataframe thead th {\n",
       "        text-align: right;\n",
       "    }\n",
       "</style>\n",
       "<table border=\"1\" class=\"dataframe\">\n",
       "  <thead>\n",
       "    <tr style=\"text-align: right;\">\n",
       "      <th></th>\n",
       "      <th>article</th>\n",
       "      <th>score</th>\n",
       "    </tr>\n",
       "    <tr>\n",
       "      <th>index</th>\n",
       "      <th></th>\n",
       "      <th></th>\n",
       "    </tr>\n",
       "  </thead>\n",
       "  <tbody>\n",
       "    <tr>\n",
       "      <th>00d9b61729e98d25a7f66e39153d749498530407 - 3</th>\n",
       "      <td>00d9b61729e98d25a7f66e39153d749498530407</td>\n",
       "      <td>1</td>\n",
       "    </tr>\n",
       "    <tr>\n",
       "      <th>00d9b61729e98d25a7f66e39153d749498530407 - 28</th>\n",
       "      <td>00d9b61729e98d25a7f66e39153d749498530407</td>\n",
       "      <td>1</td>\n",
       "    </tr>\n",
       "    <tr>\n",
       "      <th>00d9b61729e98d25a7f66e39153d749498530407 - 67</th>\n",
       "      <td>00d9b61729e98d25a7f66e39153d749498530407</td>\n",
       "      <td>1</td>\n",
       "    </tr>\n",
       "    <tr>\n",
       "      <th>07bd9b385482709912c01a77e5f7a8d86e4839c2 - 0</th>\n",
       "      <td>07bd9b385482709912c01a77e5f7a8d86e4839c2</td>\n",
       "      <td>1</td>\n",
       "    </tr>\n",
       "    <tr>\n",
       "      <th>07bd9b385482709912c01a77e5f7a8d86e4839c2 - 2</th>\n",
       "      <td>07bd9b385482709912c01a77e5f7a8d86e4839c2</td>\n",
       "      <td>1</td>\n",
       "    </tr>\n",
       "  </tbody>\n",
       "</table>\n",
       "</div>"
      ],
      "text/plain": [
       "                                                                                article  \\\n",
       "index                                                                                     \n",
       "00d9b61729e98d25a7f66e39153d749498530407 - 3   00d9b61729e98d25a7f66e39153d749498530407   \n",
       "00d9b61729e98d25a7f66e39153d749498530407 - 28  00d9b61729e98d25a7f66e39153d749498530407   \n",
       "00d9b61729e98d25a7f66e39153d749498530407 - 67  00d9b61729e98d25a7f66e39153d749498530407   \n",
       "07bd9b385482709912c01a77e5f7a8d86e4839c2 - 0   07bd9b385482709912c01a77e5f7a8d86e4839c2   \n",
       "07bd9b385482709912c01a77e5f7a8d86e4839c2 - 2   07bd9b385482709912c01a77e5f7a8d86e4839c2   \n",
       "\n",
       "                                               score  \n",
       "index                                                 \n",
       "00d9b61729e98d25a7f66e39153d749498530407 - 3       1  \n",
       "00d9b61729e98d25a7f66e39153d749498530407 - 28      1  \n",
       "00d9b61729e98d25a7f66e39153d749498530407 - 67      1  \n",
       "07bd9b385482709912c01a77e5f7a8d86e4839c2 - 0       1  \n",
       "07bd9b385482709912c01a77e5f7a8d86e4839c2 - 2       1  "
      ]
     },
     "execution_count": 39,
     "metadata": {},
     "output_type": "execute_result"
    }
   ],
   "source": [
    "output_df = final_df.sort_values(['article','score'], ascending=[1,0]).groupby('article').head(3)\n",
    "output_df.head()"
   ]
  },
  {
   "cell_type": "code",
   "execution_count": 40,
   "id": "a68a213f-dcf7-4b3a-8ad1-03abbf063a37",
   "metadata": {},
   "outputs": [
    {
     "name": "stdout",
     "output_type": "stream",
     "text": [
      "['00d9b61729e98d25a7f66e39153d749498530407 - 3', '00d9b61729e98d25a7f66e39153d749498530407 - 28', '00d9b61729e98d25a7f66e39153d749498530407 - 67', '07bd9b385482709912c01a77e5f7a8d86e4839c2 - 0', '07bd9b385482709912c01a77e5f7a8d86e4839c2 - 2', '07bd9b385482709912c01a77e5f7a8d86e4839c2 - 3', '07f3d8c1dca494ea281f2ec843ec730218db3023 - 2', '07f3d8c1dca494ea281f2ec843ec730218db3023 - 3', '07f3d8c1dca494ea281f2ec843ec730218db3023 - 4', '0e9fb033391cd0058b715c1fb67153805aa32d3a - 0', '0e9fb033391cd0058b715c1fb67153805aa32d3a - 1', '0e9fb033391cd0058b715c1fb67153805aa32d3a - 2', '1165c4e11a63658d0d9534acf15f2b883aa805be - 0', '1165c4e11a63658d0d9534acf15f2b883aa805be - 2', '1165c4e11a63658d0d9534acf15f2b883aa805be - 3', '128f4086ad6910af13a30db04380b6220f7836f3 - 0', '128f4086ad6910af13a30db04380b6220f7836f3 - 1', '128f4086ad6910af13a30db04380b6220f7836f3 - 2', '1424ca6c7412e862f43d3d6433f3560499bcf044 - 3', '1424ca6c7412e862f43d3d6433f3560499bcf044 - 6', '1424ca6c7412e862f43d3d6433f3560499bcf044 - 7', '14b4a869d0faf618c517550b2c0b03647fb3a467 - 1', '14b4a869d0faf618c517550b2c0b03647fb3a467 - 3', '14b4a869d0faf618c517550b2c0b03647fb3a467 - 5', '1f5c331bdfda2a3f07bcc39c731909adfcae7a4b - 1', '1f5c331bdfda2a3f07bcc39c731909adfcae7a4b - 10', '1f5c331bdfda2a3f07bcc39c731909adfcae7a4b - 15', '1fd27828a16f1a0616de6ffc340ac4a74f95ed81 - 0', '1fd27828a16f1a0616de6ffc340ac4a74f95ed81 - 1', '1fd27828a16f1a0616de6ffc340ac4a74f95ed81 - 2', '22d69595dc9c4b0a546593b70e1412919755d879 - 1', '22d69595dc9c4b0a546593b70e1412919755d879 - 4', '22d69595dc9c4b0a546593b70e1412919755d879 - 5', '2331e50ac2a034f952d29f4a4ce2ea0610c1c356 - 1', '2331e50ac2a034f952d29f4a4ce2ea0610c1c356 - 2', '2331e50ac2a034f952d29f4a4ce2ea0610c1c356 - 3', '244dfb138c4c3048f99fc131909bce6530db6122 - 0', '244dfb138c4c3048f99fc131909bce6530db6122 - 1', '244dfb138c4c3048f99fc131909bce6530db6122 - 2', '2805d03b2ec2d8a1e5343f71d70912db2a58736e - 0', '2805d03b2ec2d8a1e5343f71d70912db2a58736e - 1', '2805d03b2ec2d8a1e5343f71d70912db2a58736e - 2', '281d340a0b9ba6fa2f5526ecd59db7cdcc1de4cc - 0', '281d340a0b9ba6fa2f5526ecd59db7cdcc1de4cc - 1', '281d340a0b9ba6fa2f5526ecd59db7cdcc1de4cc - 2', '2a61758c9bcec4ee86e3d980a7b807d9a792d5ad - 1', '2a61758c9bcec4ee86e3d980a7b807d9a792d5ad - 3', '2a61758c9bcec4ee86e3d980a7b807d9a792d5ad - 4', '2a7b2df15b9909275f3edfe771268c002797a7eb - 1', '2a7b2df15b9909275f3edfe771268c002797a7eb - 2', '2a7b2df15b9909275f3edfe771268c002797a7eb - 10', '2aba7528877f62498189b22ae7ab0b5372afaa1f - 0', '2aba7528877f62498189b22ae7ab0b5372afaa1f - 1', '2aba7528877f62498189b22ae7ab0b5372afaa1f - 2', '2c6695b438980783754f7db28129ec2fbb3e6e21 - 0', '2c6695b438980783754f7db28129ec2fbb3e6e21 - 1', '2c6695b438980783754f7db28129ec2fbb3e6e21 - 3', '2c9b247bac3276a7cefb7fd193f67837b200b7b6 - 1', '2c9b247bac3276a7cefb7fd193f67837b200b7b6 - 2', '2c9b247bac3276a7cefb7fd193f67837b200b7b6 - 4', '2d75b7acb5132a5a991dd7b6bde4ab1a528301ed - 0', '2d75b7acb5132a5a991dd7b6bde4ab1a528301ed - 1', '2d75b7acb5132a5a991dd7b6bde4ab1a528301ed - 2', '390a89d1c10e9d4e957a7586f3725f1d0294badc - 1', '390a89d1c10e9d4e957a7586f3725f1d0294badc - 2', '390a89d1c10e9d4e957a7586f3725f1d0294badc - 25', '39dc9db4a1539a7d0d8531e37a10f3d885edb40b - 0', '39dc9db4a1539a7d0d8531e37a10f3d885edb40b - 1', '39dc9db4a1539a7d0d8531e37a10f3d885edb40b - 2', '3a33a9492d3965c2befe681cb9a01a503d0e993f - 0', '3a33a9492d3965c2befe681cb9a01a503d0e993f - 1', '3a33a9492d3965c2befe681cb9a01a503d0e993f - 2', '3a9e3538bf79aaa0faf4080e3e6a9b549cdbb0c3 - 0', '3a9e3538bf79aaa0faf4080e3e6a9b549cdbb0c3 - 1', '3a9e3538bf79aaa0faf4080e3e6a9b549cdbb0c3 - 3', '3af599c6b388fb75b45af499a3afb0570eec8043 - 0', '3af599c6b388fb75b45af499a3afb0570eec8043 - 3', '3af599c6b388fb75b45af499a3afb0570eec8043 - 6', '3b8134d8ec874e839a192934cde4b06f5af2dcbb - 0', '3b8134d8ec874e839a192934cde4b06f5af2dcbb - 1', '3b8134d8ec874e839a192934cde4b06f5af2dcbb - 3', '3e4d4b1ac0bbfb664bd2fc38e380c08e4800b418 - 0', '3e4d4b1ac0bbfb664bd2fc38e380c08e4800b418 - 1', '3e4d4b1ac0bbfb664bd2fc38e380c08e4800b418 - 2', '4069e2b43c873e43ea2ae1774399118f3e59f78d - 0', '4069e2b43c873e43ea2ae1774399118f3e59f78d - 1', '4069e2b43c873e43ea2ae1774399118f3e59f78d - 2', '40f45f768f7468726ce0385faf41f917060ec59d - 0', '40f45f768f7468726ce0385faf41f917060ec59d - 1', '40f45f768f7468726ce0385faf41f917060ec59d - 2', '450f021f46f61a71603748dacc073269052466d3 - 0', '450f021f46f61a71603748dacc073269052466d3 - 1', '450f021f46f61a71603748dacc073269052466d3 - 2', '45a9f7a9c4cffb0a068b65b08ad091ba69c53d5c - 0', '45a9f7a9c4cffb0a068b65b08ad091ba69c53d5c - 3', '45a9f7a9c4cffb0a068b65b08ad091ba69c53d5c - 5', '4841003644d8b96ebd0a793e738714cbd8a9a043 - 0', '4841003644d8b96ebd0a793e738714cbd8a9a043 - 2', '4841003644d8b96ebd0a793e738714cbd8a9a043 - 4', '4851296c250b9dcc523b0c492f6f76e52f46c89e - 0', '4851296c250b9dcc523b0c492f6f76e52f46c89e - 1', '4851296c250b9dcc523b0c492f6f76e52f46c89e - 3', '4b80562c3fcf91b514ad3d84e1a68e70a25de704 - 0', '4b80562c3fcf91b514ad3d84e1a68e70a25de704 - 1', '4b80562c3fcf91b514ad3d84e1a68e70a25de704 - 2', '4f430d2025842aec264d9a817ec6969c2547c3a4 - 0', '4f430d2025842aec264d9a817ec6969c2547c3a4 - 1', '4f430d2025842aec264d9a817ec6969c2547c3a4 - 4', '4ff578b9094e4669548321b5972c66c93ad624ab - 0', '4ff578b9094e4669548321b5972c66c93ad624ab - 1', '4ff578b9094e4669548321b5972c66c93ad624ab - 2', '50da4b5ae3082ff8e9a18c37c12ce67be16c5589 - 0', '50da4b5ae3082ff8e9a18c37c12ce67be16c5589 - 2', '50da4b5ae3082ff8e9a18c37c12ce67be16c5589 - 3', '50e6a46711b64f333ddd3ce529097fa553c3913c - 0', '50e6a46711b64f333ddd3ce529097fa553c3913c - 1', '50e6a46711b64f333ddd3ce529097fa553c3913c - 2', '5185970121e48c60edd25f500cb991ff5d850b93 - 0', '5185970121e48c60edd25f500cb991ff5d850b93 - 1', '5185970121e48c60edd25f500cb991ff5d850b93 - 3', '545c8f27751b46e3f8da1228fa010bccaebb3530 - 0', '545c8f27751b46e3f8da1228fa010bccaebb3530 - 1', '545c8f27751b46e3f8da1228fa010bccaebb3530 - 2', '55b172e10a7ff6859630a2b7580b1356e9acbbc6 - 1', '55b172e10a7ff6859630a2b7580b1356e9acbbc6 - 4', '55b172e10a7ff6859630a2b7580b1356e9acbbc6 - 5', '55bf4247ff59faa6fca259524015c844c4ec9bf7 - 0', '55bf4247ff59faa6fca259524015c844c4ec9bf7 - 1', '55bf4247ff59faa6fca259524015c844c4ec9bf7 - 3', '560833702b373c238eae1bc1468d1d789cbbd6b7 - 1', '560833702b373c238eae1bc1468d1d789cbbd6b7 - 2', '560833702b373c238eae1bc1468d1d789cbbd6b7 - 4', '56637adc16e467c92183d66a08e25586bed52958 - 2', '56637adc16e467c92183d66a08e25586bed52958 - 8', '56637adc16e467c92183d66a08e25586bed52958 - 9', '56fbcd0758c6b657fd8d1efcd9054650ec762c93 - 1', '56fbcd0758c6b657fd8d1efcd9054650ec762c93 - 3', '56fbcd0758c6b657fd8d1efcd9054650ec762c93 - 20', '58f68866990a7627e63332fae2e30bec004c1312 - 2', '58f68866990a7627e63332fae2e30bec004c1312 - 6', '58f68866990a7627e63332fae2e30bec004c1312 - 0', '5a7b59bcb8fd89e42a7b75753aad0a59aa4b65a2 - 0', '5a7b59bcb8fd89e42a7b75753aad0a59aa4b65a2 - 1', '5a7b59bcb8fd89e42a7b75753aad0a59aa4b65a2 - 3', '5aadc78e8a3ed9060d4beb13059116bbc92b8e9d - 0', '5aadc78e8a3ed9060d4beb13059116bbc92b8e9d - 1', '5aadc78e8a3ed9060d4beb13059116bbc92b8e9d - 4', '5b821a039e38fd1f68d2f1756e7867e37982525d - 0', '5b821a039e38fd1f68d2f1756e7867e37982525d - 2', '5b821a039e38fd1f68d2f1756e7867e37982525d - 1', '5eddd5fe678bb88131fadfe43fb6656cc1d03e89 - 0', '5eddd5fe678bb88131fadfe43fb6656cc1d03e89 - 1', '5eddd5fe678bb88131fadfe43fb6656cc1d03e89 - 2', '5ef05ae9407e46a5751bdaf3c47d350c72f1c4ef - 0', '5ef05ae9407e46a5751bdaf3c47d350c72f1c4ef - 1', '5ef05ae9407e46a5751bdaf3c47d350c72f1c4ef - 6', '5f7b22025841c986946e4b8c4942b0c09c3cfbe3 - 0', '5f7b22025841c986946e4b8c4942b0c09c3cfbe3 - 1', '5f7b22025841c986946e4b8c4942b0c09c3cfbe3 - 7', '617bdf940ce3ba4b8d08055ac6db568a8a9e8c9c - 0', '617bdf940ce3ba4b8d08055ac6db568a8a9e8c9c - 1', '617bdf940ce3ba4b8d08055ac6db568a8a9e8c9c - 5', '631c801c6d3c84d6376baa296e0dc9efe9e0e723 - 1', '631c801c6d3c84d6376baa296e0dc9efe9e0e723 - 6', '631c801c6d3c84d6376baa296e0dc9efe9e0e723 - 0', '656f43d5890e147dbc6fef1d96e033e142bd5a34 - 0', '656f43d5890e147dbc6fef1d96e033e142bd5a34 - 1', '656f43d5890e147dbc6fef1d96e033e142bd5a34 - 2', '679bffec0d54d08bb1c0c77da6d59fd25dee95af - 0', '679bffec0d54d08bb1c0c77da6d59fd25dee95af - 2', '679bffec0d54d08bb1c0c77da6d59fd25dee95af - 4', '6a6d3da4e88604af338dfd6a40e17e95e4af2e20 - 0', '6a6d3da4e88604af338dfd6a40e17e95e4af2e20 - 1', '6a6d3da4e88604af338dfd6a40e17e95e4af2e20 - 2', '6c8571f08f03d8159209297ea474dec85c379e16 - 3', '6c8571f08f03d8159209297ea474dec85c379e16 - 20', '6c8571f08f03d8159209297ea474dec85c379e16 - 31', '6d11f3ce7a40f4d87dee28f507117f57d3708cf5 - 0', '6d11f3ce7a40f4d87dee28f507117f57d3708cf5 - 1', '6d11f3ce7a40f4d87dee28f507117f57d3708cf5 - 2', '70d9d7870cbcd0040db12628b3b5e73707e521fa - 2', '70d9d7870cbcd0040db12628b3b5e73707e521fa - 6', '70d9d7870cbcd0040db12628b3b5e73707e521fa - 8', '73d480fb4ac1f27ccbd502cfeb1d3c9f6fcda745 - 0', '73d480fb4ac1f27ccbd502cfeb1d3c9f6fcda745 - 1', '73d480fb4ac1f27ccbd502cfeb1d3c9f6fcda745 - 2', '751f6154994bf71e246ee9197ba7d099f2005dac - 1', '751f6154994bf71e246ee9197ba7d099f2005dac - 4', '751f6154994bf71e246ee9197ba7d099f2005dac - 6', '7a21fbd7012a9a042beb5ce610b2d24aaae6343f - 0', '7a21fbd7012a9a042beb5ce610b2d24aaae6343f - 1', '7a21fbd7012a9a042beb5ce610b2d24aaae6343f - 3', '7a2c3932b25b14fcd790f9ed21b798b33343c667 - 1', '7a2c3932b25b14fcd790f9ed21b798b33343c667 - 2', '7a2c3932b25b14fcd790f9ed21b798b33343c667 - 4', '7b68be37b256d43a8a5008c519506bdd7141f4e7 - 0', '7b68be37b256d43a8a5008c519506bdd7141f4e7 - 1', '7b68be37b256d43a8a5008c519506bdd7141f4e7 - 4', '7b6e3ef78add5d966f5421619401310fb100e613 - 5', '7b6e3ef78add5d966f5421619401310fb100e613 - 11', '7b6e3ef78add5d966f5421619401310fb100e613 - 14', '7c50828d1dd5ebf11762df0b77b2414e01f7357c - 0', '7c50828d1dd5ebf11762df0b77b2414e01f7357c - 1', '7c50828d1dd5ebf11762df0b77b2414e01f7357c - 3', '7cd4a374d2691e639e502d2f79d0d26528e6e83e - 0', '7cd4a374d2691e639e502d2f79d0d26528e6e83e - 1', '7cd4a374d2691e639e502d2f79d0d26528e6e83e - 2', '833206678fc8081898b0441d35170a904ad824ee - 2', '833206678fc8081898b0441d35170a904ad824ee - 3', '833206678fc8081898b0441d35170a904ad824ee - 4', '86ecfd08dd6416a021d6c74c4828ed998f830e26 - 0', '86ecfd08dd6416a021d6c74c4828ed998f830e26 - 5', '86ecfd08dd6416a021d6c74c4828ed998f830e26 - 10', '8770e1eb3c285c8730dea408867ed840584ce39b - 0', '8770e1eb3c285c8730dea408867ed840584ce39b - 1', '8770e1eb3c285c8730dea408867ed840584ce39b - 3', '8addcbd47a6942c6c4c1d8cdbb37e6c00dc0e22e - 0', '8addcbd47a6942c6c4c1d8cdbb37e6c00dc0e22e - 1', '8addcbd47a6942c6c4c1d8cdbb37e6c00dc0e22e - 2', '8d68351a4e27455eea5c6af510feecdb1ae511a4 - 0', '8d68351a4e27455eea5c6af510feecdb1ae511a4 - 5', '8d68351a4e27455eea5c6af510feecdb1ae511a4 - 10', '8e7e0427e71e59871d7067e6be3e7e8917e99432 - 0', '8e7e0427e71e59871d7067e6be3e7e8917e99432 - 1', '8e7e0427e71e59871d7067e6be3e7e8917e99432 - 2', '8ea357c0d80b131b7939142bcb375d07dd5bbb0c - 0', '8ea357c0d80b131b7939142bcb375d07dd5bbb0c - 1', '8ea357c0d80b131b7939142bcb375d07dd5bbb0c - 2', '8f7a12eac9db135f01edf48a9f0e7a18e59fb9d4 - 0', '8f7a12eac9db135f01edf48a9f0e7a18e59fb9d4 - 1', '8f7a12eac9db135f01edf48a9f0e7a18e59fb9d4 - 4', '92a58ce94a641eeb40c90c43720b394c6adff98f - 0', '92a58ce94a641eeb40c90c43720b394c6adff98f - 5', '92a58ce94a641eeb40c90c43720b394c6adff98f - 7', '944561c102ea5b11a687812eba0d0c837dd3645d - 1', '944561c102ea5b11a687812eba0d0c837dd3645d - 10', '944561c102ea5b11a687812eba0d0c837dd3645d - 36', '97906470e0929e44577d013849268848003e0b66 - 0', '97906470e0929e44577d013849268848003e0b66 - 2', '97906470e0929e44577d013849268848003e0b66 - 5', '98b53b2b5630b74301991b9e33c8d60783cdf83b - 0', '98b53b2b5630b74301991b9e33c8d60783cdf83b - 1', '98b53b2b5630b74301991b9e33c8d60783cdf83b - 3', '99c747822fe779b0c65db5d08e4157142241ae42 - 0', '99c747822fe779b0c65db5d08e4157142241ae42 - 2', '99c747822fe779b0c65db5d08e4157142241ae42 - 6', '9b1c60a228d0d3d3ff5e49c46c4b68e596903ff1 - 0', '9b1c60a228d0d3d3ff5e49c46c4b68e596903ff1 - 1', '9b1c60a228d0d3d3ff5e49c46c4b68e596903ff1 - 3', 'a48f6799daa8392ce82525b0cb8b89efcaa3864e - 0', 'a48f6799daa8392ce82525b0cb8b89efcaa3864e - 1', 'a48f6799daa8392ce82525b0cb8b89efcaa3864e - 3', 'a98ed7d5f64344a8b49fdc20e6487cfb5736231c - 0', 'a98ed7d5f64344a8b49fdc20e6487cfb5736231c - 1', 'a98ed7d5f64344a8b49fdc20e6487cfb5736231c - 2', 'b2e3d8de479264ba3a02685b7991487b78d20f44 - 0', 'b2e3d8de479264ba3a02685b7991487b78d20f44 - 1', 'b2e3d8de479264ba3a02685b7991487b78d20f44 - 2', 'b688f06b6176438d38f6f0de272442d7d705af2a - 0', 'b688f06b6176438d38f6f0de272442d7d705af2a - 1', 'b688f06b6176438d38f6f0de272442d7d705af2a - 4', 'b70da3a64ff259dde57a53fb0a12353fefb66e5f - 1', 'b70da3a64ff259dde57a53fb0a12353fefb66e5f - 5', 'b70da3a64ff259dde57a53fb0a12353fefb66e5f - 0', 'b8eb7616a379e1a727eb78d88d68ba2b5d79017c - 0', 'b8eb7616a379e1a727eb78d88d68ba2b5d79017c - 2', 'b8eb7616a379e1a727eb78d88d68ba2b5d79017c - 3', 'c05b63620d45cb155ba117037c08ea5b31f70ba0 - 0', 'c05b63620d45cb155ba117037c08ea5b31f70ba0 - 1', 'c05b63620d45cb155ba117037c08ea5b31f70ba0 - 2', 'c3fc45306b0cb80ee20522aff3a648295b592886 - 15', 'c3fc45306b0cb80ee20522aff3a648295b592886 - 17', 'c3fc45306b0cb80ee20522aff3a648295b592886 - 19', 'c89600c7cbd57e851ff81c76299066525b83c227 - 0', 'c89600c7cbd57e851ff81c76299066525b83c227 - 1', 'c89600c7cbd57e851ff81c76299066525b83c227 - 2', 'c8dededa148acf6a8a573c0469d17e2bcdb0452d - 0', 'c8dededa148acf6a8a573c0469d17e2bcdb0452d - 1', 'c8dededa148acf6a8a573c0469d17e2bcdb0452d - 2', 'd093d988ba09940c73f8a793a159f8eadefa4882 - 0', 'd093d988ba09940c73f8a793a159f8eadefa4882 - 1', 'd093d988ba09940c73f8a793a159f8eadefa4882 - 2', 'd13834883ac7124f56c7e08408a1ff184f52de98 - 1', 'd13834883ac7124f56c7e08408a1ff184f52de98 - 0', 'd13834883ac7124f56c7e08408a1ff184f52de98 - 2', 'd4287f044f2056ef23f53e0ea2a3c54a0ad8ff7a - 0', 'd4287f044f2056ef23f53e0ea2a3c54a0ad8ff7a - 1', 'd4287f044f2056ef23f53e0ea2a3c54a0ad8ff7a - 2', 'da645b6de7f2f0b4d96b7b5dab962540d78d6aad - 1', 'da645b6de7f2f0b4d96b7b5dab962540d78d6aad - 2', 'da645b6de7f2f0b4d96b7b5dab962540d78d6aad - 11', 'dd9414d42ebeb8749682679ddad8805cf4e8cdc6 - 0', 'dd9414d42ebeb8749682679ddad8805cf4e8cdc6 - 1', 'dd9414d42ebeb8749682679ddad8805cf4e8cdc6 - 4', 'df44790dae2945cd09e1572ffa07b629ae05b8f6 - 0', 'df44790dae2945cd09e1572ffa07b629ae05b8f6 - 1', 'df44790dae2945cd09e1572ffa07b629ae05b8f6 - 6', 'e03bd819c47d90a3bdaf707bb2a4905fd627cadb - 0', 'e03bd819c47d90a3bdaf707bb2a4905fd627cadb - 1', 'e03bd819c47d90a3bdaf707bb2a4905fd627cadb - 3', 'e1888a93a005068e7f3b46618e575c92b8def542 - 0', 'e1888a93a005068e7f3b46618e575c92b8def542 - 1', 'e1888a93a005068e7f3b46618e575c92b8def542 - 2', 'e6594da7378c2d51519d271e15e1df3637eb6aa5 - 0', 'e6594da7378c2d51519d271e15e1df3637eb6aa5 - 1', 'e6594da7378c2d51519d271e15e1df3637eb6aa5 - 2', 'e79adc659be81f02e9b4109aa1e31c350520f63a - 0', 'e79adc659be81f02e9b4109aa1e31c350520f63a - 1', 'e79adc659be81f02e9b4109aa1e31c350520f63a - 2', 'e98d53f86df343bfea99296ca533e13a4db0306b - 1', 'e98d53f86df343bfea99296ca533e13a4db0306b - 2', 'e98d53f86df343bfea99296ca533e13a4db0306b - 4', 'ec713263a80a67abf34fa84269bc25a5115331ae - 0', 'ec713263a80a67abf34fa84269bc25a5115331ae - 1', 'ec713263a80a67abf34fa84269bc25a5115331ae - 3', 'f1800e637e0dbd90a58b2bcfa980fcbbbab1e0bb - 0', 'f1800e637e0dbd90a58b2bcfa980fcbbbab1e0bb - 1', 'f1800e637e0dbd90a58b2bcfa980fcbbbab1e0bb - 2', 'f37ed22fd1c86121c483d7a78058e84a798babb9 - 2', 'f37ed22fd1c86121c483d7a78058e84a798babb9 - 8', 'f37ed22fd1c86121c483d7a78058e84a798babb9 - 10', 'f7b25ae2d51010ec62051aa98b16cd296e30ea8e - 0', 'f7b25ae2d51010ec62051aa98b16cd296e30ea8e - 1', 'f7b25ae2d51010ec62051aa98b16cd296e30ea8e - 2', 'f9aad12829280f11a942f2acfa7061903e9784a2 - 0', 'f9aad12829280f11a942f2acfa7061903e9784a2 - 2', 'f9aad12829280f11a942f2acfa7061903e9784a2 - 3', 'f9ff3271266864347d4c612ea485d3dd8fb63543 - 0', 'f9ff3271266864347d4c612ea485d3dd8fb63543 - 4', 'f9ff3271266864347d4c612ea485d3dd8fb63543 - 5', 'fbd61041de313aba2ac52f68aab4105605816728 - 0', 'fbd61041de313aba2ac52f68aab4105605816728 - 4', 'fbd61041de313aba2ac52f68aab4105605816728 - 7', 'fbf12fdbf6cd69bca8c31cb348b428fd49b73320 - 0', 'fbf12fdbf6cd69bca8c31cb348b428fd49b73320 - 2', 'fbf12fdbf6cd69bca8c31cb348b428fd49b73320 - 3', 'fc5b438a9e81b4a2e2ef057b844e38b08f2997fe - 4', 'fc5b438a9e81b4a2e2ef057b844e38b08f2997fe - 16', 'fc5b438a9e81b4a2e2ef057b844e38b08f2997fe - 34', 'ff9c1536bfa6ee669b800b6e9db04d9a9751dda1 - 0', 'ff9c1536bfa6ee669b800b6e9db04d9a9751dda1 - 2', 'ff9c1536bfa6ee669b800b6e9db04d9a9751dda1 - 3', 'ffff11a2f44d731cd80c86819a89b7e227581415 - 4', 'ffff11a2f44d731cd80c86819a89b7e227581415 - 42', 'ffff11a2f44d731cd80c86819a89b7e227581415 - 43']\n"
     ]
    }
   ],
   "source": [
    "selected_sentences = output_df.index.values\n",
    "selected_sentences = selected_sentences.tolist()\n"
   ]
  },
  {
   "cell_type": "code",
   "execution_count": 41,
   "id": "c4a6cb0b-5907-42f8-a5a9-c0ac030ce1bd",
   "metadata": {},
   "outputs": [
    {
     "name": "stdout",
     "output_type": "stream",
     "text": [
      "    y_pred\n",
      "0        1\n",
      "1        1\n",
      "2        1\n",
      "3        0\n",
      "4        0\n",
      "5        0\n",
      "6        0\n",
      "7        0\n",
      "8        0\n",
      "9        0\n",
      "10       0\n",
      "11       0\n",
      "12       0\n",
      "13       0\n",
      "14       0\n",
      "15       0\n",
      "16       0\n",
      "17       0\n",
      "18       0\n",
      "19       0\n"
     ]
    }
   ],
   "source": [
    "y_pred = [1 if x in selected_sentences else 0 for x in X_test_ids]\n",
    "\n",
    "y_pred_df = pd.DataFrame(\n",
    "    {'y_pred': y_pred,\n",
    "    })\n",
    "\n",
    "print(y_pred_df.head(20))"
   ]
  },
  {
   "cell_type": "code",
   "execution_count": 42,
   "id": "b65edb34-9f6c-43ac-9d2a-15aaf32ffeeb",
   "metadata": {},
   "outputs": [],
   "source": [
    "y_pred_df.to_csv('downsampled_predictions.csv', index=False)"
   ]
  },
  {
   "cell_type": "code",
   "execution_count": 43,
   "id": "99339787-bbe6-4560-af18-6fc6e8bf3a30",
   "metadata": {},
   "outputs": [],
   "source": [
    "from rouge_score import rouge_scorer"
   ]
  },
  {
   "cell_type": "code",
   "execution_count": 44,
   "id": "75ca0999-45d2-4b4a-8450-4ce68b2a9f77",
   "metadata": {},
   "outputs": [],
   "source": [
    "final_test_df = pd.read_csv(\"summary_generation.csv\")\n",
    "preds = pd.read_csv('downsampled_predictions.csv')\n",
    "# Concatenate the DataFrames along columns\n",
    "combi = pd.concat([final_test_df, preds], axis=1)"
   ]
  },
  {
   "cell_type": "code",
   "execution_count": 45,
   "id": "4101b7f3-d288-4e4e-ae99-18e80d692f59",
   "metadata": {},
   "outputs": [
    {
     "name": "stdout",
     "output_type": "stream",
     "text": [
      "0         <class 'str'>\n",
      "1         <class 'str'>\n",
      "2         <class 'str'>\n",
      "3         <class 'str'>\n",
      "4         <class 'str'>\n",
      "              ...      \n",
      "396067    <class 'str'>\n",
      "396068    <class 'str'>\n",
      "396069    <class 'str'>\n",
      "396070    <class 'str'>\n",
      "396071    <class 'str'>\n",
      "Name: sentences, Length: 396072, dtype: object\n"
     ]
    }
   ],
   "source": [
    "# Convert the string representation of a list into a single, nomral string where the words are joined by spaces.\n",
    "import ast\n",
    "\n",
    "combi['sentences'] = combi['sentences'].apply(lambda x: ' '.join(ast.literal_eval(x)))\n",
    "print(combi['sentences'].apply(type))"
   ]
  },
  {
   "cell_type": "code",
   "execution_count": 46,
   "id": "8c6dc7fa-25ce-4eae-aedc-c79ac9f105ea",
   "metadata": {},
   "outputs": [],
   "source": [
    "# Convert into normal strings.\n",
    "combi['high_tokenized'] = combi['high_tokenized'].apply(lambda x: ' '.join([' '.join(sentence) for sentence in ast.literal_eval(x)]))"
   ]
  },
  {
   "cell_type": "code",
   "execution_count": 47,
   "id": "82809e66-7a88-4905-b292-255e562e4c48",
   "metadata": {},
   "outputs": [],
   "source": [
    "# Remove \\r\\n.\n",
    "combi['high_tokenized'] = combi['high_tokenized'].apply(lambda x: x.replace(' \\r\\n ', ' '))"
   ]
  },
  {
   "cell_type": "code",
   "execution_count": 48,
   "id": "03ee2d9f-1f6a-4fdf-9bac-ae2e1972bd0a",
   "metadata": {},
   "outputs": [],
   "source": [
    "import re\n",
    "\n",
    "# Replace a period followed by two or more spaces, with a period followed by one space.\n",
    "def clean_extra_spaces_after_period(text):\n",
    "    return re.sub(r'\\. +', '. ', text)\n",
    "\n",
    "combi['high_tokenized'] = combi['high_tokenized'].apply(clean_extra_spaces_after_period)"
   ]
  },
  {
   "cell_type": "code",
   "execution_count": 49,
   "id": "75a89ecf-169a-498e-97f4-c128199b08fc",
   "metadata": {},
   "outputs": [],
   "source": [
    "# Extract unique 'id' values in the order they appear.\n",
    "unique_ids = combi['id'].unique()\n",
    "\n",
    "all_summaries = []\n",
    "\n",
    "for article_id in unique_ids:\n",
    "    # Filter for the specific 'id'.\n",
    "    group = combi[combi['id'] == article_id]\n",
    "    extracted_sentences = group.loc[group['y_pred'] == 1, 'sentences'].tolist()\n",
    "\n",
    "    # Join all sentences into a single summary paragraph.\n",
    "    summary_paragraph = ' '.join(extracted_sentences)\n",
    "\n",
    "    # Append the summary with the article ID.\n",
    "    formatted_summary = f'({article_id}) {summary_paragraph}'\n",
    "    all_summaries.append(formatted_summary)\n",
    "\n",
    "\n",
    "with open('ml_summaries_final.txt', 'w', encoding='utf-8') as file:\n",
    "    for summary in all_summaries:\n",
    "        file.write(summary + '\\n')"
   ]
  },
  {
   "cell_type": "code",
   "execution_count": 50,
   "id": "25c32f77-2dbd-4678-a32c-b918b00e6989",
   "metadata": {},
   "outputs": [],
   "source": [
    "unique_ids = combi['id'].unique()\n",
    "\n",
    "all_highlights = []\n",
    "\n",
    "for article_id in unique_ids:\n",
    "    group = combi[combi['id'] == article_id]\n",
    "    # Select only the highlight from the first row of each group.\n",
    "    first_row_highlight = group.iloc[0]['high_tokenized']\n",
    "    formatted_highlight = f'({article_id}) {first_row_highlight}'\n",
    "    all_highlights.append(formatted_highlight)\n",
    "\n",
    "with open('ml_highlights_final.txt', 'w', encoding='utf-8') as file:\n",
    "    for highlight in all_highlights:\n",
    "        file.write(highlight + '\\n')"
   ]
  },
  {
   "cell_type": "code",
   "execution_count": 51,
   "id": "0d1164fa-26d4-41a9-95a2-79ff2fd516b4",
   "metadata": {},
   "outputs": [
    {
     "name": "stdout",
     "output_type": "stream",
     "text": [
      "       precision  recall  fmeasure\n",
      "0          0.114   0.273     0.161\n",
      "1          0.011   0.024     0.015\n",
      "2          0.000   0.000     0.000\n",
      "3          0.000   0.000     0.000\n",
      "4          0.103   0.146     0.121\n",
      "...          ...     ...       ...\n",
      "11485      0.000   0.000     0.000\n",
      "11486      0.000   0.000     0.000\n",
      "11487      0.000   0.000     0.000\n",
      "11488      0.000   0.000     0.000\n",
      "11489      0.000   0.000     0.000\n",
      "\n",
      "[11490 rows x 3 columns]\n"
     ]
    }
   ],
   "source": [
    "from rouge_score import rouge_scorer\n",
    "import pandas as pd\n",
    "\n",
    "def calculate_rouge_scores(highlight, summary, scorer):\n",
    "    scores = scorer.score(highlight, summary)\n",
    "    return {'precision': round(scores['rouge2'].precision, 3),\n",
    "            'recall': round(scores['rouge2'].recall, 3),\n",
    "            'fmeasure': round(scores['rouge2'].fmeasure, 3)}\n",
    "\n",
    "# Extract text after article ID.\n",
    "def extract_text_after_id(text):\n",
    "    return text.split(') ', 1)[1] if ') ' in text else text\n",
    "\n",
    "with open('ml_summaries_final.txt', 'r', encoding='utf-8') as file:\n",
    "    predicted_summaries = file.readlines()\n",
    "\n",
    "with open('ml_highlights_final.txt', 'r', encoding='utf-8') as file:\n",
    "    golden_summaries = file.readlines()\n",
    "\n",
    "article_data = []\n",
    "\n",
    "scorer = rouge_scorer.RougeScorer(['rouge2'], use_stemmer=False)\n",
    "\n",
    "for pred_summary, gold_summary in zip(predicted_summaries, golden_summaries):\n",
    "    pred_text = extract_text_after_id(pred_summary.strip())\n",
    "    gold_text = extract_text_after_id(gold_summary.strip())\n",
    "\n",
    "    rouge_scores = calculate_rouge_scores(gold_text, pred_text, scorer)\n",
    "\n",
    "    article_data.append(rouge_scores)\n",
    "\n",
    "result_df = pd.DataFrame(article_data)\n",
    "\n",
    "print(result_df)"
   ]
  },
  {
   "cell_type": "code",
   "execution_count": 52,
   "id": "232aad79-e531-4338-98cc-5294fa7fbe00",
   "metadata": {},
   "outputs": [
    {
     "name": "stdout",
     "output_type": "stream",
     "text": [
      "Mean Precision: 0.0, Std Precision: 0.007\n",
      "Mean Recall: 0.001, Std Recall: 0.013\n",
      "Mean F-Measure: 0.0, Std F-Measure: 0.008\n"
     ]
    }
   ],
   "source": [
    "# Calculate mean and std for precision, recall, and f-measure\n",
    "mean_precision = round(result_df['precision'].mean(), 3)\n",
    "std_precision = round(result_df['precision'].std(), 3)\n",
    "\n",
    "mean_recall = round(result_df['recall'].mean(), 3)\n",
    "std_recall = round(result_df['recall'].std(), 3)\n",
    "\n",
    "mean_fmeasure = round(result_df['fmeasure'].mean(), 3)\n",
    "std_fmeasure = round(result_df['fmeasure'].std(), 3)\n",
    "\n",
    "# Print the results\n",
    "print(f\"Mean Precision: {mean_precision}, Std Precision: {std_precision}\")\n",
    "print(f\"Mean Recall: {mean_recall}, Std Recall: {std_recall}\")\n",
    "print(f\"Mean F-Measure: {mean_fmeasure}, Std F-Measure: {std_fmeasure}\")"
   ]
  },
  {
   "cell_type": "code",
   "execution_count": null,
   "id": "804559bb-f31e-4c01-a8a2-d886e7b59801",
   "metadata": {},
   "outputs": [],
   "source": []
  }
 ],
 "metadata": {
  "kernelspec": {
   "display_name": "Python 3 (ipykernel)",
   "language": "python",
   "name": "python3"
  },
  "language_info": {
   "codemirror_mode": {
    "name": "ipython",
    "version": 3
   },
   "file_extension": ".py",
   "mimetype": "text/x-python",
   "name": "python",
   "nbconvert_exporter": "python",
   "pygments_lexer": "ipython3",
   "version": "3.9.18"
  }
 },
 "nbformat": 4,
 "nbformat_minor": 5
}
